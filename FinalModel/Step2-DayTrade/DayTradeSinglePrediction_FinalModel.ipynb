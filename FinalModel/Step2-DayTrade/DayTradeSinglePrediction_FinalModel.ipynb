{
  "nbformat": 4,
  "nbformat_minor": 0,
  "metadata": {
    "kernelspec": {
      "display_name": "Python 3",
      "language": "python",
      "name": "python3"
    },
    "language_info": {
      "codemirror_mode": {
        "name": "ipython",
        "version": 3
      },
      "file_extension": ".py",
      "mimetype": "text/x-python",
      "name": "python",
      "nbconvert_exporter": "python",
      "pygments_lexer": "ipython3",
      "version": "3.6.8"
    },
    "colab": {
      "name": "DayTradeSinglePrediction_FinalModel.ipynb",
      "provenance": [],
      "collapsed_sections": [],
      "toc_visible": true,
      "include_colab_link": true
    }
  },
  "cells": [
    {
      "cell_type": "markdown",
      "metadata": {
        "id": "view-in-github",
        "colab_type": "text"
      },
      "source": [
        "<a href=\"https://colab.research.google.com/github/kmaciver/Ryerson_Capstone/blob/master/FinalModel/Step2-DayTrade/DayTradeSinglePrediction_FinalModel.ipynb\" target=\"_parent\"><img src=\"https://colab.research.google.com/assets/colab-badge.svg\" alt=\"Open In Colab\"/></a>"
      ]
    },
    {
      "cell_type": "code",
      "metadata": {
        "id": "Ucrs5sJ-mh5G",
        "colab_type": "code",
        "outputId": "b94f9197-0ebd-4c39-be7c-8c5bdab1d54a",
        "colab": {
          "base_uri": "https://localhost:8080/",
          "height": 126
        }
      },
      "source": [
        "from google.colab import drive\n",
        "drive.mount('/content/drive')"
      ],
      "execution_count": 0,
      "outputs": [
        {
          "output_type": "stream",
          "text": [
            "Go to this URL in a browser: https://accounts.google.com/o/oauth2/auth?client_id=947318989803-6bn6qk8qdgf4n4g3pfee6491hc0brc4i.apps.googleusercontent.com&redirect_uri=urn%3aietf%3awg%3aoauth%3a2.0%3aoob&response_type=code&scope=email%20https%3a%2f%2fwww.googleapis.com%2fauth%2fdocs.test%20https%3a%2f%2fwww.googleapis.com%2fauth%2fdrive%20https%3a%2f%2fwww.googleapis.com%2fauth%2fdrive.photos.readonly%20https%3a%2f%2fwww.googleapis.com%2fauth%2fpeopleapi.readonly\n",
            "\n",
            "Enter your authorization code:\n",
            "··········\n",
            "Mounted at /content/drive\n"
          ],
          "name": "stdout"
        }
      ]
    },
    {
      "cell_type": "code",
      "metadata": {
        "id": "4QB9qARYlsLR",
        "colab_type": "code",
        "colab": {}
      },
      "source": [
        "%matplotlib inline\n",
        "import matplotlib.pyplot as plt\n",
        "import tensorflow as tf\n",
        "import numpy as np\n",
        "import pandas as pd\n",
        "import os\n",
        "from sklearn.preprocessing import MinMaxScaler, StandardScaler, QuantileTransformer\n",
        "from tensorflow.keras.preprocessing.sequence import TimeseriesGenerator"
      ],
      "execution_count": 0,
      "outputs": []
    },
    {
      "cell_type": "code",
      "metadata": {
        "id": "ms9FlgRKlsLg",
        "colab_type": "code",
        "colab": {}
      },
      "source": [
        "from tensorflow.python.keras.models import Sequential\n",
        "from tensorflow.python.keras.layers import Input, Dense, GRU, Embedding, LSTM, TimeDistributed, Lambda, Dropout\n",
        "from tensorflow.python.keras.optimizers import RMSprop, Adam\n",
        "from tensorflow.python.keras.callbacks import EarlyStopping, ModelCheckpoint, TensorBoard, ReduceLROnPlateau\n",
        "from tensorflow.python.keras import backend as K\n",
        "from tensorflow.python.keras import losses\n",
        "import warnings\n",
        "warnings.filterwarnings('ignore')\n",
        "import random as rand\n",
        "from random import randint\n",
        "from numpy.random import seed\n",
        "seed(10)\n",
        "from tensorflow.compat.v1 import set_random_seed\n",
        "set_random_seed(2)\n"
      ],
      "execution_count": 0,
      "outputs": []
    },
    {
      "cell_type": "code",
      "metadata": {
        "id": "aLY_ntS2lsLp",
        "colab_type": "code",
        "outputId": "69365d11-6e3f-4b5e-a6fa-d56542ee8a26",
        "colab": {
          "base_uri": "https://localhost:8080/",
          "height": 412
        }
      },
      "source": [
        "file_path = \"/content/drive/My Drive/Capstone/Data Exploration/Day_trade_data.csv\"\n",
        "DayTrade = pd.read_csv(file_path, index_col='Time')\n",
        "DayTrade = DayTrade.drop([DayTrade.columns[0]] ,  axis='columns')\n",
        "DayTrade.head()"
      ],
      "execution_count": 0,
      "outputs": [
        {
          "output_type": "execute_result",
          "data": {
            "text/html": [
              "<div>\n",
              "<style scoped>\n",
              "    .dataframe tbody tr th:only-of-type {\n",
              "        vertical-align: middle;\n",
              "    }\n",
              "\n",
              "    .dataframe tbody tr th {\n",
              "        vertical-align: top;\n",
              "    }\n",
              "\n",
              "    .dataframe thead th {\n",
              "        text-align: right;\n",
              "    }\n",
              "</style>\n",
              "<table border=\"1\" class=\"dataframe\">\n",
              "  <thead>\n",
              "    <tr style=\"text-align: right;\">\n",
              "      <th></th>\n",
              "      <th>Open</th>\n",
              "      <th>High</th>\n",
              "      <th>Low</th>\n",
              "      <th>Close</th>\n",
              "      <th>Volume_.BTC.</th>\n",
              "      <th>Volume_.Currency.</th>\n",
              "      <th>Weighted_Price</th>\n",
              "      <th>date</th>\n",
              "      <th>Open_RoC</th>\n",
              "      <th>High_RoC</th>\n",
              "      <th>Low_RoC</th>\n",
              "      <th>Close_RoC</th>\n",
              "      <th>Weighted_Price_RoC</th>\n",
              "      <th>RSI</th>\n",
              "      <th>MACD_index</th>\n",
              "      <th>slow_stoch</th>\n",
              "    </tr>\n",
              "    <tr>\n",
              "      <th>Time</th>\n",
              "      <th></th>\n",
              "      <th></th>\n",
              "      <th></th>\n",
              "      <th></th>\n",
              "      <th></th>\n",
              "      <th></th>\n",
              "      <th></th>\n",
              "      <th></th>\n",
              "      <th></th>\n",
              "      <th></th>\n",
              "      <th></th>\n",
              "      <th></th>\n",
              "      <th></th>\n",
              "      <th></th>\n",
              "      <th></th>\n",
              "      <th></th>\n",
              "    </tr>\n",
              "  </thead>\n",
              "  <tbody>\n",
              "    <tr>\n",
              "      <th>2013-04-03 00:00:00</th>\n",
              "      <td>116.00</td>\n",
              "      <td>116.00</td>\n",
              "      <td>116.00</td>\n",
              "      <td>116.00</td>\n",
              "      <td>31.713233</td>\n",
              "      <td>3678.735005</td>\n",
              "      <td>116.000000</td>\n",
              "      <td>2013-04-03</td>\n",
              "      <td>0.000000</td>\n",
              "      <td>0.000000</td>\n",
              "      <td>0.000000</td>\n",
              "      <td>0.000000</td>\n",
              "      <td>0.000000</td>\n",
              "      <td>33.333333</td>\n",
              "      <td>-0.36038</td>\n",
              "      <td>0.084906</td>\n",
              "    </tr>\n",
              "    <tr>\n",
              "      <th>2013-04-03 00:01:00</th>\n",
              "      <td>116.00</td>\n",
              "      <td>116.00</td>\n",
              "      <td>116.00</td>\n",
              "      <td>116.00</td>\n",
              "      <td>31.713233</td>\n",
              "      <td>3678.735005</td>\n",
              "      <td>116.000000</td>\n",
              "      <td>2013-04-03</td>\n",
              "      <td>0.000000</td>\n",
              "      <td>0.000000</td>\n",
              "      <td>0.000000</td>\n",
              "      <td>0.000000</td>\n",
              "      <td>0.000000</td>\n",
              "      <td>33.333333</td>\n",
              "      <td>-0.36038</td>\n",
              "      <td>0.084906</td>\n",
              "    </tr>\n",
              "    <tr>\n",
              "      <th>2013-04-03 00:02:00</th>\n",
              "      <td>116.00</td>\n",
              "      <td>116.58</td>\n",
              "      <td>116.00</td>\n",
              "      <td>116.58</td>\n",
              "      <td>2.050985</td>\n",
              "      <td>238.357034</td>\n",
              "      <td>116.215883</td>\n",
              "      <td>2013-04-03</td>\n",
              "      <td>0.000000</td>\n",
              "      <td>0.004988</td>\n",
              "      <td>0.000000</td>\n",
              "      <td>0.004988</td>\n",
              "      <td>0.001859</td>\n",
              "      <td>33.333333</td>\n",
              "      <td>-0.36038</td>\n",
              "      <td>0.084906</td>\n",
              "    </tr>\n",
              "    <tr>\n",
              "      <th>2013-04-03 00:03:00</th>\n",
              "      <td>116.98</td>\n",
              "      <td>117.00</td>\n",
              "      <td>116.98</td>\n",
              "      <td>117.00</td>\n",
              "      <td>23.000000</td>\n",
              "      <td>2690.890000</td>\n",
              "      <td>116.995217</td>\n",
              "      <td>2013-04-03</td>\n",
              "      <td>0.008413</td>\n",
              "      <td>0.003596</td>\n",
              "      <td>0.008413</td>\n",
              "      <td>0.003596</td>\n",
              "      <td>0.006684</td>\n",
              "      <td>33.333333</td>\n",
              "      <td>-0.36038</td>\n",
              "      <td>0.084906</td>\n",
              "    </tr>\n",
              "    <tr>\n",
              "      <th>2013-04-03 00:04:00</th>\n",
              "      <td>117.00</td>\n",
              "      <td>117.00</td>\n",
              "      <td>117.00</td>\n",
              "      <td>117.00</td>\n",
              "      <td>50.000000</td>\n",
              "      <td>5850.000000</td>\n",
              "      <td>117.000000</td>\n",
              "      <td>2013-04-03</td>\n",
              "      <td>0.000171</td>\n",
              "      <td>0.000000</td>\n",
              "      <td>0.000171</td>\n",
              "      <td>0.000000</td>\n",
              "      <td>0.000041</td>\n",
              "      <td>33.333333</td>\n",
              "      <td>-0.36038</td>\n",
              "      <td>0.084906</td>\n",
              "    </tr>\n",
              "  </tbody>\n",
              "</table>\n",
              "</div>"
            ],
            "text/plain": [
              "                       Open    High     Low  ...        RSI  MACD_index  slow_stoch\n",
              "Time                                         ...                                   \n",
              "2013-04-03 00:00:00  116.00  116.00  116.00  ...  33.333333    -0.36038    0.084906\n",
              "2013-04-03 00:01:00  116.00  116.00  116.00  ...  33.333333    -0.36038    0.084906\n",
              "2013-04-03 00:02:00  116.00  116.58  116.00  ...  33.333333    -0.36038    0.084906\n",
              "2013-04-03 00:03:00  116.98  117.00  116.98  ...  33.333333    -0.36038    0.084906\n",
              "2013-04-03 00:04:00  117.00  117.00  117.00  ...  33.333333    -0.36038    0.084906\n",
              "\n",
              "[5 rows x 16 columns]"
            ]
          },
          "metadata": {
            "tags": []
          },
          "execution_count": 202
        }
      ]
    },
    {
      "cell_type": "markdown",
      "metadata": {
        "id": "XjHXkvf-lsLx",
        "colab_type": "text"
      },
      "source": [
        "Dropping Volume Currency as discussed in the Feature Selection phase"
      ]
    },
    {
      "cell_type": "code",
      "metadata": {
        "id": "oIlci9pwlsLz",
        "colab_type": "code",
        "colab": {}
      },
      "source": [
        "DayTrade = DayTrade.drop(columns='Volume_.Currency.')"
      ],
      "execution_count": 0,
      "outputs": []
    },
    {
      "cell_type": "code",
      "metadata": {
        "id": "Xat-lJpslsL8",
        "colab_type": "code",
        "outputId": "c9e9427f-a22c-43eb-f626-279b017b7b7e",
        "colab": {
          "base_uri": "https://localhost:8080/",
          "height": 223
        }
      },
      "source": [
        "#We need create a target data, which is basically a copy of the data that will be later shifted\n",
        "target_data = DayTrade.copy()\n",
        "target_data = target_data.iloc[:,5:7]\n",
        "target_data.head()"
      ],
      "execution_count": 0,
      "outputs": [
        {
          "output_type": "execute_result",
          "data": {
            "text/html": [
              "<div>\n",
              "<style scoped>\n",
              "    .dataframe tbody tr th:only-of-type {\n",
              "        vertical-align: middle;\n",
              "    }\n",
              "\n",
              "    .dataframe tbody tr th {\n",
              "        vertical-align: top;\n",
              "    }\n",
              "\n",
              "    .dataframe thead th {\n",
              "        text-align: right;\n",
              "    }\n",
              "</style>\n",
              "<table border=\"1\" class=\"dataframe\">\n",
              "  <thead>\n",
              "    <tr style=\"text-align: right;\">\n",
              "      <th></th>\n",
              "      <th>Weighted_Price</th>\n",
              "      <th>date</th>\n",
              "    </tr>\n",
              "    <tr>\n",
              "      <th>Time</th>\n",
              "      <th></th>\n",
              "      <th></th>\n",
              "    </tr>\n",
              "  </thead>\n",
              "  <tbody>\n",
              "    <tr>\n",
              "      <th>2013-04-03 00:00:00</th>\n",
              "      <td>116.000000</td>\n",
              "      <td>2013-04-03</td>\n",
              "    </tr>\n",
              "    <tr>\n",
              "      <th>2013-04-03 00:01:00</th>\n",
              "      <td>116.000000</td>\n",
              "      <td>2013-04-03</td>\n",
              "    </tr>\n",
              "    <tr>\n",
              "      <th>2013-04-03 00:02:00</th>\n",
              "      <td>116.215883</td>\n",
              "      <td>2013-04-03</td>\n",
              "    </tr>\n",
              "    <tr>\n",
              "      <th>2013-04-03 00:03:00</th>\n",
              "      <td>116.995217</td>\n",
              "      <td>2013-04-03</td>\n",
              "    </tr>\n",
              "    <tr>\n",
              "      <th>2013-04-03 00:04:00</th>\n",
              "      <td>117.000000</td>\n",
              "      <td>2013-04-03</td>\n",
              "    </tr>\n",
              "  </tbody>\n",
              "</table>\n",
              "</div>"
            ],
            "text/plain": [
              "                     Weighted_Price        date\n",
              "Time                                           \n",
              "2013-04-03 00:00:00      116.000000  2013-04-03\n",
              "2013-04-03 00:01:00      116.000000  2013-04-03\n",
              "2013-04-03 00:02:00      116.215883  2013-04-03\n",
              "2013-04-03 00:03:00      116.995217  2013-04-03\n",
              "2013-04-03 00:04:00      117.000000  2013-04-03"
            ]
          },
          "metadata": {
            "tags": []
          },
          "execution_count": 204
        }
      ]
    },
    {
      "cell_type": "markdown",
      "metadata": {
        "id": "dRCpL0F_lsMF",
        "colab_type": "text"
      },
      "source": [
        "The objective of the model is to predict 10 minutes ahead of the current timestep. The Day Trade data contains the minute to minute data for a total of 1735 days. The analysis must be limited within each day."
      ]
    },
    {
      "cell_type": "code",
      "metadata": {
        "id": "jNwvPFu2lsMI",
        "colab_type": "code",
        "colab": {}
      },
      "source": [
        "# Predict 10 minutes in the future, although the predictions must be wrapped around each day\n",
        "shift_steps = 10\n",
        "\n",
        "# Now that the target_data was created we need to shift the data so that the target values of 24 hours later aling with our\n",
        "# input data\n",
        "\n",
        "target_data = target_data.groupby('date').shift(-shift_steps)\n"
      ],
      "execution_count": 0,
      "outputs": []
    },
    {
      "cell_type": "markdown",
      "metadata": {
        "id": "Pwr1eLOglsMQ",
        "colab_type": "text"
      },
      "source": [
        "Here we double check that because we shifted the target values now we have NaN values at the end"
      ]
    },
    {
      "cell_type": "code",
      "metadata": {
        "id": "qkzvDkCtlsMS",
        "colab_type": "code",
        "outputId": "4dbcf524-4da9-45ac-d278-d569ef3cca44",
        "colab": {
          "base_uri": "https://localhost:8080/",
          "height": 956
        }
      },
      "source": [
        "target_data.iloc[1420:1450]"
      ],
      "execution_count": 0,
      "outputs": [
        {
          "output_type": "execute_result",
          "data": {
            "text/html": [
              "<div>\n",
              "<style scoped>\n",
              "    .dataframe tbody tr th:only-of-type {\n",
              "        vertical-align: middle;\n",
              "    }\n",
              "\n",
              "    .dataframe tbody tr th {\n",
              "        vertical-align: top;\n",
              "    }\n",
              "\n",
              "    .dataframe thead th {\n",
              "        text-align: right;\n",
              "    }\n",
              "</style>\n",
              "<table border=\"1\" class=\"dataframe\">\n",
              "  <thead>\n",
              "    <tr style=\"text-align: right;\">\n",
              "      <th></th>\n",
              "      <th>Weighted_Price</th>\n",
              "    </tr>\n",
              "    <tr>\n",
              "      <th>Time</th>\n",
              "      <th></th>\n",
              "    </tr>\n",
              "  </thead>\n",
              "  <tbody>\n",
              "    <tr>\n",
              "      <th>2013-04-03 23:40:00</th>\n",
              "      <td>129.900000</td>\n",
              "    </tr>\n",
              "    <tr>\n",
              "      <th>2013-04-03 23:41:00</th>\n",
              "      <td>129.900000</td>\n",
              "    </tr>\n",
              "    <tr>\n",
              "      <th>2013-04-03 23:42:00</th>\n",
              "      <td>129.899861</td>\n",
              "    </tr>\n",
              "    <tr>\n",
              "      <th>2013-04-03 23:43:00</th>\n",
              "      <td>129.892440</td>\n",
              "    </tr>\n",
              "    <tr>\n",
              "      <th>2013-04-03 23:44:00</th>\n",
              "      <td>130.049341</td>\n",
              "    </tr>\n",
              "    <tr>\n",
              "      <th>2013-04-03 23:45:00</th>\n",
              "      <td>131.371316</td>\n",
              "    </tr>\n",
              "    <tr>\n",
              "      <th>2013-04-03 23:46:00</th>\n",
              "      <td>132.534018</td>\n",
              "    </tr>\n",
              "    <tr>\n",
              "      <th>2013-04-03 23:47:00</th>\n",
              "      <td>132.912123</td>\n",
              "    </tr>\n",
              "    <tr>\n",
              "      <th>2013-04-03 23:48:00</th>\n",
              "      <td>132.819273</td>\n",
              "    </tr>\n",
              "    <tr>\n",
              "      <th>2013-04-03 23:49:00</th>\n",
              "      <td>133.091659</td>\n",
              "    </tr>\n",
              "    <tr>\n",
              "      <th>2013-04-03 23:50:00</th>\n",
              "      <td>NaN</td>\n",
              "    </tr>\n",
              "    <tr>\n",
              "      <th>2013-04-03 23:51:00</th>\n",
              "      <td>NaN</td>\n",
              "    </tr>\n",
              "    <tr>\n",
              "      <th>2013-04-03 23:52:00</th>\n",
              "      <td>NaN</td>\n",
              "    </tr>\n",
              "    <tr>\n",
              "      <th>2013-04-03 23:53:00</th>\n",
              "      <td>NaN</td>\n",
              "    </tr>\n",
              "    <tr>\n",
              "      <th>2013-04-03 23:54:00</th>\n",
              "      <td>NaN</td>\n",
              "    </tr>\n",
              "    <tr>\n",
              "      <th>2013-04-03 23:55:00</th>\n",
              "      <td>NaN</td>\n",
              "    </tr>\n",
              "    <tr>\n",
              "      <th>2013-04-03 23:56:00</th>\n",
              "      <td>NaN</td>\n",
              "    </tr>\n",
              "    <tr>\n",
              "      <th>2013-04-03 23:57:00</th>\n",
              "      <td>NaN</td>\n",
              "    </tr>\n",
              "    <tr>\n",
              "      <th>2013-04-03 23:58:00</th>\n",
              "      <td>NaN</td>\n",
              "    </tr>\n",
              "    <tr>\n",
              "      <th>2013-04-03 23:59:00</th>\n",
              "      <td>NaN</td>\n",
              "    </tr>\n",
              "    <tr>\n",
              "      <th>2013-04-08 00:00:00</th>\n",
              "      <td>164.628270</td>\n",
              "    </tr>\n",
              "    <tr>\n",
              "      <th>2013-04-08 00:01:00</th>\n",
              "      <td>164.971825</td>\n",
              "    </tr>\n",
              "    <tr>\n",
              "      <th>2013-04-08 00:02:00</th>\n",
              "      <td>164.990000</td>\n",
              "    </tr>\n",
              "    <tr>\n",
              "      <th>2013-04-08 00:03:00</th>\n",
              "      <td>164.986254</td>\n",
              "    </tr>\n",
              "    <tr>\n",
              "      <th>2013-04-08 00:04:00</th>\n",
              "      <td>164.998242</td>\n",
              "    </tr>\n",
              "    <tr>\n",
              "      <th>2013-04-08 00:05:00</th>\n",
              "      <td>164.960000</td>\n",
              "    </tr>\n",
              "    <tr>\n",
              "      <th>2013-04-08 00:06:00</th>\n",
              "      <td>164.960000</td>\n",
              "    </tr>\n",
              "    <tr>\n",
              "      <th>2013-04-08 00:07:00</th>\n",
              "      <td>164.960000</td>\n",
              "    </tr>\n",
              "    <tr>\n",
              "      <th>2013-04-08 00:08:00</th>\n",
              "      <td>164.960000</td>\n",
              "    </tr>\n",
              "    <tr>\n",
              "      <th>2013-04-08 00:09:00</th>\n",
              "      <td>164.960000</td>\n",
              "    </tr>\n",
              "  </tbody>\n",
              "</table>\n",
              "</div>"
            ],
            "text/plain": [
              "                     Weighted_Price\n",
              "Time                               \n",
              "2013-04-03 23:40:00      129.900000\n",
              "2013-04-03 23:41:00      129.900000\n",
              "2013-04-03 23:42:00      129.899861\n",
              "2013-04-03 23:43:00      129.892440\n",
              "2013-04-03 23:44:00      130.049341\n",
              "2013-04-03 23:45:00      131.371316\n",
              "2013-04-03 23:46:00      132.534018\n",
              "2013-04-03 23:47:00      132.912123\n",
              "2013-04-03 23:48:00      132.819273\n",
              "2013-04-03 23:49:00      133.091659\n",
              "2013-04-03 23:50:00             NaN\n",
              "2013-04-03 23:51:00             NaN\n",
              "2013-04-03 23:52:00             NaN\n",
              "2013-04-03 23:53:00             NaN\n",
              "2013-04-03 23:54:00             NaN\n",
              "2013-04-03 23:55:00             NaN\n",
              "2013-04-03 23:56:00             NaN\n",
              "2013-04-03 23:57:00             NaN\n",
              "2013-04-03 23:58:00             NaN\n",
              "2013-04-03 23:59:00             NaN\n",
              "2013-04-08 00:00:00      164.628270\n",
              "2013-04-08 00:01:00      164.971825\n",
              "2013-04-08 00:02:00      164.990000\n",
              "2013-04-08 00:03:00      164.986254\n",
              "2013-04-08 00:04:00      164.998242\n",
              "2013-04-08 00:05:00      164.960000\n",
              "2013-04-08 00:06:00      164.960000\n",
              "2013-04-08 00:07:00      164.960000\n",
              "2013-04-08 00:08:00      164.960000\n",
              "2013-04-08 00:09:00      164.960000"
            ]
          },
          "metadata": {
            "tags": []
          },
          "execution_count": 206
        }
      ]
    },
    {
      "cell_type": "code",
      "metadata": {
        "id": "K1suUnhXlsMa",
        "colab_type": "code",
        "colab": {}
      },
      "source": [
        "# Now we need to remove the rows with NaN values for the target data thus needing to exclude also the \n",
        "# 10 lines per day of the DayTrade data\n",
        "\n",
        "DayTrade['target'] = target_data['Weighted_Price']\n",
        "\n",
        "target_data['date'] = DayTrade['date']\n",
        "\n",
        "DayTrade_clean = DayTrade.dropna()\n",
        "target_data_clean = target_data.dropna()"
      ],
      "execution_count": 0,
      "outputs": []
    },
    {
      "cell_type": "code",
      "metadata": {
        "id": "7OObMTitlsMh",
        "colab_type": "code",
        "outputId": "e1d879ba-7da6-41b8-d6df-fab144dfab38",
        "colab": {
          "base_uri": "https://localhost:8080/",
          "height": 35
        }
      },
      "source": [
        "DayTrade_clean.shape, target_data_clean.shape"
      ],
      "execution_count": 0,
      "outputs": [
        {
          "output_type": "execute_result",
          "data": {
            "text/plain": [
              "((2481050, 16), (2481050, 2))"
            ]
          },
          "metadata": {
            "tags": []
          },
          "execution_count": 208
        }
      ]
    },
    {
      "cell_type": "markdown",
      "metadata": {
        "id": "552T9UtMlsMp",
        "colab_type": "text"
      },
      "source": [
        "Number of rows for both data are correct since initially the data consisted of 1735 days of 1440 minutes (total of 2.481.050 rows) and now each day had the last 10 minutes so the total amount of rows must be 1735 days of 1430 minutes (total of 2.481.050)"
      ]
    },
    {
      "cell_type": "code",
      "metadata": {
        "id": "xgUi4ibklsMr",
        "colab_type": "code",
        "colab": {}
      },
      "source": [
        "# the target column was only added to the DayTrade data in order to drop the correct rows.\n",
        "#Removing column 'target' from the DayTrade data\n",
        "\n",
        "DayTrade = DayTrade.drop(columns='target')\n",
        "DayTrade_clean = DayTrade_clean.drop(columns='target')"
      ],
      "execution_count": 0,
      "outputs": []
    },
    {
      "cell_type": "markdown",
      "metadata": {
        "id": "9Jmoz-W2lsMy",
        "colab_type": "text"
      },
      "source": [
        "In order to compare results with other models a 90% split is going to be made"
      ]
    },
    {
      "cell_type": "code",
      "metadata": {
        "id": "ZT9psvi3lsM0",
        "colab_type": "code",
        "outputId": "114c6813-2ca6-4382-c251-8526feb68ca2",
        "colab": {
          "base_uri": "https://localhost:8080/",
          "height": 35
        }
      },
      "source": [
        "days_in_data = list(dict.fromkeys(DayTrade_clean[\"date\"].values))\n",
        "\n",
        "split = 0.9\n",
        "\n",
        "training_days = days_in_data[:int(split*len(days_in_data))]\n",
        "testing_days = days_in_data[int(split*len(days_in_data)):]\n",
        "\n",
        "print(len(training_days),len(testing_days))"
      ],
      "execution_count": 0,
      "outputs": [
        {
          "output_type": "stream",
          "text": [
            "1561 174\n"
          ],
          "name": "stdout"
        }
      ]
    },
    {
      "cell_type": "markdown",
      "metadata": {
        "id": "iIWJr82rlsM7",
        "colab_type": "text"
      },
      "source": [
        "Data will need to be normalized for predictions. A scaler will be fitted for the training data"
      ]
    },
    {
      "cell_type": "code",
      "metadata": {
        "id": "lZsTpj5PlsOt",
        "colab_type": "code",
        "outputId": "a71fa785-2bae-4d26-800d-3ffb91748ff7",
        "colab": {
          "base_uri": "https://localhost:8080/",
          "height": 35
        }
      },
      "source": [
        "#Step 1 - Convert day data into numpy array\n",
        "train_data = np.array(DayTrade_clean.loc[DayTrade_clean.date.isin(training_days),:].drop(columns='date'))\n",
        "label_data = np.array(target_data_clean.loc[target_data_clean.date.isin(training_days),:].drop(columns='date')).reshape(-1,1)\n",
        "\n",
        "#Step 2 - Scale data for Neural Network\n",
        "x_scaler = MinMaxScaler()\n",
        "x_scaler.fit(train_data)\n",
        "y_scaler = MinMaxScaler()\n",
        "y_scaler.fit(label_data)"
      ],
      "execution_count": 0,
      "outputs": [
        {
          "output_type": "execute_result",
          "data": {
            "text/plain": [
              "MinMaxScaler(copy=True, feature_range=(0, 1))"
            ]
          },
          "metadata": {
            "tags": []
          },
          "execution_count": 211
        }
      ]
    },
    {
      "cell_type": "code",
      "metadata": {
        "id": "H9B6Pgpg6LDW",
        "colab_type": "code",
        "colab": {}
      },
      "source": [
        "def batch_reshape(sequence_length, X_train_scale, Y_train_scale, num_x_signal, num_y_signal):\n",
        "    \"\"\"\n",
        "    Generator function for creating random batches of training-data.\n",
        "    \"\"\"\n",
        "    batch_size = X_train_scale.shape[1] // sequence_length\n",
        "    # Allocate a new array for the batch of input-signals.\n",
        "    x_shape = (batch_size, sequence_length, num_x_signal)\n",
        "    x_batch = np.zeros(shape=x_shape, dtype=np.float16)\n",
        "    \n",
        " \n",
        "    # Allocate a new array for the batch of output-signals.\n",
        "    y_shape = (batch_size, num_y_signal)\n",
        "    y_batch = np.zeros(shape=y_shape, dtype=np.float16)\n",
        "\n",
        "    #print(x_batch.shape, y_batch.shape, X_train_scale.shape, Y_train_scale.shape) #debugging\n",
        "    # Create Sequence for sliding window\n",
        "    seq = []\n",
        "    for i in range(batch_size):\n",
        "        seq.append(i*sequence_length)\n",
        "    \n",
        "    # Fill the batch with sequences of data.\n",
        "    for i in range(0,len(seq)-1):\n",
        "\n",
        "        # Copy the sequences of data starting at this index.\n",
        "        x_batch[i] = X_train_scale[0][seq[i]:seq[i]+sequence_length][:]\n",
        "        y_batch[i] = Y_train_scale[0][seq[i]+sequence_length-1][:]\n",
        "        #print(\"iteration: \",i,\"-OK\") #debugging\n",
        "\n",
        "    #print(x_batch.shape,y_batch.shape) #debbuging\n",
        "    return (x_batch, y_batch)"
      ],
      "execution_count": 0,
      "outputs": []
    },
    {
      "cell_type": "code",
      "metadata": {
        "id": "9gOZQQK9lsNE",
        "colab_type": "code",
        "colab": {}
      },
      "source": [
        "def batch_generator(batch_size, sequence_length, num_x_signal, num_y_signal, train_data, label_data, training_days):\n",
        "    \n",
        "    # Create a Batch function for training data using sliding window technique\n",
        "    # Step 1 - Select a training day\n",
        "\n",
        "    day = rand.choice(training_days)\n",
        "\n",
        "    #Step 2 - Filter Input data and Target with the selected date\n",
        "    day_train_data = train_data[train_data['date'].values==day]\n",
        "    day_label_data = label_data[label_data['date'].values==day]\n",
        "\n",
        "    #Step 3 - Drop date columns from day train data and day label data\n",
        "    day_train_data = day_train_data.drop(columns='date')\n",
        "    day_label_data = day_label_data.drop(columns='date')\n",
        "\n",
        "    #Step 4 - Convert day data into numpy array\n",
        "    day_train_data = np.array(day_train_data)\n",
        "    day_label_data = np.array(day_label_data).reshape(-1,1)\n",
        "\n",
        "    #Step 5 - Scale data for Neural Network\n",
        "    day_train_data = x_scaler.transform(day_train_data)\n",
        "    day_label_data = y_scaler.transform(day_label_data)\n",
        "\n",
        "    #Step 6 - Reshape data to fit keras requirement to have a (x,y,z) shape\n",
        "    day_train_data = day_train_data.reshape(1,day_train_data.shape[0],day_train_data.shape[1])\n",
        "    day_label_data = day_label_data.reshape(1,day_label_data.shape[0],day_label_data.shape[1])\n",
        "    \n",
        "     #Step 7 - Reshape data into Batches\n",
        "    day_train_data_reshape , day_label_data_reshape =  batch_reshape(sequence_length, day_train_data, day_label_data, num_x_signal, num_y_signal)\n",
        "    \n",
        "    # print(day_train_data_reshape.shape , day_train_data_reshape.shape)#debugging\n",
        "   \n",
        "    #Step 8 - Apply the \"jumping\" slidding window technique to the reshaped date\n",
        "    # Infinite loop.\n",
        "    while True:\n",
        "        # Allocate a new array for the batch of input-signals.\n",
        "        x_shape = (batch_size, sequence_length, num_x_signal)\n",
        "        x_batch = np.zeros(shape=x_shape, dtype=np.float16)\n",
        "\n",
        "        # Allocate a new array for the batch of output-signals.\n",
        "        y_shape = (batch_size, num_y_signal)\n",
        "        y_batch = np.zeros(shape=y_shape, dtype=np.float16)\n",
        "\n",
        "        # Fill the batch with random continuous sequences of data.\n",
        "\n",
        "        # Get a random start-index.\n",
        "        # This points somewhere into the training-data.\n",
        "        idx = np.random.randint(day_train_data_reshape.shape[0] - batch_size)\n",
        "\n",
        "        # Copy the sequences of data starting at this index.\n",
        "        x_batch = day_train_data_reshape[idx:idx+batch_size]\n",
        "        y_batch = day_label_data_reshape[idx:idx+batch_size]\n",
        "\n",
        "\n",
        "        yield (x_batch, y_batch)"
      ],
      "execution_count": 0,
      "outputs": []
    },
    {
      "cell_type": "code",
      "metadata": {
        "id": "QjsNJ6OVlsNN",
        "colab_type": "code",
        "colab": {}
      },
      "source": [
        "num_x_signal = 14 # number of input features\n",
        "num_y_signal = 1 # number of label classes\n",
        "\n",
        "batch_size = 50 # tunning parameter\n",
        "sequence_length = 25 #Amount of time-steps to look back for the 10 minute prediction"
      ],
      "execution_count": 0,
      "outputs": []
    },
    {
      "cell_type": "code",
      "metadata": {
        "id": "MyewDvW6lsNU",
        "colab_type": "code",
        "colab": {}
      },
      "source": [
        "generator = batch_generator(batch_size,sequence_length, num_x_signal, num_y_signal, DayTrade_clean, target_data_clean,training_days)"
      ],
      "execution_count": 0,
      "outputs": []
    },
    {
      "cell_type": "code",
      "metadata": {
        "id": "vCbJykW9lsNc",
        "colab_type": "code",
        "colab": {}
      },
      "source": [
        "x_batch, y_batch = next(generator)"
      ],
      "execution_count": 0,
      "outputs": []
    },
    {
      "cell_type": "code",
      "metadata": {
        "id": "FRGV8k-ElsNi",
        "colab_type": "code",
        "outputId": "34f8d9bb-f5ae-43d0-ac2a-4fbdb5402245",
        "colab": {
          "base_uri": "https://localhost:8080/",
          "height": 52
        }
      },
      "source": [
        "print(x_batch.shape)\n",
        "print(y_batch.shape)"
      ],
      "execution_count": 0,
      "outputs": [
        {
          "output_type": "stream",
          "text": [
            "(50, 25, 14)\n",
            "(50, 1)\n"
          ],
          "name": "stdout"
        }
      ]
    },
    {
      "cell_type": "code",
      "metadata": {
        "id": "a97sQHTwlsNo",
        "colab_type": "code",
        "colab": {}
      },
      "source": [
        "def batch_validation(sequence_length, num_x_signal, num_y_signal, test_data, label_test_data, testing_days):\n",
        "    \n",
        "    # Create a Batch function for validation data using sliding window technique\n",
        "    # Step 1 - Select a testing day\n",
        "\n",
        "    day = rand.choice(testing_days)\n",
        "\n",
        "    #Step 2 - Filter Input data and Target with the selected date\n",
        "    day_test_data = test_data[test_data['date'].values==day]\n",
        "    day_label_data = label_test_data[label_test_data['date'].values==day]\n",
        "\n",
        "    #Step 3 - Drop date columns from day test data and day label data\n",
        "    day_test_data = day_test_data.drop(columns='date')\n",
        "    day_label_data = day_label_data.drop(columns='date')\n",
        "\n",
        "    #Step 4 - Convert day data into numpy array\n",
        "    day_test_data = np.array(day_test_data)\n",
        "    day_label_data = np.array(day_label_data).reshape(-1,1)\n",
        "\n",
        "    #Step 5 - Scale data for Neural Network\n",
        "    day_test_data = x_scaler.transform(day_test_data)\n",
        "    day_label_data = y_scaler.transform(day_label_data)\n",
        "\n",
        "    #Step 6 - Reshape data to fit keras requirement to have a (x,y,z) shape\n",
        "    day_test_data = day_test_data.reshape(1,day_test_data.shape[0],day_test_data.shape[1])\n",
        "    day_label_data = day_label_data.reshape(1,day_label_data.shape[0],day_label_data.shape[1])\n",
        "    \n",
        "    #print(day_test_data.shape , day_label_data.shape)#debugging\n",
        "    \n",
        "    #Step 7 - Reshape data into Batches using slidding window   \n",
        "    batch_val_size = day_test_data.shape[1] - sequence_length\n",
        "    \n",
        "    x_val_shape = (batch_val_size, sequence_length, num_x_signal)\n",
        "    x_batch = np.zeros(shape=x_val_shape, dtype=np.float16)\n",
        "        \n",
        "    y_val_shape = (batch_val_size, num_y_signal)\n",
        "    y_batch = np.zeros(shape=y_val_shape, dtype=np.float16)\n",
        "    \n",
        "    #print(x_batch.shape, y_batch.shape) # debugging\n",
        "    for i in range(batch_val_size):\n",
        "\n",
        "        # Copy the sequences of data starting at this index.\n",
        "        x_batch[i] = day_test_data[0][i:i+sequence_length][:]\n",
        "        y_batch[i] = day_label_data[0][i+sequence_length-1][:]\n",
        "\n",
        "    \n",
        "    return (x_batch, y_batch)"
      ],
      "execution_count": 0,
      "outputs": []
    },
    {
      "cell_type": "code",
      "metadata": {
        "id": "xHB0sxjvlsNu",
        "colab_type": "code",
        "outputId": "47abe0c2-fc59-4658-d22a-779ab5d39844",
        "colab": {
          "base_uri": "https://localhost:8080/",
          "height": 35
        }
      },
      "source": [
        "X_val, Y_val = batch_validation(sequence_length,num_x_signal, num_y_signal, DayTrade_clean, target_data_clean, testing_days)\n",
        "print(X_val.shape, Y_val.shape)"
      ],
      "execution_count": 0,
      "outputs": [
        {
          "output_type": "stream",
          "text": [
            "(1405, 25, 14) (1405, 1)\n"
          ],
          "name": "stdout"
        }
      ]
    },
    {
      "cell_type": "code",
      "metadata": {
        "id": "9JijIrUClsN2",
        "colab_type": "code",
        "colab": {}
      },
      "source": [
        "validation_data = (X_val, Y_val)"
      ],
      "execution_count": 0,
      "outputs": []
    },
    {
      "cell_type": "markdown",
      "metadata": {
        "id": "BxrLHSOZlsN8",
        "colab_type": "text"
      },
      "source": [
        "## Create Recurrent Neural Network"
      ]
    },
    {
      "cell_type": "code",
      "metadata": {
        "id": "ccoKnJPolsN-",
        "colab_type": "code",
        "outputId": "83789b94-8692-4cd8-bb1d-e154b0448dde",
        "colab": {
          "base_uri": "https://localhost:8080/",
          "height": 337
        }
      },
      "source": [
        "from tensorflow.keras.layers import BatchNormalization\n",
        "\n",
        "model = Sequential()\n",
        "model.add(LSTM(units=200,\n",
        "              return_sequences=True,\n",
        "              input_shape=(None,num_x_signal,)))\n",
        "model.add(LSTM(units=150, return_sequences=False))\n",
        "model.add(Dropout(0.4))\n",
        "model.add(BatchNormalization())\n",
        "model.add(Dense(num_y_signal,activation='linear'))\n",
        "model.summary()"
      ],
      "execution_count": 0,
      "outputs": [
        {
          "output_type": "stream",
          "text": [
            "Model: \"sequential_7\"\n",
            "_________________________________________________________________\n",
            "Layer (type)                 Output Shape              Param #   \n",
            "=================================================================\n",
            "lstm_14 (LSTM)               (None, None, 200)         172000    \n",
            "_________________________________________________________________\n",
            "lstm_15 (LSTM)               (None, 150)               210600    \n",
            "_________________________________________________________________\n",
            "dropout_7 (Dropout)          (None, 150)               0         \n",
            "_________________________________________________________________\n",
            "batch_normalization_7 (Batch (None, 150)               600       \n",
            "_________________________________________________________________\n",
            "dense_7 (Dense)              (None, 1)                 151       \n",
            "=================================================================\n",
            "Total params: 383,351\n",
            "Trainable params: 383,051\n",
            "Non-trainable params: 300\n",
            "_________________________________________________________________\n"
          ],
          "name": "stdout"
        }
      ]
    },
    {
      "cell_type": "code",
      "metadata": {
        "id": "-3GwP4Z4lsOD",
        "colab_type": "code",
        "colab": {}
      },
      "source": [
        "optimizer = tf.keras.optimizers.Adam(lr=1e-3)\n",
        "\n",
        "model.compile(loss=tf.keras.losses.logcosh, optimizer=optimizer)"
      ],
      "execution_count": 0,
      "outputs": []
    },
    {
      "cell_type": "code",
      "metadata": {
        "id": "-U37PF2alsOJ",
        "colab_type": "code",
        "colab": {}
      },
      "source": [
        "model_file = \"DayTrade Model(seed 10).{epoch:02d}-{val_loss:.7f}.h5\"\n",
        "\n",
        "mc = ModelCheckpoint('/content/drive/My Drive/Capstone/FinalModels/Step2-DayTrade/Seed 10/'+model_file, monitor=\"val_loss\", mode=\"min\", save_best_only=True)\n",
        "\n",
        "reduce_lr = ReduceLROnPlateau(monitor='val_loss', factor=0.8,\n",
        "                              patience=4, min_lr=1e-4)"
      ],
      "execution_count": 0,
      "outputs": []
    },
    {
      "cell_type": "code",
      "metadata": {
        "id": "5-Ohrxs6lsOP",
        "colab_type": "code",
        "outputId": "4b46c24f-4ecc-41cd-8cad-fad163213410",
        "colab": {
          "base_uri": "https://localhost:8080/",
          "height": 1000
        }
      },
      "source": [
        "%%time\n",
        "\n",
        "history = model.fit_generator(generator=generator,\n",
        "                    epochs=100,\n",
        "                    steps_per_epoch=50,\n",
        "                    validation_data=validation_data,\n",
        "                    callbacks=[ mc, reduce_lr])"
      ],
      "execution_count": 0,
      "outputs": [
        {
          "output_type": "stream",
          "text": [
            "Epoch 1/100\n",
            "50/50 [==============================] - 9s 182ms/step - loss: 0.2825 - val_loss: 0.0083 - lr: 0.0010\n",
            "Epoch 2/100\n",
            "50/50 [==============================] - 8s 167ms/step - loss: 0.0372 - val_loss: 0.0085 - lr: 0.0010\n",
            "Epoch 3/100\n",
            "50/50 [==============================] - 8s 167ms/step - loss: 0.0048 - val_loss: 0.0084 - lr: 0.0010\n",
            "Epoch 4/100\n",
            "50/50 [==============================] - 8s 168ms/step - loss: 0.0023 - val_loss: 0.0077 - lr: 0.0010\n",
            "Epoch 5/100\n",
            "50/50 [==============================] - 8s 168ms/step - loss: 0.0013 - val_loss: 0.0075 - lr: 0.0010\n",
            "Epoch 6/100\n",
            "50/50 [==============================] - 8s 169ms/step - loss: 7.8910e-04 - val_loss: 0.0075 - lr: 0.0010\n",
            "Epoch 7/100\n",
            "50/50 [==============================] - 8s 168ms/step - loss: 8.5528e-04 - val_loss: 0.0073 - lr: 0.0010\n",
            "Epoch 8/100\n",
            "50/50 [==============================] - 8s 169ms/step - loss: 5.8592e-04 - val_loss: 0.0060 - lr: 0.0010\n",
            "Epoch 9/100\n",
            "50/50 [==============================] - 8s 168ms/step - loss: 5.2394e-04 - val_loss: 0.0062 - lr: 0.0010\n",
            "Epoch 10/100\n",
            "50/50 [==============================] - 8s 168ms/step - loss: 4.3525e-04 - val_loss: 0.0032 - lr: 0.0010\n",
            "Epoch 11/100\n",
            "50/50 [==============================] - 8s 168ms/step - loss: 4.5582e-04 - val_loss: 0.0041 - lr: 0.0010\n",
            "Epoch 12/100\n",
            "50/50 [==============================] - 8s 168ms/step - loss: 4.1867e-04 - val_loss: 0.0032 - lr: 0.0010\n",
            "Epoch 13/100\n",
            "50/50 [==============================] - 8s 167ms/step - loss: 7.0790e-04 - val_loss: 0.0043 - lr: 0.0010\n",
            "Epoch 14/100\n",
            "50/50 [==============================] - 8s 167ms/step - loss: 6.8441e-04 - val_loss: 0.0018 - lr: 0.0010\n",
            "Epoch 15/100\n",
            "50/50 [==============================] - 9s 170ms/step - loss: 8.3497e-04 - val_loss: 0.0044 - lr: 0.0010\n",
            "Epoch 16/100\n",
            "50/50 [==============================] - 9s 171ms/step - loss: 5.9207e-04 - val_loss: 4.6466e-04 - lr: 0.0010\n",
            "Epoch 17/100\n",
            "50/50 [==============================] - 9s 171ms/step - loss: 5.4806e-04 - val_loss: 0.0012 - lr: 0.0010\n",
            "Epoch 18/100\n",
            "50/50 [==============================] - 8s 168ms/step - loss: 5.3001e-04 - val_loss: 0.0024 - lr: 0.0010\n",
            "Epoch 19/100\n",
            "50/50 [==============================] - 9s 171ms/step - loss: 6.1798e-04 - val_loss: 1.3727e-04 - lr: 0.0010\n",
            "Epoch 20/100\n",
            "50/50 [==============================] - 8s 169ms/step - loss: 4.9516e-04 - val_loss: 7.5246e-04 - lr: 0.0010\n",
            "Epoch 21/100\n",
            "50/50 [==============================] - 8s 169ms/step - loss: 3.8428e-04 - val_loss: 1.9425e-04 - lr: 0.0010\n",
            "Epoch 22/100\n",
            "50/50 [==============================] - 8s 169ms/step - loss: 3.7316e-04 - val_loss: 2.6734e-04 - lr: 0.0010\n",
            "Epoch 23/100\n",
            "50/50 [==============================] - 8s 169ms/step - loss: 4.1337e-04 - val_loss: 1.8939e-04 - lr: 0.0010\n",
            "Epoch 24/100\n",
            "50/50 [==============================] - 8s 169ms/step - loss: 3.3275e-04 - val_loss: 5.2283e-04 - lr: 8.0000e-04\n",
            "Epoch 25/100\n",
            "50/50 [==============================] - 9s 171ms/step - loss: 1.6738e-04 - val_loss: 1.1887e-04 - lr: 8.0000e-04\n",
            "Epoch 26/100\n",
            "50/50 [==============================] - 9s 171ms/step - loss: 1.6846e-04 - val_loss: 1.2035e-05 - lr: 8.0000e-04\n",
            "Epoch 27/100\n",
            "50/50 [==============================] - 8s 170ms/step - loss: 1.9795e-04 - val_loss: 2.6271e-04 - lr: 8.0000e-04\n",
            "Epoch 28/100\n",
            "50/50 [==============================] - 8s 170ms/step - loss: 1.7821e-04 - val_loss: 3.7104e-04 - lr: 8.0000e-04\n",
            "Epoch 29/100\n",
            "50/50 [==============================] - 8s 169ms/step - loss: 1.6810e-04 - val_loss: 8.0372e-06 - lr: 8.0000e-04\n",
            "Epoch 30/100\n",
            "50/50 [==============================] - 9s 171ms/step - loss: 1.7328e-04 - val_loss: 2.5986e-04 - lr: 8.0000e-04\n",
            "Epoch 31/100\n",
            "50/50 [==============================] - 9s 172ms/step - loss: 1.0251e-04 - val_loss: 4.2120e-05 - lr: 6.4000e-04\n",
            "Epoch 32/100\n",
            "50/50 [==============================] - 9s 174ms/step - loss: 7.2560e-05 - val_loss: 8.7728e-06 - lr: 6.4000e-04\n",
            "Epoch 33/100\n",
            "50/50 [==============================] - 9s 173ms/step - loss: 7.0182e-05 - val_loss: 6.2158e-06 - lr: 6.4000e-04\n",
            "Epoch 34/100\n",
            "50/50 [==============================] - 8s 169ms/step - loss: 5.6354e-05 - val_loss: 7.7934e-05 - lr: 6.4000e-04\n",
            "Epoch 35/100\n",
            "50/50 [==============================] - 9s 170ms/step - loss: 3.9155e-05 - val_loss: 2.3643e-05 - lr: 5.1200e-04\n",
            "Epoch 36/100\n",
            "50/50 [==============================] - 8s 169ms/step - loss: 3.9031e-05 - val_loss: 1.8440e-05 - lr: 5.1200e-04\n",
            "Epoch 37/100\n",
            "50/50 [==============================] - 8s 169ms/step - loss: 4.9102e-05 - val_loss: 2.0984e-05 - lr: 5.1200e-04\n",
            "Epoch 38/100\n",
            "50/50 [==============================] - 9s 170ms/step - loss: 4.3579e-05 - val_loss: 1.2798e-06 - lr: 5.1200e-04\n",
            "Epoch 39/100\n",
            "50/50 [==============================] - 8s 170ms/step - loss: 3.4683e-05 - val_loss: 1.6286e-05 - lr: 4.0960e-04\n",
            "Epoch 40/100\n",
            "50/50 [==============================] - 8s 170ms/step - loss: 3.2687e-05 - val_loss: 1.3651e-06 - lr: 4.0960e-04\n",
            "Epoch 41/100\n",
            "50/50 [==============================] - 8s 169ms/step - loss: 3.1872e-05 - val_loss: 9.7537e-05 - lr: 4.0960e-04\n",
            "Epoch 42/100\n",
            "50/50 [==============================] - 8s 170ms/step - loss: 3.4542e-05 - val_loss: 8.8091e-05 - lr: 4.0960e-04\n",
            "Epoch 43/100\n",
            "50/50 [==============================] - 8s 169ms/step - loss: 2.9981e-05 - val_loss: 9.4906e-05 - lr: 3.2768e-04\n",
            "Epoch 44/100\n",
            "50/50 [==============================] - 8s 169ms/step - loss: 2.7004e-05 - val_loss: 7.2438e-05 - lr: 3.2768e-04\n",
            "Epoch 45/100\n",
            "50/50 [==============================] - 8s 168ms/step - loss: 2.8079e-05 - val_loss: 6.8684e-05 - lr: 3.2768e-04\n",
            "Epoch 46/100\n",
            "50/50 [==============================] - 8s 169ms/step - loss: 2.8732e-05 - val_loss: 1.3285e-04 - lr: 3.2768e-04\n",
            "Epoch 47/100\n",
            "50/50 [==============================] - 8s 169ms/step - loss: 2.2861e-05 - val_loss: 7.9588e-05 - lr: 2.6214e-04\n",
            "Epoch 48/100\n",
            "50/50 [==============================] - 8s 169ms/step - loss: 2.1657e-05 - val_loss: 6.1849e-05 - lr: 2.6214e-04\n",
            "Epoch 49/100\n",
            "50/50 [==============================] - 8s 169ms/step - loss: 2.2707e-05 - val_loss: 1.8159e-05 - lr: 2.6214e-04\n",
            "Epoch 50/100\n",
            "50/50 [==============================] - 8s 169ms/step - loss: 2.2405e-05 - val_loss: 3.8854e-05 - lr: 2.6214e-04\n",
            "Epoch 51/100\n",
            "50/50 [==============================] - 9s 171ms/step - loss: 1.9232e-05 - val_loss: 1.7068e-05 - lr: 2.0972e-04\n",
            "Epoch 52/100\n",
            "50/50 [==============================] - 8s 170ms/step - loss: 1.9732e-05 - val_loss: 2.2717e-06 - lr: 2.0972e-04\n",
            "Epoch 53/100\n",
            "50/50 [==============================] - 8s 169ms/step - loss: 1.8554e-05 - val_loss: 1.9225e-05 - lr: 2.0972e-04\n",
            "Epoch 54/100\n",
            "50/50 [==============================] - 8s 169ms/step - loss: 1.9207e-05 - val_loss: 7.3251e-05 - lr: 2.0972e-04\n",
            "Epoch 55/100\n",
            "50/50 [==============================] - 9s 171ms/step - loss: 1.6894e-05 - val_loss: 1.9615e-05 - lr: 1.6777e-04\n",
            "Epoch 56/100\n",
            "50/50 [==============================] - 8s 169ms/step - loss: 1.6058e-05 - val_loss: 3.6248e-05 - lr: 1.6777e-04\n",
            "Epoch 57/100\n",
            "50/50 [==============================] - 8s 169ms/step - loss: 1.6130e-05 - val_loss: 2.3917e-05 - lr: 1.6777e-04\n",
            "Epoch 58/100\n",
            "50/50 [==============================] - 8s 169ms/step - loss: 1.5761e-05 - val_loss: 2.8331e-05 - lr: 1.6777e-04\n",
            "Epoch 59/100\n",
            "50/50 [==============================] - 8s 169ms/step - loss: 1.6188e-05 - val_loss: 7.4251e-06 - lr: 1.3422e-04\n",
            "Epoch 60/100\n",
            "50/50 [==============================] - 8s 168ms/step - loss: 1.3907e-05 - val_loss: 4.1062e-05 - lr: 1.3422e-04\n",
            "Epoch 61/100\n",
            "50/50 [==============================] - 8s 169ms/step - loss: 1.4278e-05 - val_loss: 1.5337e-05 - lr: 1.3422e-04\n",
            "Epoch 62/100\n",
            "50/50 [==============================] - 9s 170ms/step - loss: 1.4650e-05 - val_loss: 1.5388e-05 - lr: 1.3422e-04\n",
            "Epoch 63/100\n",
            "50/50 [==============================] - 8s 169ms/step - loss: 1.2940e-05 - val_loss: 3.0979e-05 - lr: 1.0737e-04\n",
            "Epoch 64/100\n",
            "50/50 [==============================] - 8s 169ms/step - loss: 1.3046e-05 - val_loss: 1.5059e-05 - lr: 1.0737e-04\n",
            "Epoch 65/100\n",
            "50/50 [==============================] - 8s 170ms/step - loss: 1.2713e-05 - val_loss: 1.0868e-05 - lr: 1.0737e-04\n",
            "Epoch 66/100\n",
            "50/50 [==============================] - 9s 172ms/step - loss: 1.3158e-05 - val_loss: 9.4331e-06 - lr: 1.0737e-04\n",
            "Epoch 67/100\n",
            "50/50 [==============================] - 9s 171ms/step - loss: 1.2942e-05 - val_loss: 1.1435e-06 - lr: 1.0000e-04\n",
            "Epoch 68/100\n",
            "50/50 [==============================] - 9s 174ms/step - loss: 1.1715e-05 - val_loss: 1.7610e-05 - lr: 1.0000e-04\n",
            "Epoch 69/100\n",
            "50/50 [==============================] - 9s 173ms/step - loss: 1.4106e-05 - val_loss: 2.4495e-06 - lr: 1.0000e-04\n",
            "Epoch 70/100\n",
            "50/50 [==============================] - 9s 171ms/step - loss: 1.3194e-05 - val_loss: 2.4340e-05 - lr: 1.0000e-04\n",
            "Epoch 71/100\n",
            "50/50 [==============================] - 8s 170ms/step - loss: 1.2855e-05 - val_loss: 3.6896e-05 - lr: 1.0000e-04\n",
            "Epoch 72/100\n",
            "50/50 [==============================] - 8s 169ms/step - loss: 1.2672e-05 - val_loss: 3.9900e-05 - lr: 1.0000e-04\n",
            "Epoch 73/100\n",
            "50/50 [==============================] - 8s 169ms/step - loss: 1.3079e-05 - val_loss: 9.5183e-06 - lr: 1.0000e-04\n",
            "Epoch 74/100\n",
            "50/50 [==============================] - 8s 169ms/step - loss: 1.2102e-05 - val_loss: 2.9686e-05 - lr: 1.0000e-04\n",
            "Epoch 75/100\n",
            "50/50 [==============================] - 8s 169ms/step - loss: 1.2957e-05 - val_loss: 1.2601e-05 - lr: 1.0000e-04\n",
            "Epoch 76/100\n",
            "50/50 [==============================] - 8s 169ms/step - loss: 1.3322e-05 - val_loss: 3.4177e-05 - lr: 1.0000e-04\n",
            "Epoch 77/100\n",
            "50/50 [==============================] - 8s 169ms/step - loss: 1.1506e-05 - val_loss: 1.0944e-05 - lr: 1.0000e-04\n",
            "Epoch 78/100\n",
            "50/50 [==============================] - 8s 169ms/step - loss: 1.3323e-05 - val_loss: 1.7764e-05 - lr: 1.0000e-04\n",
            "Epoch 79/100\n",
            "50/50 [==============================] - 8s 169ms/step - loss: 1.2756e-05 - val_loss: 3.6674e-05 - lr: 1.0000e-04\n",
            "Epoch 80/100\n",
            "50/50 [==============================] - 8s 169ms/step - loss: 1.3713e-05 - val_loss: 3.5640e-05 - lr: 1.0000e-04\n",
            "Epoch 81/100\n",
            "50/50 [==============================] - 8s 170ms/step - loss: 1.4046e-05 - val_loss: 1.4414e-05 - lr: 1.0000e-04\n",
            "Epoch 82/100\n",
            "50/50 [==============================] - 9s 170ms/step - loss: 1.2162e-05 - val_loss: 3.3203e-06 - lr: 1.0000e-04\n",
            "Epoch 83/100\n",
            "50/50 [==============================] - 8s 170ms/step - loss: 1.3954e-05 - val_loss: 1.7060e-05 - lr: 1.0000e-04\n",
            "Epoch 84/100\n",
            "50/50 [==============================] - 8s 170ms/step - loss: 1.3857e-05 - val_loss: 3.6625e-05 - lr: 1.0000e-04\n",
            "Epoch 85/100\n",
            "50/50 [==============================] - 8s 169ms/step - loss: 1.2420e-05 - val_loss: 2.5523e-06 - lr: 1.0000e-04\n",
            "Epoch 86/100\n",
            "50/50 [==============================] - 8s 169ms/step - loss: 1.2803e-05 - val_loss: 2.2229e-05 - lr: 1.0000e-04\n",
            "Epoch 87/100\n",
            "50/50 [==============================] - 9s 170ms/step - loss: 1.5023e-05 - val_loss: 1.0066e-06 - lr: 1.0000e-04\n",
            "Epoch 88/100\n",
            "50/50 [==============================] - 8s 169ms/step - loss: 1.5806e-05 - val_loss: 9.6029e-06 - lr: 1.0000e-04\n",
            "Epoch 89/100\n",
            "50/50 [==============================] - 8s 169ms/step - loss: 1.4980e-05 - val_loss: 7.4012e-06 - lr: 1.0000e-04\n",
            "Epoch 90/100\n",
            "50/50 [==============================] - 8s 169ms/step - loss: 1.4808e-05 - val_loss: 1.5090e-06 - lr: 1.0000e-04\n",
            "Epoch 91/100\n",
            "50/50 [==============================] - 8s 168ms/step - loss: 1.4826e-05 - val_loss: 2.7575e-06 - lr: 1.0000e-04\n",
            "Epoch 92/100\n",
            "50/50 [==============================] - 8s 167ms/step - loss: 1.6928e-05 - val_loss: 4.8896e-05 - lr: 1.0000e-04\n",
            "Epoch 93/100\n",
            "50/50 [==============================] - 8s 168ms/step - loss: 1.7728e-05 - val_loss: 5.6515e-05 - lr: 1.0000e-04\n",
            "Epoch 94/100\n",
            "50/50 [==============================] - 8s 168ms/step - loss: 1.7917e-05 - val_loss: 4.8115e-05 - lr: 1.0000e-04\n",
            "Epoch 95/100\n",
            "50/50 [==============================] - 8s 167ms/step - loss: 1.6213e-05 - val_loss: 5.4776e-05 - lr: 1.0000e-04\n",
            "Epoch 96/100\n",
            "50/50 [==============================] - 8s 167ms/step - loss: 1.6566e-05 - val_loss: 3.4309e-05 - lr: 1.0000e-04\n",
            "Epoch 97/100\n",
            "50/50 [==============================] - 8s 168ms/step - loss: 1.6748e-05 - val_loss: 5.9467e-05 - lr: 1.0000e-04\n",
            "Epoch 98/100\n",
            "50/50 [==============================] - 8s 167ms/step - loss: 1.6221e-05 - val_loss: 1.3750e-05 - lr: 1.0000e-04\n",
            "Epoch 99/100\n",
            "50/50 [==============================] - 8s 168ms/step - loss: 1.5904e-05 - val_loss: 8.9636e-07 - lr: 1.0000e-04\n",
            "Epoch 100/100\n",
            "50/50 [==============================] - 8s 169ms/step - loss: 1.7616e-05 - val_loss: 1.3327e-06 - lr: 1.0000e-04\n",
            "CPU times: user 22min 37s, sys: 1min 23s, total: 24min 1s\n",
            "Wall time: 14min 24s\n"
          ],
          "name": "stdout"
        }
      ]
    },
    {
      "cell_type": "code",
      "metadata": {
        "id": "RDwrXnRqlsOV",
        "colab_type": "code",
        "colab": {}
      },
      "source": [
        "hist_df = pd.DataFrame(history.history) \n",
        "hist_csv_file = '/content/drive/My Drive/Capstone/FinalModels/Step2-DayTrade/Seed 10/'+model_file.split('.')[0]+'.csv'\n",
        "with open(hist_csv_file, mode='w') as f:\n",
        "    hist_df.to_csv(f)"
      ],
      "execution_count": 0,
      "outputs": []
    },
    {
      "cell_type": "code",
      "metadata": {
        "id": "4_OeIoQnlsOb",
        "colab_type": "code",
        "outputId": "fa6d95dd-5020-4965-c377-d13d1ee8e45b",
        "colab": {
          "base_uri": "https://localhost:8080/",
          "height": 295
        }
      },
      "source": [
        "plt.plot(history.history['val_loss'][10:])\n",
        "plt.title('model_loss')\n",
        "plt.ylabel('loss')\n",
        "plt.xlabel('epoch')\n",
        "plt.legend(['test'], loc='upper left')\n",
        "plt.show()"
      ],
      "execution_count": 0,
      "outputs": [
        {
          "output_type": "display_data",
          "data": {
            "image/png": "[encoded data removed]",
            "text/plain": [
              "<Figure size 432x288 with 1 Axes>"
            ]
          },
          "metadata": {
            "tags": []
          }
        }
      ]
    },
    {
      "cell_type": "code",
      "metadata": {
        "id": "YjPIJsCGmOAt",
        "colab_type": "code",
        "outputId": "938f2d3e-1441-4240-c9ed-5e4a76a094bb",
        "colab": {
          "base_uri": "https://localhost:8080/",
          "height": 295
        }
      },
      "source": [
        "plt.plot(history.history['loss'][10:])\n",
        "plt.title('model_loss')\n",
        "plt.ylabel('loss')\n",
        "plt.xlabel('epoch')\n",
        "plt.legend(['train'], loc='upper left')\n",
        "plt.show()"
      ],
      "execution_count": 0,
      "outputs": [
        {
          "output_type": "display_data",
          "data": {
            "image/png": "[encoded data removed]",
            "text/plain": [
              "<Figure size 432x288 with 1 Axes>"
            ]
          },
          "metadata": {
            "tags": []
          }
        }
      ]
    },
    {
      "cell_type": "markdown",
      "metadata": {
        "id": "nimNS4IlXM9c",
        "colab_type": "text"
      },
      "source": [
        "\n",
        "\n",
        "---\n",
        "\n",
        "\n",
        "\n",
        "---\n",
        "\n",
        "\n",
        "\n"
      ]
    },
    {
      "cell_type": "markdown",
      "metadata": {
        "id": "4WVjw3JgXSxy",
        "colab_type": "text"
      },
      "source": [
        "##Elaborate Predictions to compare with true values"
      ]
    },
    {
      "cell_type": "code",
      "metadata": {
        "id": "GzcemWUVlsOi",
        "colab_type": "code",
        "colab": {}
      },
      "source": [
        "# The algorithm uses data of the previous 25 time-steps to forecast the following 10th minute into the future. Therefore,  \n",
        "# the first prediction of every day can only be excecuted after 25 minutes of the begining of the day, and will refer  \n",
        "# to the prediction of the minute 35. Also the data is first stationarized by apply the diff() function with then subtracts\n",
        "# the following row from the previous. \n",
        "\n",
        "# Since every day consists of 1440 minutes the algorithm is only able to predict the last 1404 minutes of the day.\n",
        "\n",
        "#Create a Dataframe to hold the true predicted values for each day.\n",
        "def createPredictionsData(days):  \n",
        "  predictionsData = DayTrade.copy()\n",
        "  predictionsData = predictionsData.loc[:,['Weighted_Price','date']]\n",
        "  predictionsData = predictionsData[predictionsData['date'].isin(days)]# Filter only the testing days\n",
        "  predictionsData = predictionsData.groupby('date').apply(lambda group: group.iloc[35:])# For each day filter the last 1405 minutes (1440 - 1405 = 35)\n",
        "  predictionsData = predictionsData.drop(columns='date')\n",
        "  predictionsData = predictionsData.reset_index()\n",
        "\n",
        "  return(predictionsData)"
      ],
      "execution_count": 0,
      "outputs": []
    },
    {
      "cell_type": "code",
      "metadata": {
        "id": "NNIHNgrDlsOz",
        "colab_type": "code",
        "colab": {}
      },
      "source": [
        "def predict(modelFilename, days):\n",
        "\n",
        "    predictionsData = createPredictionsData(days)\n",
        "    \n",
        "    column_name = modelFilename.split('.')[0]\n",
        "    #Step 1 - Create a column to hold predictions\n",
        "    predictionsData['Prediction_Weighted_Price'] = np.nan #[3]\n",
        "    \n",
        "    \n",
        "    #Step 2 - load model for prediction   \n",
        "    loaded_model = tf.keras.models.load_model(modelFilename)\n",
        "    \n",
        "    for day in days:\n",
        "        #Step 3 - Filter Input data and Target with the selected date\n",
        "        day_test_data = DayTrade_clean[DayTrade_clean['date'].values==day]\n",
        "        day_label_data = target_data_clean[target_data_clean['date'].values==day]\n",
        "        \n",
        "        batch_size = len(day_test_data) - sequence_length\n",
        "         \n",
        "        \n",
        "        #Step 3 - Drop date columns from day test data and day label data\n",
        "        day_test_data = day_test_data.drop(columns=['date'])\n",
        "        day_label_data = day_label_data.drop(columns=['date']).shift(1)\n",
        "\n",
        "        #Step 4 - Convert day data into numpy array\n",
        "        day_test_data = np.array(day_test_data)\n",
        "        day_label_data = np.array(day_label_data)\n",
        "        \n",
        "        #Step 5 - Scale data for Neural Network (all features except Weighted Price)\n",
        "        day_test_data = x_scaler.transform(day_test_data)\n",
        "        day_label_data = y_scaler.transform(day_label_data)\n",
        "        \n",
        "               \n",
        "        #Step 6 - Generate batches of sequence of data\n",
        "        generator = TimeseriesGenerator(day_test_data, day_label_data, length=sequence_length, batch_size=batch_size)\n",
        "\n",
        "        x_batch = np.zeros(shape=(batch_size ,sequence_length, num_x_signal))\n",
        "        y_batch = np.zeros(shape=(batch_size ,sequence_length, num_y_signal))\n",
        "\n",
        "        x_batch, y_batch = generator[0]\n",
        "\n",
        "        #Step 9 - Generate the prediction for that day   \n",
        "        ypred = loaded_model.predict(x_batch)\n",
        "        ypred_rescaled = y_scaler.inverse_transform(ypred)\n",
        "        \n",
        "        index_list = []\n",
        "        index_list = predictionsData.index[predictionsData['date']==day].tolist()\n",
        "\n",
        "        predictionsData.iloc[index_list[0]:index_list[0]+len(index_list),3] = ypred_rescaled\n",
        "\n",
        "    \n",
        "    return(predictionsData)"
      ],
      "execution_count": 0,
      "outputs": []
    },
    {
      "cell_type": "code",
      "metadata": {
        "id": "2fU5aP2blsO5",
        "colab_type": "code",
        "colab": {}
      },
      "source": [
        "model_file = 'DayTrade Model(seed 10).99-0.0000009.h5'\n",
        "modelPath = '/content/drive/My Drive/Capstone/FinalModels/Step2-DayTrade/Seed 10/'\n",
        "modelfilePath = modelPath + '/' + model_file"
      ],
      "execution_count": 0,
      "outputs": []
    },
    {
      "cell_type": "code",
      "metadata": {
        "id": "KoCmeTw8lsPA",
        "colab_type": "code",
        "outputId": "78d8343d-a4b7-44bb-df5f-fbb7a625f881",
        "colab": {
          "base_uri": "https://localhost:8080/",
          "height": 417
        }
      },
      "source": [
        "predictionsData = predict(modelfilePath, testing_days)\n",
        "predictionsData"
      ],
      "execution_count": 0,
      "outputs": [
        {
          "output_type": "stream",
          "text": [
            "WARNING:tensorflow:Error in loading the saved optimizer state. As a result, your model is starting with a freshly initialized optimizer.\n"
          ],
          "name": "stdout"
        },
        {
          "output_type": "execute_result",
          "data": {
            "text/html": [
              "<div>\n",
              "<style scoped>\n",
              "    .dataframe tbody tr th:only-of-type {\n",
              "        vertical-align: middle;\n",
              "    }\n",
              "\n",
              "    .dataframe tbody tr th {\n",
              "        vertical-align: top;\n",
              "    }\n",
              "\n",
              "    .dataframe thead th {\n",
              "        text-align: right;\n",
              "    }\n",
              "</style>\n",
              "<table border=\"1\" class=\"dataframe\">\n",
              "  <thead>\n",
              "    <tr style=\"text-align: right;\">\n",
              "      <th></th>\n",
              "      <th>date</th>\n",
              "      <th>Time</th>\n",
              "      <th>Weighted_Price</th>\n",
              "      <th>Prediction_Weighted_Price</th>\n",
              "    </tr>\n",
              "  </thead>\n",
              "  <tbody>\n",
              "    <tr>\n",
              "      <th>0</th>\n",
              "      <td>2019-02-19</td>\n",
              "      <td>2019-02-19 00:35:00</td>\n",
              "      <td>3901.527342</td>\n",
              "      <td>3953.322266</td>\n",
              "    </tr>\n",
              "    <tr>\n",
              "      <th>1</th>\n",
              "      <td>2019-02-19</td>\n",
              "      <td>2019-02-19 00:36:00</td>\n",
              "      <td>3910.106934</td>\n",
              "      <td>3954.385986</td>\n",
              "    </tr>\n",
              "    <tr>\n",
              "      <th>2</th>\n",
              "      <td>2019-02-19</td>\n",
              "      <td>2019-02-19 00:37:00</td>\n",
              "      <td>3913.037224</td>\n",
              "      <td>3953.604004</td>\n",
              "    </tr>\n",
              "    <tr>\n",
              "      <th>3</th>\n",
              "      <td>2019-02-19</td>\n",
              "      <td>2019-02-19 00:38:00</td>\n",
              "      <td>3933.854943</td>\n",
              "      <td>3950.048340</td>\n",
              "    </tr>\n",
              "    <tr>\n",
              "      <th>4</th>\n",
              "      <td>2019-02-19</td>\n",
              "      <td>2019-02-19 00:39:00</td>\n",
              "      <td>3935.166985</td>\n",
              "      <td>3950.693115</td>\n",
              "    </tr>\n",
              "    <tr>\n",
              "      <th>...</th>\n",
              "      <td>...</td>\n",
              "      <td>...</td>\n",
              "      <td>...</td>\n",
              "      <td>...</td>\n",
              "    </tr>\n",
              "    <tr>\n",
              "      <th>244465</th>\n",
              "      <td>2019-08-11</td>\n",
              "      <td>2019-08-11 23:55:00</td>\n",
              "      <td>11550.565971</td>\n",
              "      <td>11122.544922</td>\n",
              "    </tr>\n",
              "    <tr>\n",
              "      <th>244466</th>\n",
              "      <td>2019-08-11</td>\n",
              "      <td>2019-08-11 23:56:00</td>\n",
              "      <td>11552.336234</td>\n",
              "      <td>11112.181641</td>\n",
              "    </tr>\n",
              "    <tr>\n",
              "      <th>244467</th>\n",
              "      <td>2019-08-11</td>\n",
              "      <td>2019-08-11 23:57:00</td>\n",
              "      <td>11555.520505</td>\n",
              "      <td>11094.723633</td>\n",
              "    </tr>\n",
              "    <tr>\n",
              "      <th>244468</th>\n",
              "      <td>2019-08-11</td>\n",
              "      <td>2019-08-11 23:58:00</td>\n",
              "      <td>11559.252199</td>\n",
              "      <td>11075.010742</td>\n",
              "    </tr>\n",
              "    <tr>\n",
              "      <th>244469</th>\n",
              "      <td>2019-08-11</td>\n",
              "      <td>2019-08-11 23:59:00</td>\n",
              "      <td>11575.638889</td>\n",
              "      <td>11057.145508</td>\n",
              "    </tr>\n",
              "  </tbody>\n",
              "</table>\n",
              "<p>244470 rows × 4 columns</p>\n",
              "</div>"
            ],
            "text/plain": [
              "              date  ... Prediction_Weighted_Price\n",
              "0       2019-02-19  ...               3953.322266\n",
              "1       2019-02-19  ...               3954.385986\n",
              "2       2019-02-19  ...               3953.604004\n",
              "3       2019-02-19  ...               3950.048340\n",
              "4       2019-02-19  ...               3950.693115\n",
              "...            ...  ...                       ...\n",
              "244465  2019-08-11  ...              11122.544922\n",
              "244466  2019-08-11  ...              11112.181641\n",
              "244467  2019-08-11  ...              11094.723633\n",
              "244468  2019-08-11  ...              11075.010742\n",
              "244469  2019-08-11  ...              11057.145508\n",
              "\n",
              "[244470 rows x 4 columns]"
            ]
          },
          "metadata": {
            "tags": []
          },
          "execution_count": 231
        }
      ]
    },
    {
      "cell_type": "code",
      "metadata": {
        "id": "s49G2-L4wTOK",
        "colab_type": "code",
        "colab": {}
      },
      "source": [
        "# Save Dataframe with prediction as csv file\n",
        "prediction_file = '/content/drive/My Drive/Capstone/FinalModels/Step2-DayTrade/Seed 10/'+'predictions_' +  model_file.split('.')[0] + '.csv'\n",
        "prediction_filePath = '/content/' + prediction_file\n",
        "predictionsData.to_csv(prediction_file)"
      ],
      "execution_count": 0,
      "outputs": []
    },
    {
      "cell_type": "code",
      "metadata": {
        "id": "ud9T-Pf5Ia0E",
        "colab_type": "code",
        "colab": {}
      },
      "source": [
        "from sklearn.metrics import mean_squared_error, mean_absolute_error\n",
        "\n",
        "mse_Weighted_Price = mean_squared_error(predictionsData.iloc[:,2],predictionsData.iloc[:,3])\n",
        "mae_Weighted_Price = mean_absolute_error(predictionsData.iloc[:,2],predictionsData.iloc[:,3])"
      ],
      "execution_count": 0,
      "outputs": []
    },
    {
      "cell_type": "code",
      "metadata": {
        "id": "UdWpW6ESIYUt",
        "colab_type": "code",
        "outputId": "aa7e57f3-7736-4d85-a67e-8ca5ca938f02",
        "colab": {
          "base_uri": "https://localhost:8080/",
          "height": 35
        }
      },
      "source": [
        "print(mse_Weighted_Price,mae_Weighted_Price)"
      ],
      "execution_count": 0,
      "outputs": [
        {
          "output_type": "stream",
          "text": [
            "49279.00161704473 146.10810272405652\n"
          ],
          "name": "stdout"
        }
      ]
    },
    {
      "cell_type": "code",
      "metadata": {
        "id": "jVFeor0CFUxz",
        "colab_type": "code",
        "colab": {}
      },
      "source": [
        ""
      ],
      "execution_count": 0,
      "outputs": []
    }
  ]
}