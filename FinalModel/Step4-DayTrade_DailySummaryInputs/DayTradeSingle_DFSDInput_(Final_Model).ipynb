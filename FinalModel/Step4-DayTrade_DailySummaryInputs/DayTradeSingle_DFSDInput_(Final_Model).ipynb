{
  "nbformat": 4,
  "nbformat_minor": 0,
  "metadata": {
    "kernelspec": {
      "display_name": "Python 3",
      "language": "python",
      "name": "python3"
    },
    "language_info": {
      "codemirror_mode": {
        "name": "ipython",
        "version": 3
      },
      "file_extension": ".py",
      "mimetype": "text/x-python",
      "name": "python",
      "nbconvert_exporter": "python",
      "pygments_lexer": "ipython3",
      "version": "3.6.8"
    },
    "colab": {
      "name": "DayTradeSingle_DFSDInput (Final Model).ipynb",
      "provenance": [],
      "collapsed_sections": [],
      "toc_visible": true,
      "include_colab_link": true
    }
  },
  "cells": [
    {
      "cell_type": "markdown",
      "metadata": {
        "id": "view-in-github",
        "colab_type": "text"
      },
      "source": [
        "<a href=\"https://colab.research.google.com/github/kmaciver/Ryerson_Capstone/blob/master/FinalModel/Step4-DayTrade_DailySummaryInputs/DayTradeSingle_DFSDInput_(Final_Model).ipynb\" target=\"_parent\"><img src=\"https://colab.research.google.com/assets/colab-badge.svg\" alt=\"Open In Colab\"/></a>"
      ]
    },
    {
      "cell_type": "code",
      "metadata": {
        "id": "M9hHMfSFdQAT",
        "colab_type": "code",
        "colab": {
          "base_uri": "https://localhost:8080/",
          "height": 120
        },
        "outputId": "256cde20-fb4c-4b38-9f90-39741f3d3ee8"
      },
      "source": [
        "from google.colab import drive\n",
        "drive.mount('/content/drive')"
      ],
      "execution_count": 1,
      "outputs": [
        {
          "output_type": "stream",
          "text": [
            "Go to this URL in a browser: https://accounts.google.com/o/oauth2/auth?client_id=947318989803-6bn6qk8qdgf4n4g3pfee6491hc0brc4i.apps.googleusercontent.com&redirect_uri=urn%3aietf%3awg%3aoauth%3a2.0%3aoob&response_type=code&scope=email%20https%3a%2f%2fwww.googleapis.com%2fauth%2fdocs.test%20https%3a%2f%2fwww.googleapis.com%2fauth%2fdrive%20https%3a%2f%2fwww.googleapis.com%2fauth%2fdrive.photos.readonly%20https%3a%2f%2fwww.googleapis.com%2fauth%2fpeopleapi.readonly\n",
            "\n",
            "Enter your authorization code:\n",
            "··········\n",
            "Mounted at /content/drive\n"
          ],
          "name": "stdout"
        }
      ]
    },
    {
      "cell_type": "code",
      "metadata": {
        "id": "7sFpaBQvcURQ",
        "colab_type": "code",
        "colab": {}
      },
      "source": [
        "%matplotlib inline\n",
        "import matplotlib.pyplot as plt\n",
        "import tensorflow as tf\n",
        "import numpy as np\n",
        "import pandas as pd\n",
        "import os\n",
        "from sklearn.preprocessing import MinMaxScaler, StandardScaler, QuantileTransformer\n",
        "from tensorflow.keras.preprocessing.sequence import TimeseriesGenerator"
      ],
      "execution_count": 0,
      "outputs": []
    },
    {
      "cell_type": "code",
      "metadata": {
        "id": "CyHGVUHWcUSB",
        "colab_type": "code",
        "colab": {}
      },
      "source": [
        "from tensorflow.python.keras.models import Sequential\n",
        "from tensorflow.python.keras.layers import Input, Dense, GRU, Embedding, LSTM, TimeDistributed, Lambda, Dropout\n",
        "from tensorflow.python.keras.optimizers import RMSprop, Adam\n",
        "from tensorflow.python.keras.callbacks import EarlyStopping, ModelCheckpoint, TensorBoard, ReduceLROnPlateau\n",
        "from tensorflow.python.keras import backend as K\n",
        "from tensorflow.python.keras import losses\n",
        "import warnings\n",
        "warnings.filterwarnings('ignore')\n",
        "import random as rand\n",
        "from random import randint\n",
        "from numpy.random import seed\n",
        "seed(10)\n",
        "from tensorflow.compat.v1 import set_random_seed\n",
        "set_random_seed(2)\n"
      ],
      "execution_count": 0,
      "outputs": []
    },
    {
      "cell_type": "code",
      "metadata": {
        "id": "P3LxzHxTcUSQ",
        "colab_type": "code",
        "outputId": "181fbc8c-9d05-479f-e731-a3df23d96dba",
        "colab": {
          "base_uri": "https://localhost:8080/",
          "height": 414
        }
      },
      "source": [
        "file_path = \"/content/drive/My Drive/Capstone/Data Exploration/Day_trade_data.csv\"\n",
        "DayTrade = pd.read_csv(file_path, index_col='Time')\n",
        "DayTrade = DayTrade.drop([DayTrade.columns[0]] ,  axis='columns')\n",
        "DayTrade.head()"
      ],
      "execution_count": 11,
      "outputs": [
        {
          "output_type": "execute_result",
          "data": {
            "text/html": [
              "<div>\n",
              "<style scoped>\n",
              "    .dataframe tbody tr th:only-of-type {\n",
              "        vertical-align: middle;\n",
              "    }\n",
              "\n",
              "    .dataframe tbody tr th {\n",
              "        vertical-align: top;\n",
              "    }\n",
              "\n",
              "    .dataframe thead th {\n",
              "        text-align: right;\n",
              "    }\n",
              "</style>\n",
              "<table border=\"1\" class=\"dataframe\">\n",
              "  <thead>\n",
              "    <tr style=\"text-align: right;\">\n",
              "      <th></th>\n",
              "      <th>Open</th>\n",
              "      <th>High</th>\n",
              "      <th>Low</th>\n",
              "      <th>Close</th>\n",
              "      <th>Volume_.BTC.</th>\n",
              "      <th>Volume_.Currency.</th>\n",
              "      <th>Weighted_Price</th>\n",
              "      <th>date</th>\n",
              "      <th>Open_RoC</th>\n",
              "      <th>High_RoC</th>\n",
              "      <th>Low_RoC</th>\n",
              "      <th>Close_RoC</th>\n",
              "      <th>Weighted_Price_RoC</th>\n",
              "      <th>RSI</th>\n",
              "      <th>MACD_index</th>\n",
              "      <th>slow_stoch</th>\n",
              "    </tr>\n",
              "    <tr>\n",
              "      <th>Time</th>\n",
              "      <th></th>\n",
              "      <th></th>\n",
              "      <th></th>\n",
              "      <th></th>\n",
              "      <th></th>\n",
              "      <th></th>\n",
              "      <th></th>\n",
              "      <th></th>\n",
              "      <th></th>\n",
              "      <th></th>\n",
              "      <th></th>\n",
              "      <th></th>\n",
              "      <th></th>\n",
              "      <th></th>\n",
              "      <th></th>\n",
              "      <th></th>\n",
              "    </tr>\n",
              "  </thead>\n",
              "  <tbody>\n",
              "    <tr>\n",
              "      <th>2013-04-03 00:00:00</th>\n",
              "      <td>116.00</td>\n",
              "      <td>116.00</td>\n",
              "      <td>116.00</td>\n",
              "      <td>116.00</td>\n",
              "      <td>31.713233</td>\n",
              "      <td>3678.735005</td>\n",
              "      <td>116.000000</td>\n",
              "      <td>2013-04-03</td>\n",
              "      <td>0.000000</td>\n",
              "      <td>0.000000</td>\n",
              "      <td>0.000000</td>\n",
              "      <td>0.000000</td>\n",
              "      <td>0.000000</td>\n",
              "      <td>33.333333</td>\n",
              "      <td>-0.36038</td>\n",
              "      <td>0.084906</td>\n",
              "    </tr>\n",
              "    <tr>\n",
              "      <th>2013-04-03 00:01:00</th>\n",
              "      <td>116.00</td>\n",
              "      <td>116.00</td>\n",
              "      <td>116.00</td>\n",
              "      <td>116.00</td>\n",
              "      <td>31.713233</td>\n",
              "      <td>3678.735005</td>\n",
              "      <td>116.000000</td>\n",
              "      <td>2013-04-03</td>\n",
              "      <td>0.000000</td>\n",
              "      <td>0.000000</td>\n",
              "      <td>0.000000</td>\n",
              "      <td>0.000000</td>\n",
              "      <td>0.000000</td>\n",
              "      <td>33.333333</td>\n",
              "      <td>-0.36038</td>\n",
              "      <td>0.084906</td>\n",
              "    </tr>\n",
              "    <tr>\n",
              "      <th>2013-04-03 00:02:00</th>\n",
              "      <td>116.00</td>\n",
              "      <td>116.58</td>\n",
              "      <td>116.00</td>\n",
              "      <td>116.58</td>\n",
              "      <td>2.050985</td>\n",
              "      <td>238.357034</td>\n",
              "      <td>116.215883</td>\n",
              "      <td>2013-04-03</td>\n",
              "      <td>0.000000</td>\n",
              "      <td>0.004988</td>\n",
              "      <td>0.000000</td>\n",
              "      <td>0.004988</td>\n",
              "      <td>0.001859</td>\n",
              "      <td>33.333333</td>\n",
              "      <td>-0.36038</td>\n",
              "      <td>0.084906</td>\n",
              "    </tr>\n",
              "    <tr>\n",
              "      <th>2013-04-03 00:03:00</th>\n",
              "      <td>116.98</td>\n",
              "      <td>117.00</td>\n",
              "      <td>116.98</td>\n",
              "      <td>117.00</td>\n",
              "      <td>23.000000</td>\n",
              "      <td>2690.890000</td>\n",
              "      <td>116.995217</td>\n",
              "      <td>2013-04-03</td>\n",
              "      <td>0.008413</td>\n",
              "      <td>0.003596</td>\n",
              "      <td>0.008413</td>\n",
              "      <td>0.003596</td>\n",
              "      <td>0.006684</td>\n",
              "      <td>33.333333</td>\n",
              "      <td>-0.36038</td>\n",
              "      <td>0.084906</td>\n",
              "    </tr>\n",
              "    <tr>\n",
              "      <th>2013-04-03 00:04:00</th>\n",
              "      <td>117.00</td>\n",
              "      <td>117.00</td>\n",
              "      <td>117.00</td>\n",
              "      <td>117.00</td>\n",
              "      <td>50.000000</td>\n",
              "      <td>5850.000000</td>\n",
              "      <td>117.000000</td>\n",
              "      <td>2013-04-03</td>\n",
              "      <td>0.000171</td>\n",
              "      <td>0.000000</td>\n",
              "      <td>0.000171</td>\n",
              "      <td>0.000000</td>\n",
              "      <td>0.000041</td>\n",
              "      <td>33.333333</td>\n",
              "      <td>-0.36038</td>\n",
              "      <td>0.084906</td>\n",
              "    </tr>\n",
              "  </tbody>\n",
              "</table>\n",
              "</div>"
            ],
            "text/plain": [
              "                       Open    High     Low  ...        RSI  MACD_index  slow_stoch\n",
              "Time                                         ...                                   \n",
              "2013-04-03 00:00:00  116.00  116.00  116.00  ...  33.333333    -0.36038    0.084906\n",
              "2013-04-03 00:01:00  116.00  116.00  116.00  ...  33.333333    -0.36038    0.084906\n",
              "2013-04-03 00:02:00  116.00  116.58  116.00  ...  33.333333    -0.36038    0.084906\n",
              "2013-04-03 00:03:00  116.98  117.00  116.98  ...  33.333333    -0.36038    0.084906\n",
              "2013-04-03 00:04:00  117.00  117.00  117.00  ...  33.333333    -0.36038    0.084906\n",
              "\n",
              "[5 rows x 16 columns]"
            ]
          },
          "metadata": {
            "tags": []
          },
          "execution_count": 11
        }
      ]
    },
    {
      "cell_type": "markdown",
      "metadata": {
        "id": "XxN7_raMcUSi",
        "colab_type": "text"
      },
      "source": [
        "Dropping Volume Currency as discussed in the Feature Selection phase"
      ]
    },
    {
      "cell_type": "code",
      "metadata": {
        "id": "tDc3AcnhcUSm",
        "colab_type": "code",
        "colab": {}
      },
      "source": [
        "DayTrade = DayTrade.drop(columns='Volume_.Currency.')"
      ],
      "execution_count": 0,
      "outputs": []
    },
    {
      "cell_type": "code",
      "metadata": {
        "id": "tYfTiUg7cUS0",
        "colab_type": "code",
        "outputId": "b3ef905b-d31a-4ec6-d748-c866aab22a10",
        "colab": {
          "base_uri": "https://localhost:8080/",
          "height": 227
        }
      },
      "source": [
        "#We need create a target data, which is basically a copy of the data that will be later shifted\n",
        "target_data = DayTrade.copy()\n",
        "target_data = target_data.iloc[:,5:7]\n",
        "target_data.head()"
      ],
      "execution_count": 13,
      "outputs": [
        {
          "output_type": "execute_result",
          "data": {
            "text/html": [
              "<div>\n",
              "<style scoped>\n",
              "    .dataframe tbody tr th:only-of-type {\n",
              "        vertical-align: middle;\n",
              "    }\n",
              "\n",
              "    .dataframe tbody tr th {\n",
              "        vertical-align: top;\n",
              "    }\n",
              "\n",
              "    .dataframe thead th {\n",
              "        text-align: right;\n",
              "    }\n",
              "</style>\n",
              "<table border=\"1\" class=\"dataframe\">\n",
              "  <thead>\n",
              "    <tr style=\"text-align: right;\">\n",
              "      <th></th>\n",
              "      <th>Weighted_Price</th>\n",
              "      <th>date</th>\n",
              "    </tr>\n",
              "    <tr>\n",
              "      <th>Time</th>\n",
              "      <th></th>\n",
              "      <th></th>\n",
              "    </tr>\n",
              "  </thead>\n",
              "  <tbody>\n",
              "    <tr>\n",
              "      <th>2013-04-03 00:00:00</th>\n",
              "      <td>116.000000</td>\n",
              "      <td>2013-04-03</td>\n",
              "    </tr>\n",
              "    <tr>\n",
              "      <th>2013-04-03 00:01:00</th>\n",
              "      <td>116.000000</td>\n",
              "      <td>2013-04-03</td>\n",
              "    </tr>\n",
              "    <tr>\n",
              "      <th>2013-04-03 00:02:00</th>\n",
              "      <td>116.215883</td>\n",
              "      <td>2013-04-03</td>\n",
              "    </tr>\n",
              "    <tr>\n",
              "      <th>2013-04-03 00:03:00</th>\n",
              "      <td>116.995217</td>\n",
              "      <td>2013-04-03</td>\n",
              "    </tr>\n",
              "    <tr>\n",
              "      <th>2013-04-03 00:04:00</th>\n",
              "      <td>117.000000</td>\n",
              "      <td>2013-04-03</td>\n",
              "    </tr>\n",
              "  </tbody>\n",
              "</table>\n",
              "</div>"
            ],
            "text/plain": [
              "                     Weighted_Price        date\n",
              "Time                                           \n",
              "2013-04-03 00:00:00      116.000000  2013-04-03\n",
              "2013-04-03 00:01:00      116.000000  2013-04-03\n",
              "2013-04-03 00:02:00      116.215883  2013-04-03\n",
              "2013-04-03 00:03:00      116.995217  2013-04-03\n",
              "2013-04-03 00:04:00      117.000000  2013-04-03"
            ]
          },
          "metadata": {
            "tags": []
          },
          "execution_count": 13
        }
      ]
    },
    {
      "cell_type": "markdown",
      "metadata": {
        "id": "9gqzrRLVcUTB",
        "colab_type": "text"
      },
      "source": [
        "The objective of the model is to predict 10 minutes ahead of the current timestep. The Day Trade data contains the minute to minute data for a total of 1735 days. The analysis must be limited within each day."
      ]
    },
    {
      "cell_type": "code",
      "metadata": {
        "id": "OlV_1_cdcUTD",
        "colab_type": "code",
        "colab": {}
      },
      "source": [
        "# Predict 10 minutes in the future, although the predictions must be wrapped around each day\n",
        "shift_steps = 10\n",
        "\n",
        "# Now that the target_data was created we need to shift the data so that the target values of 24 hours later aling with our\n",
        "# input data\n",
        "\n",
        "target_data = target_data.groupby('date').shift(-shift_steps)\n"
      ],
      "execution_count": 0,
      "outputs": []
    },
    {
      "cell_type": "markdown",
      "metadata": {
        "id": "PabWRzUIcUTV",
        "colab_type": "text"
      },
      "source": [
        "Here we double check that because we shifted the target values now we have NaN values at the end"
      ]
    },
    {
      "cell_type": "code",
      "metadata": {
        "id": "EP86VkS7cUTa",
        "colab_type": "code",
        "outputId": "a7836a33-de0c-4327-b1d0-5cd63c89435d",
        "colab": {
          "base_uri": "https://localhost:8080/",
          "height": 977
        }
      },
      "source": [
        "target_data.iloc[1420:1450]"
      ],
      "execution_count": 15,
      "outputs": [
        {
          "output_type": "execute_result",
          "data": {
            "text/html": [
              "<div>\n",
              "<style scoped>\n",
              "    .dataframe tbody tr th:only-of-type {\n",
              "        vertical-align: middle;\n",
              "    }\n",
              "\n",
              "    .dataframe tbody tr th {\n",
              "        vertical-align: top;\n",
              "    }\n",
              "\n",
              "    .dataframe thead th {\n",
              "        text-align: right;\n",
              "    }\n",
              "</style>\n",
              "<table border=\"1\" class=\"dataframe\">\n",
              "  <thead>\n",
              "    <tr style=\"text-align: right;\">\n",
              "      <th></th>\n",
              "      <th>Weighted_Price</th>\n",
              "    </tr>\n",
              "    <tr>\n",
              "      <th>Time</th>\n",
              "      <th></th>\n",
              "    </tr>\n",
              "  </thead>\n",
              "  <tbody>\n",
              "    <tr>\n",
              "      <th>2013-04-03 23:40:00</th>\n",
              "      <td>129.900000</td>\n",
              "    </tr>\n",
              "    <tr>\n",
              "      <th>2013-04-03 23:41:00</th>\n",
              "      <td>129.900000</td>\n",
              "    </tr>\n",
              "    <tr>\n",
              "      <th>2013-04-03 23:42:00</th>\n",
              "      <td>129.899861</td>\n",
              "    </tr>\n",
              "    <tr>\n",
              "      <th>2013-04-03 23:43:00</th>\n",
              "      <td>129.892440</td>\n",
              "    </tr>\n",
              "    <tr>\n",
              "      <th>2013-04-03 23:44:00</th>\n",
              "      <td>130.049341</td>\n",
              "    </tr>\n",
              "    <tr>\n",
              "      <th>2013-04-03 23:45:00</th>\n",
              "      <td>131.371316</td>\n",
              "    </tr>\n",
              "    <tr>\n",
              "      <th>2013-04-03 23:46:00</th>\n",
              "      <td>132.534018</td>\n",
              "    </tr>\n",
              "    <tr>\n",
              "      <th>2013-04-03 23:47:00</th>\n",
              "      <td>132.912123</td>\n",
              "    </tr>\n",
              "    <tr>\n",
              "      <th>2013-04-03 23:48:00</th>\n",
              "      <td>132.819273</td>\n",
              "    </tr>\n",
              "    <tr>\n",
              "      <th>2013-04-03 23:49:00</th>\n",
              "      <td>133.091659</td>\n",
              "    </tr>\n",
              "    <tr>\n",
              "      <th>2013-04-03 23:50:00</th>\n",
              "      <td>NaN</td>\n",
              "    </tr>\n",
              "    <tr>\n",
              "      <th>2013-04-03 23:51:00</th>\n",
              "      <td>NaN</td>\n",
              "    </tr>\n",
              "    <tr>\n",
              "      <th>2013-04-03 23:52:00</th>\n",
              "      <td>NaN</td>\n",
              "    </tr>\n",
              "    <tr>\n",
              "      <th>2013-04-03 23:53:00</th>\n",
              "      <td>NaN</td>\n",
              "    </tr>\n",
              "    <tr>\n",
              "      <th>2013-04-03 23:54:00</th>\n",
              "      <td>NaN</td>\n",
              "    </tr>\n",
              "    <tr>\n",
              "      <th>2013-04-03 23:55:00</th>\n",
              "      <td>NaN</td>\n",
              "    </tr>\n",
              "    <tr>\n",
              "      <th>2013-04-03 23:56:00</th>\n",
              "      <td>NaN</td>\n",
              "    </tr>\n",
              "    <tr>\n",
              "      <th>2013-04-03 23:57:00</th>\n",
              "      <td>NaN</td>\n",
              "    </tr>\n",
              "    <tr>\n",
              "      <th>2013-04-03 23:58:00</th>\n",
              "      <td>NaN</td>\n",
              "    </tr>\n",
              "    <tr>\n",
              "      <th>2013-04-03 23:59:00</th>\n",
              "      <td>NaN</td>\n",
              "    </tr>\n",
              "    <tr>\n",
              "      <th>2013-04-08 00:00:00</th>\n",
              "      <td>164.628270</td>\n",
              "    </tr>\n",
              "    <tr>\n",
              "      <th>2013-04-08 00:01:00</th>\n",
              "      <td>164.971825</td>\n",
              "    </tr>\n",
              "    <tr>\n",
              "      <th>2013-04-08 00:02:00</th>\n",
              "      <td>164.990000</td>\n",
              "    </tr>\n",
              "    <tr>\n",
              "      <th>2013-04-08 00:03:00</th>\n",
              "      <td>164.986254</td>\n",
              "    </tr>\n",
              "    <tr>\n",
              "      <th>2013-04-08 00:04:00</th>\n",
              "      <td>164.998242</td>\n",
              "    </tr>\n",
              "    <tr>\n",
              "      <th>2013-04-08 00:05:00</th>\n",
              "      <td>164.960000</td>\n",
              "    </tr>\n",
              "    <tr>\n",
              "      <th>2013-04-08 00:06:00</th>\n",
              "      <td>164.960000</td>\n",
              "    </tr>\n",
              "    <tr>\n",
              "      <th>2013-04-08 00:07:00</th>\n",
              "      <td>164.960000</td>\n",
              "    </tr>\n",
              "    <tr>\n",
              "      <th>2013-04-08 00:08:00</th>\n",
              "      <td>164.960000</td>\n",
              "    </tr>\n",
              "    <tr>\n",
              "      <th>2013-04-08 00:09:00</th>\n",
              "      <td>164.960000</td>\n",
              "    </tr>\n",
              "  </tbody>\n",
              "</table>\n",
              "</div>"
            ],
            "text/plain": [
              "                     Weighted_Price\n",
              "Time                               \n",
              "2013-04-03 23:40:00      129.900000\n",
              "2013-04-03 23:41:00      129.900000\n",
              "2013-04-03 23:42:00      129.899861\n",
              "2013-04-03 23:43:00      129.892440\n",
              "2013-04-03 23:44:00      130.049341\n",
              "2013-04-03 23:45:00      131.371316\n",
              "2013-04-03 23:46:00      132.534018\n",
              "2013-04-03 23:47:00      132.912123\n",
              "2013-04-03 23:48:00      132.819273\n",
              "2013-04-03 23:49:00      133.091659\n",
              "2013-04-03 23:50:00             NaN\n",
              "2013-04-03 23:51:00             NaN\n",
              "2013-04-03 23:52:00             NaN\n",
              "2013-04-03 23:53:00             NaN\n",
              "2013-04-03 23:54:00             NaN\n",
              "2013-04-03 23:55:00             NaN\n",
              "2013-04-03 23:56:00             NaN\n",
              "2013-04-03 23:57:00             NaN\n",
              "2013-04-03 23:58:00             NaN\n",
              "2013-04-03 23:59:00             NaN\n",
              "2013-04-08 00:00:00      164.628270\n",
              "2013-04-08 00:01:00      164.971825\n",
              "2013-04-08 00:02:00      164.990000\n",
              "2013-04-08 00:03:00      164.986254\n",
              "2013-04-08 00:04:00      164.998242\n",
              "2013-04-08 00:05:00      164.960000\n",
              "2013-04-08 00:06:00      164.960000\n",
              "2013-04-08 00:07:00      164.960000\n",
              "2013-04-08 00:08:00      164.960000\n",
              "2013-04-08 00:09:00      164.960000"
            ]
          },
          "metadata": {
            "tags": []
          },
          "execution_count": 15
        }
      ]
    },
    {
      "cell_type": "code",
      "metadata": {
        "id": "4zBH2un3cUTm",
        "colab_type": "code",
        "colab": {}
      },
      "source": [
        "# Now we need to remove the rows with NaN values for the target data thus needing to exclude also the \n",
        "# 10 lines per day of the DayTrade data\n",
        "\n",
        "DayTrade['target'] = target_data['Weighted_Price']\n",
        "\n",
        "target_data['date'] = DayTrade['date']\n",
        "\n",
        "DayTrade_clean = DayTrade.dropna()\n",
        "target_data_clean = target_data.dropna()"
      ],
      "execution_count": 0,
      "outputs": []
    },
    {
      "cell_type": "code",
      "metadata": {
        "id": "876etTVLcUTy",
        "colab_type": "code",
        "outputId": "f262ec63-48ea-47f6-ffc0-dffca7392b99",
        "colab": {
          "base_uri": "https://localhost:8080/",
          "height": 33
        }
      },
      "source": [
        "DayTrade_clean.shape, target_data_clean.shape"
      ],
      "execution_count": 17,
      "outputs": [
        {
          "output_type": "execute_result",
          "data": {
            "text/plain": [
              "((2481050, 16), (2481050, 2))"
            ]
          },
          "metadata": {
            "tags": []
          },
          "execution_count": 17
        }
      ]
    },
    {
      "cell_type": "markdown",
      "metadata": {
        "id": "VaFi_FnRcUUK",
        "colab_type": "text"
      },
      "source": [
        "Number of rows for both data are correct since initially the data consisted of 1735 days of 1440 minutes (total of 2.481.050 rows) and now each day had the last 10 minutes so the total amount of rows must be 1735 days of 1430 minutes (total of 2.481.050)"
      ]
    },
    {
      "cell_type": "code",
      "metadata": {
        "id": "X_8nT8cycUUS",
        "colab_type": "code",
        "colab": {}
      },
      "source": [
        "# the target column was only added to the DayTrade data in order to drop the correct rows.\n",
        "#Removing column 'target' from the DayTrade data\n",
        "\n",
        "DayTrade = DayTrade.drop(columns='target')\n",
        "DayTrade_clean = DayTrade_clean.drop(columns='target')"
      ],
      "execution_count": 0,
      "outputs": []
    },
    {
      "cell_type": "markdown",
      "metadata": {
        "id": "Uq_qUZNwcUUq",
        "colab_type": "text"
      },
      "source": [
        "## Adding prediction for High and Low based on Daily Summary "
      ]
    },
    {
      "cell_type": "markdown",
      "metadata": {
        "id": "tsP1JPiQcUU0",
        "colab_type": "text"
      },
      "source": [
        "The daily summary was used to predict the high and low price of the next day. This values will then be used by the algorithm to try to reduce the variance of the prediction"
      ]
    },
    {
      "cell_type": "code",
      "metadata": {
        "id": "h7TgM2dmcUU4",
        "colab_type": "code",
        "colab": {
          "base_uri": "https://localhost:8080/",
          "height": 33
        },
        "outputId": "881c4c14-a664-493c-fa83-f222c20edc0d"
      },
      "source": [
        "# Each day of the DayTrade data must have a prediction for what is the current day high and low price expectation\n",
        "\n",
        "#Load DailySummary data\n",
        "file_path = \"/content/drive/My Drive/Capstone/Data Exploration/DSFD.csv\"\n",
        "DaySummary = pd.read_csv(file_path, index_col='date')\n",
        "DaySummary = DaySummary.drop([DaySummary.columns[0]] ,  axis='columns')\n",
        "DaySummary = DaySummary.drop(columns=['Volume_Currency','Close_RoC'])\n",
        "\n",
        "target_dataDaySummary = DaySummary.copy()\n",
        "target_dataDaySummary = target_dataDaySummary.loc[:,['High','Low']]\n",
        "\n",
        "shift_steps = 1\n",
        "target_dataDaySummary = target_dataDaySummary.shift(-shift_steps)\n",
        "\n",
        "DaySummary_clean = DaySummary.iloc[:-1,:]\n",
        "target_dataDaySummary_clean = target_dataDaySummary.iloc[:-1,:]\n",
        "\n",
        "X_data = np.array(DaySummary_clean)\n",
        "Y_data = np.array(target_dataDaySummary_clean)\n",
        "\n",
        "train_split = 0.9\n",
        "\n",
        "n_train_rows = int(X_data.shape[0]*train_split)\n",
        "\n",
        "X_train = X_data[0:n_train_rows]\n",
        "Y_train = Y_data[0:n_train_rows]\n",
        "\n",
        "#Create Scalers and fit them\n",
        "x_scaler = MinMaxScaler()\n",
        "x_scaler.fit(X_train)\n",
        "\n",
        "y_scaler = MinMaxScaler()\n",
        "y_scaler.fit(Y_train)\n",
        "\n",
        "\n",
        "# Scale X_data, rechape and transform it into Batches for prediction\n",
        "X_data_scaled = x_scaler.transform(X_data)\n",
        "X_data_scaled  = X_data_scaled.reshape(1,X_data_scaled.shape[0],X_data_scaled.shape[1])\n",
        "\n",
        "#Create Batches for the X_data\n",
        "sequence_length = 25\n",
        "num_x_signal = 13\n",
        "num_y_signal = 2\n",
        "\n",
        "# Allocate a new array for the batch of input-signals.\n",
        "batch_size_val = X_data_scaled.shape[1] - sequence_length \n",
        "\n",
        "x_shape = (batch_size_val, sequence_length, num_x_signal)\n",
        "x_batch = np.zeros(shape=x_shape, dtype=np.float16)\n",
        "\n",
        "# Fill the batch with random sequences of data.\n",
        "for i in range(batch_size_val):\n",
        "    # Copy the sequences of data starting at this index.\n",
        "    x_batch[i] = X_data_scaled[0][i:i+sequence_length][:]\n",
        "    \n",
        "#load model for prediction \n",
        "DSFD_modelFilePath = \"/content/drive/My Drive/Capstone/FinalModels/Step3-DailySummary/DailySummary_LSTM_trained.h5\"\n",
        "loaded_model = tf.keras.models.load_model(DSFD_modelFilePath)  \n",
        "\n",
        "#Generate the prediction   \n",
        "ypred = loaded_model.predict(x_batch)\n",
        "ypred_rescaled = y_scaler.inverse_transform(ypred)\n",
        "\n",
        "#Create columns of prediction for DaySummary data\n",
        "DaySummary['High_Pred'] = np.nan\n",
        "DaySummary['Low_Pred'] = np.nan\n",
        "\n",
        "\n",
        "#Copy the prediction values to the DauSummary Data\n",
        "DaySummary.High_Pred[26:] =  ypred_rescaled[:,0]\n",
        "DaySummary.Low_Pred[26:] =  ypred_rescaled[:,1]"
      ],
      "execution_count": 12,
      "outputs": [
        {
          "output_type": "stream",
          "text": [
            "WARNING:tensorflow:Error in loading the saved optimizer state. As a result, your model is starting with a freshly initialized optimizer.\n"
          ],
          "name": "stdout"
        }
      ]
    },
    {
      "cell_type": "code",
      "metadata": {
        "id": "lJDrtTggcUVE",
        "colab_type": "code",
        "colab": {}
      },
      "source": [
        "# Now that DaySummary has predictions High and Low predictions for the day, it is necessary to copy those prediction into the \n",
        "# DayTrade data\n",
        "\n",
        "DaySummary_clean = DaySummary.copy()\n",
        "DaySummary_clean.dropna()\n",
        "\n",
        "days_in_DailySummary = list(dict.fromkeys(DaySummary_clean.index.values))\n",
        "days_in_data = list(dict.fromkeys(DayTrade_clean[\"date\"].values))\n",
        "days_with_predictions = list(set(days_in_data).intersection(days_in_DailySummary))\n",
        "\n",
        "DayTrade_clean['High_Pred'] = np.nan\n",
        "DayTrade_clean['Low_Pred'] = np.nan\n",
        "\n",
        "for day in days_with_predictions:\n",
        "    DayTrade_clean.High_Pred[DayTrade_clean['date'].values==day] = np.array(DaySummary_clean.High_Pred[DaySummary_clean.index==day])\n",
        "    DayTrade_clean.Low_Pred[DayTrade_clean['date'].values==day] = np.array(DaySummary_clean.Low_Pred[DaySummary_clean.index==day])    \n"
      ],
      "execution_count": 0,
      "outputs": []
    },
    {
      "cell_type": "code",
      "metadata": {
        "id": "uqtNi3UPcUVO",
        "colab_type": "code",
        "outputId": "85a1817e-60dd-44bb-c422-0a570c1bff6a",
        "colab": {
          "base_uri": "https://localhost:8080/",
          "height": 33
        }
      },
      "source": [
        "DayTrade_clean = DayTrade_clean.dropna()\n",
        "DayTrade_clean.shape"
      ],
      "execution_count": 14,
      "outputs": [
        {
          "output_type": "execute_result",
          "data": {
            "text/plain": [
              "(2453880, 17)"
            ]
          },
          "metadata": {
            "tags": []
          },
          "execution_count": 14
        }
      ]
    },
    {
      "cell_type": "code",
      "metadata": {
        "id": "zHnCFlbT2CVB",
        "colab_type": "code",
        "colab": {
          "base_uri": "https://localhost:8080/",
          "height": 100
        },
        "outputId": "bcd281c8-1f2d-4a78-994d-dd67007b538b"
      },
      "source": [
        "DayTrade_clean.columns"
      ],
      "execution_count": 15,
      "outputs": [
        {
          "output_type": "execute_result",
          "data": {
            "text/plain": [
              "Index(['Open', 'High', 'Low', 'Close', 'Volume_.BTC.', 'Weighted_Price',\n",
              "       'date', 'Open_RoC', 'High_RoC', 'Low_RoC', 'Close_RoC',\n",
              "       'Weighted_Price_RoC', 'RSI', 'MACD_index', 'slow_stoch', 'High_Pred',\n",
              "       'Low_Pred'],\n",
              "      dtype='object')"
            ]
          },
          "metadata": {
            "tags": []
          },
          "execution_count": 15
        }
      ]
    },
    {
      "cell_type": "code",
      "metadata": {
        "id": "RGYBhkpp3MHc",
        "colab_type": "code",
        "colab": {
          "base_uri": "https://localhost:8080/",
          "height": 731
        },
        "outputId": "9d15f59e-7007-4d81-ffeb-07ccbfe898ca"
      },
      "source": [
        "DayTrade_clean.tail(10)"
      ],
      "execution_count": 19,
      "outputs": [
        {
          "output_type": "execute_result",
          "data": {
            "text/html": [
              "<div>\n",
              "<style scoped>\n",
              "    .dataframe tbody tr th:only-of-type {\n",
              "        vertical-align: middle;\n",
              "    }\n",
              "\n",
              "    .dataframe tbody tr th {\n",
              "        vertical-align: top;\n",
              "    }\n",
              "\n",
              "    .dataframe thead th {\n",
              "        text-align: right;\n",
              "    }\n",
              "</style>\n",
              "<table border=\"1\" class=\"dataframe\">\n",
              "  <thead>\n",
              "    <tr style=\"text-align: right;\">\n",
              "      <th></th>\n",
              "      <th>Open</th>\n",
              "      <th>High</th>\n",
              "      <th>Low</th>\n",
              "      <th>Close</th>\n",
              "      <th>Volume_.BTC.</th>\n",
              "      <th>Weighted_Price</th>\n",
              "      <th>date</th>\n",
              "      <th>Open_RoC</th>\n",
              "      <th>High_RoC</th>\n",
              "      <th>Low_RoC</th>\n",
              "      <th>Close_RoC</th>\n",
              "      <th>Weighted_Price_RoC</th>\n",
              "      <th>RSI</th>\n",
              "      <th>MACD_index</th>\n",
              "      <th>slow_stoch</th>\n",
              "      <th>High_Pred</th>\n",
              "      <th>Low_Pred</th>\n",
              "    </tr>\n",
              "    <tr>\n",
              "      <th>Time</th>\n",
              "      <th></th>\n",
              "      <th></th>\n",
              "      <th></th>\n",
              "      <th></th>\n",
              "      <th></th>\n",
              "      <th></th>\n",
              "      <th></th>\n",
              "      <th></th>\n",
              "      <th></th>\n",
              "      <th></th>\n",
              "      <th></th>\n",
              "      <th></th>\n",
              "      <th></th>\n",
              "      <th></th>\n",
              "      <th></th>\n",
              "      <th></th>\n",
              "      <th></th>\n",
              "    </tr>\n",
              "  </thead>\n",
              "  <tbody>\n",
              "    <tr>\n",
              "      <th>2019-08-11 23:40:00</th>\n",
              "      <td>11528.20</td>\n",
              "      <td>11532.86</td>\n",
              "      <td>11505.84</td>\n",
              "      <td>11505.97</td>\n",
              "      <td>2.049550</td>\n",
              "      <td>11527.942145</td>\n",
              "      <td>2019-08-11</td>\n",
              "      <td>0.000680</td>\n",
              "      <td>0.001084</td>\n",
              "      <td>-0.000536</td>\n",
              "      <td>-0.000525</td>\n",
              "      <td>0.001007</td>\n",
              "      <td>46.910718</td>\n",
              "      <td>0.005368</td>\n",
              "      <td>0.436299</td>\n",
              "      <td>11879.370117</td>\n",
              "      <td>11216.633789</td>\n",
              "    </tr>\n",
              "    <tr>\n",
              "      <th>2019-08-11 23:41:00</th>\n",
              "      <td>11522.45</td>\n",
              "      <td>11522.45</td>\n",
              "      <td>11519.16</td>\n",
              "      <td>11519.16</td>\n",
              "      <td>3.455912</td>\n",
              "      <td>11521.067360</td>\n",
              "      <td>2019-08-11</td>\n",
              "      <td>-0.000499</td>\n",
              "      <td>-0.000903</td>\n",
              "      <td>0.001157</td>\n",
              "      <td>0.001146</td>\n",
              "      <td>-0.000597</td>\n",
              "      <td>53.438167</td>\n",
              "      <td>0.005437</td>\n",
              "      <td>0.414254</td>\n",
              "      <td>11879.370117</td>\n",
              "      <td>11216.633789</td>\n",
              "    </tr>\n",
              "    <tr>\n",
              "      <th>2019-08-11 23:42:00</th>\n",
              "      <td>11522.10</td>\n",
              "      <td>11524.83</td>\n",
              "      <td>11522.10</td>\n",
              "      <td>11524.83</td>\n",
              "      <td>0.220695</td>\n",
              "      <td>11522.285170</td>\n",
              "      <td>2019-08-11</td>\n",
              "      <td>-0.000030</td>\n",
              "      <td>0.000207</td>\n",
              "      <td>0.000255</td>\n",
              "      <td>0.000492</td>\n",
              "      <td>0.000106</td>\n",
              "      <td>55.945707</td>\n",
              "      <td>0.007044</td>\n",
              "      <td>0.458960</td>\n",
              "      <td>11879.370117</td>\n",
              "      <td>11216.633789</td>\n",
              "    </tr>\n",
              "    <tr>\n",
              "      <th>2019-08-11 23:43:00</th>\n",
              "      <td>11519.26</td>\n",
              "      <td>11519.26</td>\n",
              "      <td>11510.00</td>\n",
              "      <td>11510.00</td>\n",
              "      <td>5.479156</td>\n",
              "      <td>11510.019621</td>\n",
              "      <td>2019-08-11</td>\n",
              "      <td>-0.000247</td>\n",
              "      <td>-0.000483</td>\n",
              "      <td>-0.001051</td>\n",
              "      <td>-0.001288</td>\n",
              "      <td>-0.001065</td>\n",
              "      <td>48.577001</td>\n",
              "      <td>0.007458</td>\n",
              "      <td>0.524607</td>\n",
              "      <td>11879.370117</td>\n",
              "      <td>11216.633789</td>\n",
              "    </tr>\n",
              "    <tr>\n",
              "      <th>2019-08-11 23:44:00</th>\n",
              "      <td>11518.83</td>\n",
              "      <td>11533.19</td>\n",
              "      <td>11518.83</td>\n",
              "      <td>11518.83</td>\n",
              "      <td>0.301245</td>\n",
              "      <td>11521.713463</td>\n",
              "      <td>2019-08-11</td>\n",
              "      <td>-0.000037</td>\n",
              "      <td>0.001209</td>\n",
              "      <td>0.000767</td>\n",
              "      <td>0.000767</td>\n",
              "      <td>0.001015</td>\n",
              "      <td>52.581741</td>\n",
              "      <td>0.008309</td>\n",
              "      <td>0.573885</td>\n",
              "      <td>11879.370117</td>\n",
              "      <td>11216.633789</td>\n",
              "    </tr>\n",
              "    <tr>\n",
              "      <th>2019-08-11 23:45:00</th>\n",
              "      <td>11518.00</td>\n",
              "      <td>11525.85</td>\n",
              "      <td>11518.00</td>\n",
              "      <td>11525.85</td>\n",
              "      <td>0.037464</td>\n",
              "      <td>11518.097327</td>\n",
              "      <td>2019-08-11</td>\n",
              "      <td>-0.000072</td>\n",
              "      <td>-0.000637</td>\n",
              "      <td>-0.000072</td>\n",
              "      <td>0.000609</td>\n",
              "      <td>-0.000314</td>\n",
              "      <td>55.545825</td>\n",
              "      <td>0.010345</td>\n",
              "      <td>0.585729</td>\n",
              "      <td>11879.370117</td>\n",
              "      <td>11216.633789</td>\n",
              "    </tr>\n",
              "    <tr>\n",
              "      <th>2019-08-11 23:46:00</th>\n",
              "      <td>11525.85</td>\n",
              "      <td>11545.00</td>\n",
              "      <td>11525.85</td>\n",
              "      <td>11536.46</td>\n",
              "      <td>2.692778</td>\n",
              "      <td>11532.658016</td>\n",
              "      <td>2019-08-11</td>\n",
              "      <td>0.000681</td>\n",
              "      <td>0.001660</td>\n",
              "      <td>0.000681</td>\n",
              "      <td>0.000920</td>\n",
              "      <td>0.001263</td>\n",
              "      <td>59.651077</td>\n",
              "      <td>0.014460</td>\n",
              "      <td>0.635066</td>\n",
              "      <td>11879.370117</td>\n",
              "      <td>11216.633789</td>\n",
              "    </tr>\n",
              "    <tr>\n",
              "      <th>2019-08-11 23:47:00</th>\n",
              "      <td>11537.75</td>\n",
              "      <td>11539.04</td>\n",
              "      <td>11537.75</td>\n",
              "      <td>11539.04</td>\n",
              "      <td>1.353892</td>\n",
              "      <td>11538.087191</td>\n",
              "      <td>2019-08-11</td>\n",
              "      <td>0.001032</td>\n",
              "      <td>-0.000516</td>\n",
              "      <td>0.001032</td>\n",
              "      <td>0.000224</td>\n",
              "      <td>0.000471</td>\n",
              "      <td>60.603809</td>\n",
              "      <td>0.019988</td>\n",
              "      <td>0.713420</td>\n",
              "      <td>11879.370117</td>\n",
              "      <td>11216.633789</td>\n",
              "    </tr>\n",
              "    <tr>\n",
              "      <th>2019-08-11 23:48:00</th>\n",
              "      <td>11535.84</td>\n",
              "      <td>11544.18</td>\n",
              "      <td>11531.55</td>\n",
              "      <td>11532.27</td>\n",
              "      <td>0.369848</td>\n",
              "      <td>11532.563833</td>\n",
              "      <td>2019-08-11</td>\n",
              "      <td>-0.000166</td>\n",
              "      <td>0.000445</td>\n",
              "      <td>-0.000538</td>\n",
              "      <td>-0.000587</td>\n",
              "      <td>-0.000479</td>\n",
              "      <td>56.812934</td>\n",
              "      <td>0.025128</td>\n",
              "      <td>0.779253</td>\n",
              "      <td>11879.370117</td>\n",
              "      <td>11216.633789</td>\n",
              "    </tr>\n",
              "    <tr>\n",
              "      <th>2019-08-11 23:49:00</th>\n",
              "      <td>11542.17</td>\n",
              "      <td>11550.00</td>\n",
              "      <td>11541.23</td>\n",
              "      <td>11541.23</td>\n",
              "      <td>5.850044</td>\n",
              "      <td>11546.420199</td>\n",
              "      <td>2019-08-11</td>\n",
              "      <td>0.000549</td>\n",
              "      <td>0.000504</td>\n",
              "      <td>0.000839</td>\n",
              "      <td>0.000777</td>\n",
              "      <td>0.001201</td>\n",
              "      <td>60.348083</td>\n",
              "      <td>0.030938</td>\n",
              "      <td>0.793625</td>\n",
              "      <td>11879.370117</td>\n",
              "      <td>11216.633789</td>\n",
              "    </tr>\n",
              "  </tbody>\n",
              "</table>\n",
              "</div>"
            ],
            "text/plain": [
              "                         Open      High  ...     High_Pred      Low_Pred\n",
              "Time                                     ...                            \n",
              "2019-08-11 23:40:00  11528.20  11532.86  ...  11879.370117  11216.633789\n",
              "2019-08-11 23:41:00  11522.45  11522.45  ...  11879.370117  11216.633789\n",
              "2019-08-11 23:42:00  11522.10  11524.83  ...  11879.370117  11216.633789\n",
              "2019-08-11 23:43:00  11519.26  11519.26  ...  11879.370117  11216.633789\n",
              "2019-08-11 23:44:00  11518.83  11533.19  ...  11879.370117  11216.633789\n",
              "2019-08-11 23:45:00  11518.00  11525.85  ...  11879.370117  11216.633789\n",
              "2019-08-11 23:46:00  11525.85  11545.00  ...  11879.370117  11216.633789\n",
              "2019-08-11 23:47:00  11537.75  11539.04  ...  11879.370117  11216.633789\n",
              "2019-08-11 23:48:00  11535.84  11544.18  ...  11879.370117  11216.633789\n",
              "2019-08-11 23:49:00  11542.17  11550.00  ...  11879.370117  11216.633789\n",
              "\n",
              "[10 rows x 17 columns]"
            ]
          },
          "metadata": {
            "tags": []
          },
          "execution_count": 19
        }
      ]
    },
    {
      "cell_type": "code",
      "metadata": {
        "id": "seuxLwmi3SQT",
        "colab_type": "code",
        "colab": {}
      },
      "source": [
        "DayTrade_clean.to_csv('/content/drive/My Drive/Capstone/FinalModels/Step4-DayTrade_DailySummaryInputs/DayTrade_clean.csv')"
      ],
      "execution_count": 0,
      "outputs": []
    },
    {
      "cell_type": "code",
      "metadata": {
        "id": "yeTGWr0IAXtn",
        "colab_type": "code",
        "colab": {}
      },
      "source": [
        "DayTrade_clean = pd.read_csv('/content/drive/My Drive/Capstone/FinalModels/Step4-DayTrade_DailySummaryInputs/DayTrade_clean.csv', index_col='Time')"
      ],
      "execution_count": 0,
      "outputs": []
    },
    {
      "cell_type": "markdown",
      "metadata": {
        "id": "QARSmHyKcUVc",
        "colab_type": "text"
      },
      "source": [
        "By adding the High and Low predictions from the Daily Summary data and removing the NaN the data now has 2.453.880 rows (which corresponds to 1716 days), which means 19 days of the original data lied before the 25 first days that the Daily Summary data needed to begin making predictions"
      ]
    },
    {
      "cell_type": "markdown",
      "metadata": {
        "id": "kHAbwIhTcUVf",
        "colab_type": "text"
      },
      "source": [
        "## Continuing with Day Trade Analysis "
      ]
    },
    {
      "cell_type": "markdown",
      "metadata": {
        "id": "7Fz9_o3BcUVh",
        "colab_type": "text"
      },
      "source": [
        "In order to compare results with other models the same dates for testing must be used"
      ]
    },
    {
      "cell_type": "code",
      "metadata": {
        "id": "45Dc-RCkcUVk",
        "colab_type": "code",
        "outputId": "abfddddd-33b5-438f-b478-5b21d03048bc",
        "colab": {
          "base_uri": "https://localhost:8080/",
          "height": 33
        }
      },
      "source": [
        "# Previous algorithm used 174 days for testing\n",
        "days_in_data = list(dict.fromkeys(DayTrade_clean[\"date\"].values))\n",
        "\n",
        "training_days = days_in_data[:len(days_in_data)-174]\n",
        "testing_days = days_in_data[len(days_in_data)-174:]\n",
        "\n",
        "print(len(training_days),len(testing_days))"
      ],
      "execution_count": 20,
      "outputs": [
        {
          "output_type": "stream",
          "text": [
            "1542 174\n"
          ],
          "name": "stdout"
        }
      ]
    },
    {
      "cell_type": "markdown",
      "metadata": {
        "id": "SOgX6izscUVs",
        "colab_type": "text"
      },
      "source": [
        "Data will need to be normalized for predictions. A scaler will be fitted for the training data"
      ]
    },
    {
      "cell_type": "code",
      "metadata": {
        "id": "hIPe-9dwcUVu",
        "colab_type": "code",
        "outputId": "081478be-289a-4655-8040-81a706f2f2c0",
        "colab": {
          "base_uri": "https://localhost:8080/",
          "height": 33
        }
      },
      "source": [
        "#Step 1 - Convert day data into numpy array\n",
        "train_data = np.array(DayTrade_clean.loc[DayTrade_clean.date.isin(training_days),:].drop(columns='date'))\n",
        "label_data = np.array(target_data_clean.loc[target_data_clean.date.isin(training_days),:].drop(columns='date')).reshape(-1,1)\n",
        "\n",
        "#Step 2 - Scale data for Neural Network\n",
        "x_scaler = MinMaxScaler()\n",
        "x_scaler.fit(train_data)\n",
        "y_scaler = MinMaxScaler()\n",
        "y_scaler.fit(label_data)"
      ],
      "execution_count": 21,
      "outputs": [
        {
          "output_type": "execute_result",
          "data": {
            "text/plain": [
              "MinMaxScaler(copy=True, feature_range=(0, 1))"
            ]
          },
          "metadata": {
            "tags": []
          },
          "execution_count": 21
        }
      ]
    },
    {
      "cell_type": "code",
      "metadata": {
        "id": "lp11hzjlcUV1",
        "colab_type": "code",
        "colab": {}
      },
      "source": [
        "def batch_reshape(sequence_length, X_train_scale, Y_train_scale, num_x_signal, num_y_signal):\n",
        "    \"\"\"\n",
        "    Generator function for creating random batches of training-data.\n",
        "    \"\"\"\n",
        "    batch_size = X_train_scale.shape[1] // sequence_length\n",
        "    # Allocate a new array for the batch of input-signals.\n",
        "    x_shape = (batch_size, sequence_length, num_x_signal)\n",
        "    x_batch = np.zeros(shape=x_shape, dtype=np.float16)\n",
        "    \n",
        " \n",
        "    # Allocate a new array for the batch of output-signals.\n",
        "    y_shape = (batch_size, num_y_signal)\n",
        "    y_batch = np.zeros(shape=y_shape, dtype=np.float16)\n",
        "\n",
        "    #print(x_batch.shape, y_batch.shape, X_train_scale.shape, Y_train_scale.shape) #debugging\n",
        "    # Create Sequence for sliding window\n",
        "    seq = []\n",
        "    for i in range(batch_size):\n",
        "        seq.append(i*sequence_length)\n",
        "    \n",
        "    # Fill the batch with sequences of data.\n",
        "    for i in range(0,len(seq)-1):\n",
        "\n",
        "        # Copy the sequences of data starting at this index.\n",
        "        x_batch[i] = X_train_scale[0][seq[i]:seq[i]+sequence_length][:]\n",
        "        y_batch[i] = Y_train_scale[0][seq[i]+sequence_length-1][:]\n",
        "        #print(\"iteration: \",i,\"-OK\") #debugging\n",
        "\n",
        "    #print(x_batch.shape,y_batch.shape) #debbuging\n",
        "    return (x_batch, y_batch)"
      ],
      "execution_count": 0,
      "outputs": []
    },
    {
      "cell_type": "code",
      "metadata": {
        "id": "qqAUptx1cUV_",
        "colab_type": "code",
        "colab": {}
      },
      "source": [
        "def batch_generator(batch_size, sequence_length, num_x_signal, num_y_signal, train_data, label_data, training_days):\n",
        "    \n",
        "    # Create a Batch function for training data using sliding window technique\n",
        "    # Step 1 - Select a training day\n",
        "\n",
        "    day = rand.choice(training_days)\n",
        "\n",
        "    #Step 2 - Filter Input data and Target with the selected date\n",
        "    day_train_data = train_data[train_data['date'].values==day]\n",
        "    day_label_data = label_data[label_data['date'].values==day]\n",
        "\n",
        "    #Step 3 - Drop date columns from day train data and day label data\n",
        "    day_train_data = day_train_data.drop(columns='date')\n",
        "    day_label_data = day_label_data.drop(columns='date')\n",
        "\n",
        "    #Step 4 - Convert day data into numpy array\n",
        "    day_train_data = np.array(day_train_data)\n",
        "    day_label_data = np.array(day_label_data).reshape(-1,1)\n",
        "\n",
        "    #Step 5 - Scale data for Neural Network\n",
        "    day_train_data = x_scaler.transform(day_train_data)\n",
        "    day_label_data = y_scaler.transform(day_label_data)\n",
        "\n",
        "    #Step 6 - Reshape data to fit keras requirement to have a (x,y,z) shape\n",
        "    day_train_data = day_train_data.reshape(1,day_train_data.shape[0],day_train_data.shape[1])\n",
        "    day_label_data = day_label_data.reshape(1,day_label_data.shape[0],day_label_data.shape[1])\n",
        "    \n",
        "     #Step 7 - Reshape data into Batches\n",
        "    day_train_data_reshape , day_label_data_reshape =  batch_reshape(sequence_length, day_train_data, day_label_data, num_x_signal, num_y_signal)\n",
        "    \n",
        "    # print(day_train_data_reshape.shape , day_train_data_reshape.shape)#debugging\n",
        "   \n",
        "    #Step 8 - Apply the \"jumping\" slidding window technique to the reshaped date\n",
        "    # Infinite loop.\n",
        "    while True:\n",
        "        # Allocate a new array for the batch of input-signals.\n",
        "        x_shape = (batch_size, sequence_length, num_x_signal)\n",
        "        x_batch = np.zeros(shape=x_shape, dtype=np.float16)\n",
        "\n",
        "        # Allocate a new array for the batch of output-signals.\n",
        "        y_shape = (batch_size, num_y_signal)\n",
        "        y_batch = np.zeros(shape=y_shape, dtype=np.float16)\n",
        "\n",
        "        # Fill the batch with random continuous sequences of data.\n",
        "\n",
        "        # Get a random start-index.\n",
        "        # This points somewhere into the training-data.\n",
        "        idx = np.random.randint(day_train_data_reshape.shape[0] - batch_size)\n",
        "\n",
        "        # Copy the sequences of data starting at this index.\n",
        "        x_batch = day_train_data_reshape[idx:idx+batch_size]\n",
        "        y_batch = day_label_data_reshape[idx:idx+batch_size]\n",
        "\n",
        "\n",
        "        yield (x_batch, y_batch)\n",
        "\n"
      ],
      "execution_count": 0,
      "outputs": []
    },
    {
      "cell_type": "code",
      "metadata": {
        "id": "FrBCLFiocUWO",
        "colab_type": "code",
        "colab": {}
      },
      "source": [
        "num_x_signal = 16 # number of input features\n",
        "num_y_signal = 1 # number of label classes\n",
        "\n",
        "batch_size = 50 # tunning parameter\n",
        "sequence_length = 25 #Amount of time-steps to look back for the 10 minute prediction"
      ],
      "execution_count": 0,
      "outputs": []
    },
    {
      "cell_type": "code",
      "metadata": {
        "id": "JcUBg8DJcUWe",
        "colab_type": "code",
        "colab": {}
      },
      "source": [
        "generator = batch_generator(batch_size,sequence_length, num_x_signal, num_y_signal, DayTrade_clean, target_data_clean,training_days)"
      ],
      "execution_count": 0,
      "outputs": []
    },
    {
      "cell_type": "code",
      "metadata": {
        "id": "e20qDTDZcUWt",
        "colab_type": "code",
        "colab": {}
      },
      "source": [
        "x_batch, y_batch = next(generator)"
      ],
      "execution_count": 0,
      "outputs": []
    },
    {
      "cell_type": "code",
      "metadata": {
        "id": "UNAD0wbrcUW4",
        "colab_type": "code",
        "outputId": "2c46bdd7-4dd3-48ec-e848-7544c2fd0bad",
        "colab": {
          "base_uri": "https://localhost:8080/",
          "height": 50
        }
      },
      "source": [
        "print(x_batch.shape)\n",
        "print(y_batch.shape)"
      ],
      "execution_count": 124,
      "outputs": [
        {
          "output_type": "stream",
          "text": [
            "(50, 25, 16)\n",
            "(50, 1)\n"
          ],
          "name": "stdout"
        }
      ]
    },
    {
      "cell_type": "code",
      "metadata": {
        "id": "5HcId0fVcUXD",
        "colab_type": "code",
        "colab": {}
      },
      "source": [
        "\n",
        "def batch_validation(sequence_length, num_x_signal, num_y_signal, test_data, label_test_data, testing_days):\n",
        "    \n",
        "    # Create a Batch function for validation data using sliding window technique\n",
        "    # Step 1 - Select a testing day\n",
        "\n",
        "    day = rand.choice(testing_days)\n",
        "\n",
        "    #Step 2 - Filter Input data and Target with the selected date\n",
        "    day_test_data = test_data[test_data['date'].values==day]\n",
        "    day_label_data = label_test_data[label_test_data['date'].values==day]\n",
        "\n",
        "    #Step 3 - Drop date columns from day test data and day label data\n",
        "    day_test_data = day_test_data.drop(columns='date')\n",
        "    day_label_data = day_label_data.drop(columns='date')\n",
        "\n",
        "    #Step 4 - Convert day data into numpy array\n",
        "    day_test_data = np.array(day_test_data)\n",
        "    day_label_data = np.array(day_label_data).reshape(-1,1)\n",
        "\n",
        "    #Step 5 - Scale data for Neural Network\n",
        "    day_test_data = x_scaler.transform(day_test_data)\n",
        "    day_label_data = y_scaler.transform(day_label_data)\n",
        "\n",
        "    #Step 6 - Reshape data to fit keras requirement to have a (x,y,z) shape\n",
        "    day_test_data = day_test_data.reshape(1,day_test_data.shape[0],day_test_data.shape[1])\n",
        "    day_label_data = day_label_data.reshape(1,day_label_data.shape[0],day_label_data.shape[1])\n",
        "    \n",
        "    #print(day_test_data.shape , day_label_data.shape)#debugging\n",
        "    \n",
        "    #Step 7 - Reshape data into Batches using slidding window   \n",
        "    batch_val_size = day_test_data.shape[1] - sequence_length\n",
        "    \n",
        "    x_val_shape = (batch_val_size, sequence_length, num_x_signal)\n",
        "    x_batch = np.zeros(shape=x_val_shape, dtype=np.float16)\n",
        "        \n",
        "    y_val_shape = (batch_val_size, num_y_signal)\n",
        "    y_batch = np.zeros(shape=y_val_shape, dtype=np.float16)\n",
        "    \n",
        "    #print(x_batch.shape, y_batch.shape) # debugging\n",
        "    for i in range(batch_val_size):\n",
        "\n",
        "        # Copy the sequences of data starting at this index.\n",
        "        x_batch[i] = day_test_data[0][i:i+sequence_length][:]\n",
        "        y_batch[i] = day_label_data[0][i+sequence_length-1][:]\n",
        "\n",
        "    \n",
        "    return (x_batch, y_batch)"
      ],
      "execution_count": 0,
      "outputs": []
    },
    {
      "cell_type": "code",
      "metadata": {
        "id": "mm574sBxcUXN",
        "colab_type": "code",
        "outputId": "4400a723-ecfd-448c-8ff5-8180c1f4a23b",
        "colab": {
          "base_uri": "https://localhost:8080/",
          "height": 33
        }
      },
      "source": [
        "X_val, Y_val = batch_validation(sequence_length,num_x_signal, num_y_signal, DayTrade_clean, target_data_clean, testing_days)\n",
        "print(X_val.shape, Y_val.shape)"
      ],
      "execution_count": 126,
      "outputs": [
        {
          "output_type": "stream",
          "text": [
            "(1405, 25, 16) (1405, 1)\n"
          ],
          "name": "stdout"
        }
      ]
    },
    {
      "cell_type": "code",
      "metadata": {
        "id": "VWbRxaZycUXY",
        "colab_type": "code",
        "colab": {}
      },
      "source": [
        "validation_data = (X_val, Y_val)"
      ],
      "execution_count": 0,
      "outputs": []
    },
    {
      "cell_type": "markdown",
      "metadata": {
        "id": "gT3Rc3ffcUXs",
        "colab_type": "text"
      },
      "source": [
        "## Create Recurrent Neural Network"
      ]
    },
    {
      "cell_type": "code",
      "metadata": {
        "id": "5SbFQa1xcUXy",
        "colab_type": "code",
        "outputId": "68e404ad-82f0-49bb-d4d2-5508f9c795dd",
        "colab": {
          "base_uri": "https://localhost:8080/",
          "height": 317
        }
      },
      "source": [
        "from tensorflow.keras.layers import BatchNormalization\n",
        "\n",
        "\n",
        "model = Sequential()\n",
        "model.add(LSTM(units=200,\n",
        "              return_sequences=True,\n",
        "              input_shape=(None,num_x_signal,)))\n",
        "model.add(LSTM(units=150, return_sequences=False))\n",
        "model.add(Dropout(0.4))\n",
        "model.add(BatchNormalization())\n",
        "model.add(Dense(num_y_signal,activation='linear'))\n",
        "model.summary()"
      ],
      "execution_count": 128,
      "outputs": [
        {
          "output_type": "stream",
          "text": [
            "Model: \"sequential_5\"\n",
            "_________________________________________________________________\n",
            "Layer (type)                 Output Shape              Param #   \n",
            "=================================================================\n",
            "lstm_10 (LSTM)               (None, None, 200)         173600    \n",
            "_________________________________________________________________\n",
            "lstm_11 (LSTM)               (None, 150)               210600    \n",
            "_________________________________________________________________\n",
            "dropout_5 (Dropout)          (None, 150)               0         \n",
            "_________________________________________________________________\n",
            "batch_normalization_5 (Batch (None, 150)               600       \n",
            "_________________________________________________________________\n",
            "dense_5 (Dense)              (None, 1)                 151       \n",
            "=================================================================\n",
            "Total params: 384,951\n",
            "Trainable params: 384,651\n",
            "Non-trainable params: 300\n",
            "_________________________________________________________________\n"
          ],
          "name": "stdout"
        }
      ]
    },
    {
      "cell_type": "code",
      "metadata": {
        "id": "_4I_NPSscUYK",
        "colab_type": "code",
        "colab": {}
      },
      "source": [
        "optimizer = tf.keras.optimizers.Adam(lr=1e-3)\n",
        "\n",
        "model.compile(loss=tf.keras.losses.logcosh, optimizer=optimizer)"
      ],
      "execution_count": 0,
      "outputs": []
    },
    {
      "cell_type": "code",
      "metadata": {
        "id": "LCizhpRZcUYf",
        "colab_type": "code",
        "colab": {}
      },
      "source": [
        "model_file = \"DayTrade with DailySummary Model(seed 10).{epoch:02d}-{val_loss:.4f}.h5\"\n",
        "\n",
        "mc = ModelCheckpoint('/content/drive/My Drive/Capstone/FinalModels/Step4-DayTrade_DailySummaryInputs/Seed 10/'+model_file, monitor=\"val_loss\", mode=\"min\", save_best_only=True)\n",
        "\n",
        "reduce_lr = ReduceLROnPlateau(monitor='val_loss', factor=0.2,\n",
        "                              patience=4, min_lr=1e-4)"
      ],
      "execution_count": 0,
      "outputs": []
    },
    {
      "cell_type": "code",
      "metadata": {
        "id": "Csq6lk56cUYr",
        "colab_type": "code",
        "colab": {
          "base_uri": "https://localhost:8080/",
          "height": 1000
        },
        "outputId": "2a01fb63-7a34-4b61-cdb0-93c32a02ad00"
      },
      "source": [
        "%%time\n",
        "\n",
        "history = model.fit_generator(generator=generator,\n",
        "                    epochs=100,\n",
        "                    steps_per_epoch=50,\n",
        "                    validation_data=validation_data,\n",
        "                    callbacks=[ mc, reduce_lr])\n",
        "                    #callbacks=[es, reduce_lr])"
      ],
      "execution_count": 132,
      "outputs": [
        {
          "output_type": "stream",
          "text": [
            "Epoch 1/100\n",
            "50/50 [==============================] - 9s 177ms/step - loss: 0.3004 - val_loss: 0.0802 - lr: 0.0010\n",
            "Epoch 2/100\n",
            "50/50 [==============================] - 8s 163ms/step - loss: 0.0480 - val_loss: 0.0834 - lr: 0.0010\n",
            "Epoch 3/100\n",
            "50/50 [==============================] - 9s 170ms/step - loss: 0.0057 - val_loss: 0.0767 - lr: 0.0010\n",
            "Epoch 4/100\n",
            "50/50 [==============================] - 8s 164ms/step - loss: 0.0023 - val_loss: 0.0763 - lr: 0.0010\n",
            "Epoch 5/100\n",
            "50/50 [==============================] - 8s 164ms/step - loss: 0.0014 - val_loss: 0.0695 - lr: 0.0010\n",
            "Epoch 6/100\n",
            "50/50 [==============================] - 8s 162ms/step - loss: 9.3435e-04 - val_loss: 0.0704 - lr: 0.0010\n",
            "Epoch 7/100\n",
            "50/50 [==============================] - 8s 163ms/step - loss: 7.5363e-04 - val_loss: 0.0646 - lr: 0.0010\n",
            "Epoch 8/100\n",
            "50/50 [==============================] - 8s 163ms/step - loss: 7.0746e-04 - val_loss: 0.0573 - lr: 0.0010\n",
            "Epoch 9/100\n",
            "50/50 [==============================] - 8s 164ms/step - loss: 7.0364e-04 - val_loss: 0.0512 - lr: 0.0010\n",
            "Epoch 10/100\n",
            "50/50 [==============================] - 8s 165ms/step - loss: 5.1712e-04 - val_loss: 0.0459 - lr: 0.0010\n",
            "Epoch 11/100\n",
            "50/50 [==============================] - 8s 163ms/step - loss: 5.6008e-04 - val_loss: 0.0279 - lr: 0.0010\n",
            "Epoch 12/100\n",
            "50/50 [==============================] - 8s 164ms/step - loss: 5.6317e-04 - val_loss: 0.0210 - lr: 0.0010\n",
            "Epoch 13/100\n",
            "50/50 [==============================] - 8s 167ms/step - loss: 5.1111e-04 - val_loss: 0.0168 - lr: 0.0010\n",
            "Epoch 14/100\n",
            "50/50 [==============================] - 8s 167ms/step - loss: 6.2276e-04 - val_loss: 0.0063 - lr: 0.0010\n",
            "Epoch 15/100\n",
            "50/50 [==============================] - 8s 166ms/step - loss: 5.8813e-04 - val_loss: 1.8234e-04 - lr: 0.0010\n",
            "Epoch 16/100\n",
            "50/50 [==============================] - 8s 166ms/step - loss: 6.9767e-04 - val_loss: 5.0599e-04 - lr: 0.0010\n",
            "Epoch 17/100\n",
            "50/50 [==============================] - 8s 163ms/step - loss: 5.9141e-04 - val_loss: 0.0049 - lr: 0.0010\n",
            "Epoch 18/100\n",
            "50/50 [==============================] - 8s 162ms/step - loss: 6.7623e-04 - val_loss: 3.6927e-04 - lr: 0.0010\n",
            "Epoch 19/100\n",
            "50/50 [==============================] - 9s 171ms/step - loss: 4.9599e-04 - val_loss: 6.7465e-05 - lr: 0.0010\n",
            "Epoch 20/100\n",
            "50/50 [==============================] - 8s 163ms/step - loss: 5.5125e-04 - val_loss: 0.0037 - lr: 0.0010\n",
            "Epoch 21/100\n",
            "50/50 [==============================] - 8s 162ms/step - loss: 5.9644e-04 - val_loss: 0.0023 - lr: 0.0010\n",
            "Epoch 22/100\n",
            "50/50 [==============================] - 8s 162ms/step - loss: 5.9254e-04 - val_loss: 9.7673e-04 - lr: 0.0010\n",
            "Epoch 23/100\n",
            "50/50 [==============================] - 8s 162ms/step - loss: 6.1288e-04 - val_loss: 0.0071 - lr: 0.0010\n",
            "Epoch 24/100\n",
            "50/50 [==============================] - 8s 161ms/step - loss: 2.2767e-04 - val_loss: 0.0050 - lr: 2.0000e-04\n",
            "Epoch 25/100\n",
            "50/50 [==============================] - 8s 162ms/step - loss: 5.9638e-05 - val_loss: 0.0053 - lr: 2.0000e-04\n",
            "Epoch 26/100\n",
            "50/50 [==============================] - 8s 162ms/step - loss: 4.6505e-05 - val_loss: 0.0051 - lr: 2.0000e-04\n",
            "Epoch 27/100\n",
            "50/50 [==============================] - 8s 162ms/step - loss: 4.2384e-05 - val_loss: 0.0055 - lr: 2.0000e-04\n",
            "Epoch 28/100\n",
            "50/50 [==============================] - 8s 161ms/step - loss: 3.9721e-05 - val_loss: 0.0051 - lr: 1.0000e-04\n",
            "Epoch 29/100\n",
            "50/50 [==============================] - 8s 162ms/step - loss: 4.0817e-05 - val_loss: 0.0053 - lr: 1.0000e-04\n",
            "Epoch 30/100\n",
            "50/50 [==============================] - 8s 162ms/step - loss: 3.6677e-05 - val_loss: 0.0045 - lr: 1.0000e-04\n",
            "Epoch 31/100\n",
            "50/50 [==============================] - 8s 162ms/step - loss: 3.4452e-05 - val_loss: 0.0046 - lr: 1.0000e-04\n",
            "Epoch 32/100\n",
            "50/50 [==============================] - 8s 162ms/step - loss: 3.4876e-05 - val_loss: 0.0044 - lr: 1.0000e-04\n",
            "Epoch 33/100\n",
            "50/50 [==============================] - 8s 161ms/step - loss: 3.3897e-05 - val_loss: 0.0052 - lr: 1.0000e-04\n",
            "Epoch 34/100\n",
            "50/50 [==============================] - 8s 162ms/step - loss: 3.2397e-05 - val_loss: 0.0054 - lr: 1.0000e-04\n",
            "Epoch 35/100\n",
            "50/50 [==============================] - 8s 162ms/step - loss: 3.3397e-05 - val_loss: 0.0048 - lr: 1.0000e-04\n",
            "Epoch 36/100\n",
            "50/50 [==============================] - 8s 163ms/step - loss: 3.2264e-05 - val_loss: 0.0052 - lr: 1.0000e-04\n",
            "Epoch 37/100\n",
            "50/50 [==============================] - 8s 162ms/step - loss: 3.1401e-05 - val_loss: 0.0047 - lr: 1.0000e-04\n",
            "Epoch 38/100\n",
            "50/50 [==============================] - 8s 162ms/step - loss: 3.3749e-05 - val_loss: 0.0049 - lr: 1.0000e-04\n",
            "Epoch 39/100\n",
            "50/50 [==============================] - 8s 162ms/step - loss: 3.3347e-05 - val_loss: 0.0044 - lr: 1.0000e-04\n",
            "Epoch 40/100\n",
            "50/50 [==============================] - 8s 168ms/step - loss: 3.1093e-05 - val_loss: 0.0046 - lr: 1.0000e-04\n",
            "Epoch 41/100\n",
            "50/50 [==============================] - 8s 166ms/step - loss: 3.0685e-05 - val_loss: 0.0043 - lr: 1.0000e-04\n",
            "Epoch 42/100\n",
            "50/50 [==============================] - 8s 164ms/step - loss: 3.1560e-05 - val_loss: 0.0046 - lr: 1.0000e-04\n",
            "Epoch 43/100\n",
            "50/50 [==============================] - 8s 162ms/step - loss: 3.1226e-05 - val_loss: 0.0051 - lr: 1.0000e-04\n",
            "Epoch 44/100\n",
            "50/50 [==============================] - 8s 163ms/step - loss: 3.0146e-05 - val_loss: 0.0046 - lr: 1.0000e-04\n",
            "Epoch 45/100\n",
            "50/50 [==============================] - 8s 162ms/step - loss: 3.0446e-05 - val_loss: 0.0043 - lr: 1.0000e-04\n",
            "Epoch 46/100\n",
            "50/50 [==============================] - 8s 161ms/step - loss: 2.9323e-05 - val_loss: 0.0051 - lr: 1.0000e-04\n",
            "Epoch 47/100\n",
            "50/50 [==============================] - 8s 163ms/step - loss: 2.8948e-05 - val_loss: 0.0042 - lr: 1.0000e-04\n",
            "Epoch 48/100\n",
            "50/50 [==============================] - 8s 163ms/step - loss: 3.0777e-05 - val_loss: 0.0051 - lr: 1.0000e-04\n",
            "Epoch 49/100\n",
            "50/50 [==============================] - 8s 163ms/step - loss: 2.9397e-05 - val_loss: 0.0048 - lr: 1.0000e-04\n",
            "Epoch 50/100\n",
            "50/50 [==============================] - 8s 163ms/step - loss: 2.9933e-05 - val_loss: 0.0051 - lr: 1.0000e-04\n",
            "Epoch 51/100\n",
            "50/50 [==============================] - 8s 163ms/step - loss: 3.0971e-05 - val_loss: 0.0052 - lr: 1.0000e-04\n",
            "Epoch 52/100\n",
            "50/50 [==============================] - 8s 164ms/step - loss: 3.1946e-05 - val_loss: 0.0045 - lr: 1.0000e-04\n",
            "Epoch 53/100\n",
            "50/50 [==============================] - 8s 163ms/step - loss: 2.9811e-05 - val_loss: 0.0046 - lr: 1.0000e-04\n",
            "Epoch 54/100\n",
            "50/50 [==============================] - 8s 163ms/step - loss: 2.9162e-05 - val_loss: 0.0040 - lr: 1.0000e-04\n",
            "Epoch 55/100\n",
            "50/50 [==============================] - 8s 163ms/step - loss: 2.8199e-05 - val_loss: 0.0043 - lr: 1.0000e-04\n",
            "Epoch 56/100\n",
            "50/50 [==============================] - 8s 168ms/step - loss: 2.9430e-05 - val_loss: 0.0043 - lr: 1.0000e-04\n",
            "Epoch 57/100\n",
            "50/50 [==============================] - 8s 164ms/step - loss: 2.7285e-05 - val_loss: 0.0039 - lr: 1.0000e-04\n",
            "Epoch 58/100\n",
            "50/50 [==============================] - 9s 176ms/step - loss: 2.8722e-05 - val_loss: 0.0043 - lr: 1.0000e-04\n",
            "Epoch 59/100\n",
            "50/50 [==============================] - 8s 163ms/step - loss: 2.7649e-05 - val_loss: 0.0049 - lr: 1.0000e-04\n",
            "Epoch 60/100\n",
            "50/50 [==============================] - 8s 163ms/step - loss: 2.9088e-05 - val_loss: 0.0040 - lr: 1.0000e-04\n",
            "Epoch 61/100\n",
            "50/50 [==============================] - 8s 164ms/step - loss: 2.7780e-05 - val_loss: 0.0040 - lr: 1.0000e-04\n",
            "Epoch 62/100\n",
            "50/50 [==============================] - 8s 164ms/step - loss: 3.0887e-05 - val_loss: 0.0040 - lr: 1.0000e-04\n",
            "Epoch 63/100\n",
            "50/50 [==============================] - 8s 164ms/step - loss: 2.5655e-05 - val_loss: 0.0032 - lr: 1.0000e-04\n",
            "Epoch 64/100\n",
            "50/50 [==============================] - 8s 164ms/step - loss: 2.8618e-05 - val_loss: 0.0039 - lr: 1.0000e-04\n",
            "Epoch 65/100\n",
            "50/50 [==============================] - 8s 163ms/step - loss: 2.6467e-05 - val_loss: 0.0030 - lr: 1.0000e-04\n",
            "Epoch 66/100\n",
            "50/50 [==============================] - 8s 164ms/step - loss: 2.5443e-05 - val_loss: 0.0031 - lr: 1.0000e-04\n",
            "Epoch 67/100\n",
            "50/50 [==============================] - 8s 162ms/step - loss: 2.6841e-05 - val_loss: 0.0034 - lr: 1.0000e-04\n",
            "Epoch 68/100\n",
            "50/50 [==============================] - 8s 163ms/step - loss: 2.6830e-05 - val_loss: 0.0025 - lr: 1.0000e-04\n",
            "Epoch 69/100\n",
            "50/50 [==============================] - 8s 163ms/step - loss: 3.0995e-05 - val_loss: 0.0029 - lr: 1.0000e-04\n",
            "Epoch 70/100\n",
            "50/50 [==============================] - 8s 165ms/step - loss: 2.5929e-05 - val_loss: 0.0034 - lr: 1.0000e-04\n",
            "Epoch 71/100\n",
            "50/50 [==============================] - 8s 163ms/step - loss: 2.7187e-05 - val_loss: 0.0030 - lr: 1.0000e-04\n",
            "Epoch 72/100\n",
            "50/50 [==============================] - 8s 166ms/step - loss: 2.5843e-05 - val_loss: 0.0027 - lr: 1.0000e-04\n",
            "Epoch 73/100\n",
            "50/50 [==============================] - 8s 162ms/step - loss: 2.7551e-05 - val_loss: 0.0030 - lr: 1.0000e-04\n",
            "Epoch 74/100\n",
            "50/50 [==============================] - 8s 163ms/step - loss: 2.7197e-05 - val_loss: 0.0027 - lr: 1.0000e-04\n",
            "Epoch 75/100\n",
            "50/50 [==============================] - 8s 162ms/step - loss: 2.6448e-05 - val_loss: 0.0029 - lr: 1.0000e-04\n",
            "Epoch 76/100\n",
            "50/50 [==============================] - 8s 163ms/step - loss: 2.6746e-05 - val_loss: 0.0035 - lr: 1.0000e-04\n",
            "Epoch 77/100\n",
            "50/50 [==============================] - 8s 162ms/step - loss: 2.6689e-05 - val_loss: 0.0032 - lr: 1.0000e-04\n",
            "Epoch 78/100\n",
            "50/50 [==============================] - 8s 169ms/step - loss: 2.6623e-05 - val_loss: 0.0019 - lr: 1.0000e-04\n",
            "Epoch 79/100\n",
            "50/50 [==============================] - 8s 166ms/step - loss: 2.4411e-05 - val_loss: 0.0025 - lr: 1.0000e-04\n",
            "Epoch 80/100\n",
            "50/50 [==============================] - 8s 165ms/step - loss: 2.7233e-05 - val_loss: 0.0019 - lr: 1.0000e-04\n",
            "Epoch 81/100\n",
            "50/50 [==============================] - 8s 165ms/step - loss: 2.7455e-05 - val_loss: 0.0024 - lr: 1.0000e-04\n",
            "Epoch 82/100\n",
            "50/50 [==============================] - 8s 162ms/step - loss: 2.7152e-05 - val_loss: 0.0032 - lr: 1.0000e-04\n",
            "Epoch 83/100\n",
            "50/50 [==============================] - 8s 163ms/step - loss: 2.7080e-05 - val_loss: 0.0032 - lr: 1.0000e-04\n",
            "Epoch 84/100\n",
            "50/50 [==============================] - 8s 164ms/step - loss: 2.7415e-05 - val_loss: 0.0026 - lr: 1.0000e-04\n",
            "Epoch 85/100\n",
            "50/50 [==============================] - 8s 163ms/step - loss: 3.0061e-05 - val_loss: 0.0022 - lr: 1.0000e-04\n",
            "Epoch 86/100\n",
            "50/50 [==============================] - 8s 163ms/step - loss: 2.8642e-05 - val_loss: 0.0029 - lr: 1.0000e-04\n",
            "Epoch 87/100\n",
            "50/50 [==============================] - 8s 163ms/step - loss: 2.9828e-05 - val_loss: 0.0021 - lr: 1.0000e-04\n",
            "Epoch 88/100\n",
            "50/50 [==============================] - 8s 164ms/step - loss: 2.9271e-05 - val_loss: 0.0022 - lr: 1.0000e-04\n",
            "Epoch 89/100\n",
            "50/50 [==============================] - 8s 163ms/step - loss: 3.0634e-05 - val_loss: 0.0018 - lr: 1.0000e-04\n",
            "Epoch 90/100\n",
            "50/50 [==============================] - 8s 165ms/step - loss: 3.1440e-05 - val_loss: 0.0016 - lr: 1.0000e-04\n",
            "Epoch 91/100\n",
            "50/50 [==============================] - 9s 183ms/step - loss: 2.6517e-05 - val_loss: 0.0014 - lr: 1.0000e-04\n",
            "Epoch 92/100\n",
            "50/50 [==============================] - 8s 163ms/step - loss: 3.0975e-05 - val_loss: 0.0011 - lr: 1.0000e-04\n",
            "Epoch 93/100\n",
            "50/50 [==============================] - 8s 168ms/step - loss: 3.0514e-05 - val_loss: 0.0014 - lr: 1.0000e-04\n",
            "Epoch 94/100\n",
            "50/50 [==============================] - 8s 163ms/step - loss: 3.0206e-05 - val_loss: 0.0026 - lr: 1.0000e-04\n",
            "Epoch 95/100\n",
            "50/50 [==============================] - 8s 163ms/step - loss: 2.8519e-05 - val_loss: 0.0021 - lr: 1.0000e-04\n",
            "Epoch 96/100\n",
            "50/50 [==============================] - 8s 162ms/step - loss: 3.0443e-05 - val_loss: 0.0031 - lr: 1.0000e-04\n",
            "Epoch 97/100\n",
            "50/50 [==============================] - 8s 163ms/step - loss: 2.6883e-05 - val_loss: 0.0022 - lr: 1.0000e-04\n",
            "Epoch 98/100\n",
            "50/50 [==============================] - 8s 163ms/step - loss: 2.6052e-05 - val_loss: 0.0016 - lr: 1.0000e-04\n",
            "Epoch 99/100\n",
            "50/50 [==============================] - 8s 164ms/step - loss: 2.5863e-05 - val_loss: 0.0012 - lr: 1.0000e-04\n",
            "Epoch 100/100\n",
            "50/50 [==============================] - 8s 166ms/step - loss: 3.3471e-05 - val_loss: 0.0015 - lr: 1.0000e-04\n",
            "CPU times: user 22min 41s, sys: 1min 27s, total: 24min 8s\n",
            "Wall time: 13min 57s\n"
          ],
          "name": "stdout"
        }
      ]
    },
    {
      "cell_type": "code",
      "metadata": {
        "id": "Dm_LpGX8cUYz",
        "colab_type": "code",
        "colab": {}
      },
      "source": [
        "\n",
        "hist_df = pd.DataFrame(history.history) \n",
        "hist_csv_file = '/content/drive/My Drive/Capstone/FinalModels/Step4-DayTrade_DailySummaryInputs/Seed 10/'+model_file.split('.')[0]+'.csv'\n",
        "with open(hist_csv_file, mode='w') as f:\n",
        "    hist_df.to_csv(f)"
      ],
      "execution_count": 0,
      "outputs": []
    },
    {
      "cell_type": "code",
      "metadata": {
        "id": "5ZrvzgFdcUZD",
        "colab_type": "code",
        "colab": {
          "base_uri": "https://localhost:8080/",
          "height": 295
        },
        "outputId": "96b80c55-274e-4bd4-fa00-c6e05bb23a19"
      },
      "source": [
        "plt.plot(history.history['val_loss'])\n",
        "plt.title('model_loss')\n",
        "plt.ylabel('loss')\n",
        "plt.xlabel('epoch')\n",
        "plt.legend(['test'], loc='upper left')\n",
        "plt.show()"
      ],
      "execution_count": 137,
      "outputs": [
        {
          "output_type": "display_data",
          "data": {
            "image/png": "[encoded data removed]",
            "text/plain": [
              "<Figure size 432x288 with 1 Axes>"
            ]
          },
          "metadata": {
            "tags": []
          }
        }
      ]
    },
    {
      "cell_type": "code",
      "metadata": {
        "id": "5Nngbf4FcUZM",
        "colab_type": "code",
        "colab": {
          "base_uri": "https://localhost:8080/",
          "height": 295
        },
        "outputId": "8d1d6b6b-74bf-42f6-d307-8073cfeb6da4"
      },
      "source": [
        "plt.plot(history.history['loss'])\n",
        "plt.title('model_loss')\n",
        "plt.ylabel('loss')\n",
        "plt.xlabel('epoch')\n",
        "plt.legend(['train'], loc='upper left')\n",
        "plt.show()"
      ],
      "execution_count": 138,
      "outputs": [
        {
          "output_type": "display_data",
          "data": {
            "image/png": "[encoded data removed]",
            "text/plain": [
              "<Figure size 432x288 with 1 Axes>"
            ]
          },
          "metadata": {
            "tags": []
          }
        }
      ]
    },
    {
      "cell_type": "code",
      "metadata": {
        "id": "qA5WOYpocUZX",
        "colab_type": "code",
        "colab": {}
      },
      "source": [
        "# The algorithm uses data of the previous 25 time-steps to forecast the following 10th minute into the future. Therefore,  \n",
        "# the first prediction of every day can only be excecuted after 25 minutes of the begining of the day, and will refer  \n",
        "# to the prediction of the minute 35. Also the data is first stationarized by apply the diff() function with then subtracts\n",
        "# the following row from the previous. \n",
        "\n",
        "# Since every day consists of 1440 minutes the algorithm is only able to predict the last 1404 minutes of the day.\n",
        "\n",
        "#Create a Dataframe to hold the true predicted values for each day.\n",
        "def createPredictionsData(days):  \n",
        "  predictionsData = DayTrade.copy()\n",
        "  predictionsData = predictionsData.loc[:,['Weighted_Price','date']]\n",
        "  predictionsData = predictionsData[predictionsData['date'].isin(days)]# Filter only the testing days\n",
        "  predictionsData = predictionsData.groupby('date').apply(lambda group: group.iloc[35:])# For each day filter the last 1405 minutes (1440 - 1405 = 35)\n",
        "  predictionsData = predictionsData.drop(columns='date')\n",
        "  predictionsData = predictionsData.reset_index()\n",
        "\n",
        "  return(predictionsData)"
      ],
      "execution_count": 0,
      "outputs": []
    },
    {
      "cell_type": "code",
      "metadata": {
        "id": "efSaKaIQcUZo",
        "colab_type": "code",
        "colab": {}
      },
      "source": [
        "def predict(modelFilename, days):\n",
        "\n",
        "    predictionsData = createPredictionsData(days)\n",
        "    \n",
        "    column_name = modelFilename.split('.')[0]\n",
        "    #Step 1 - Create a column to hold predictions\n",
        "    predictionsData['Prediction_Weighted_Price'] = np.nan #[3]\n",
        "    \n",
        "    \n",
        "    #Step 2 - load model for prediction   \n",
        "    loaded_model = tf.keras.models.load_model(modelFilename)\n",
        "    \n",
        "    for day in days:\n",
        "        #Step 3 - Filter Input data and Target with the selected date\n",
        "        day_test_data = DayTrade_clean[DayTrade_clean['date'].values==day]\n",
        "        day_label_data = target_data_clean[target_data_clean['date'].values==day]\n",
        "        \n",
        "        batch_size = len(day_test_data) - sequence_length\n",
        "         \n",
        "        \n",
        "        #Step 3 - Drop date columns from day test data and day label data\n",
        "        day_test_data = day_test_data.drop(columns=['date'])\n",
        "        day_label_data = day_label_data.drop(columns=['date']).shift(1)\n",
        "\n",
        "        #Step 4 - Convert day data into numpy array\n",
        "        day_test_data = np.array(day_test_data)\n",
        "        day_label_data = np.array(day_label_data)\n",
        "        \n",
        "        #Step 5 - Scale data for Neural Network (all features except Weighted Price)\n",
        "        day_test_data = x_scaler.transform(day_test_data)\n",
        "        day_label_data = y_scaler.transform(day_label_data)\n",
        "        \n",
        "               \n",
        "        #Step 6 - Generate batches of sequence of data\n",
        "        generator = TimeseriesGenerator(day_test_data, day_label_data, length=sequence_length, batch_size=batch_size)\n",
        "\n",
        "        x_batch = np.zeros(shape=(batch_size ,sequence_length, num_x_signal))\n",
        "        y_batch = np.zeros(shape=(batch_size ,sequence_length, num_y_signal))\n",
        "\n",
        "        x_batch, y_batch = generator[0]\n",
        "\n",
        "        #Step 9 - Generate the prediction for that day   \n",
        "        ypred = loaded_model.predict(x_batch)\n",
        "        ypred_rescaled = y_scaler.inverse_transform(ypred)\n",
        "        \n",
        "        index_list = []\n",
        "        index_list = predictionsData.index[predictionsData['date']==day].tolist()\n",
        "\n",
        "        predictionsData.iloc[index_list[0]:index_list[0]+len(index_list),3] = ypred_rescaled\n",
        "\n",
        "    \n",
        "    return(predictionsData)"
      ],
      "execution_count": 0,
      "outputs": []
    },
    {
      "cell_type": "code",
      "metadata": {
        "id": "OjswtiLzf7Bj",
        "colab_type": "code",
        "colab": {}
      },
      "source": [
        "model_file = 'DayTrade with DailySummary Model(seed 10).19-0.0001.h5'\n",
        "modelPath = '/content/drive/My Drive/Capstone/FinalModels/Step4-DayTrade_DailySummaryInputs/Seed 10'\n",
        "modelfilePath = modelPath + '/' + model_file"
      ],
      "execution_count": 0,
      "outputs": []
    },
    {
      "cell_type": "code",
      "metadata": {
        "id": "7KN1qC_tcUZx",
        "colab_type": "code",
        "colab": {
          "base_uri": "https://localhost:8080/",
          "height": 423
        },
        "outputId": "9c0a3141-e17b-45a9-dbd1-464e6e076113"
      },
      "source": [
        "predictionsData = predict(modelfilePath, testing_days)\n",
        "predictionsData"
      ],
      "execution_count": 142,
      "outputs": [
        {
          "output_type": "stream",
          "text": [
            "WARNING:tensorflow:Error in loading the saved optimizer state. As a result, your model is starting with a freshly initialized optimizer.\n"
          ],
          "name": "stdout"
        },
        {
          "output_type": "execute_result",
          "data": {
            "text/html": [
              "<div>\n",
              "<style scoped>\n",
              "    .dataframe tbody tr th:only-of-type {\n",
              "        vertical-align: middle;\n",
              "    }\n",
              "\n",
              "    .dataframe tbody tr th {\n",
              "        vertical-align: top;\n",
              "    }\n",
              "\n",
              "    .dataframe thead th {\n",
              "        text-align: right;\n",
              "    }\n",
              "</style>\n",
              "<table border=\"1\" class=\"dataframe\">\n",
              "  <thead>\n",
              "    <tr style=\"text-align: right;\">\n",
              "      <th></th>\n",
              "      <th>date</th>\n",
              "      <th>Time</th>\n",
              "      <th>Weighted_Price</th>\n",
              "      <th>Prediction_Weighted_Price</th>\n",
              "    </tr>\n",
              "  </thead>\n",
              "  <tbody>\n",
              "    <tr>\n",
              "      <th>0</th>\n",
              "      <td>2019-02-19</td>\n",
              "      <td>2019-02-19 00:35:00</td>\n",
              "      <td>3901.527342</td>\n",
              "      <td>3442.442139</td>\n",
              "    </tr>\n",
              "    <tr>\n",
              "      <th>1</th>\n",
              "      <td>2019-02-19</td>\n",
              "      <td>2019-02-19 00:36:00</td>\n",
              "      <td>3910.106934</td>\n",
              "      <td>3447.895752</td>\n",
              "    </tr>\n",
              "    <tr>\n",
              "      <th>2</th>\n",
              "      <td>2019-02-19</td>\n",
              "      <td>2019-02-19 00:37:00</td>\n",
              "      <td>3913.037224</td>\n",
              "      <td>3455.857666</td>\n",
              "    </tr>\n",
              "    <tr>\n",
              "      <th>3</th>\n",
              "      <td>2019-02-19</td>\n",
              "      <td>2019-02-19 00:38:00</td>\n",
              "      <td>3933.854943</td>\n",
              "      <td>3457.452148</td>\n",
              "    </tr>\n",
              "    <tr>\n",
              "      <th>4</th>\n",
              "      <td>2019-02-19</td>\n",
              "      <td>2019-02-19 00:39:00</td>\n",
              "      <td>3935.166985</td>\n",
              "      <td>3477.653076</td>\n",
              "    </tr>\n",
              "    <tr>\n",
              "      <th>...</th>\n",
              "      <td>...</td>\n",
              "      <td>...</td>\n",
              "      <td>...</td>\n",
              "      <td>...</td>\n",
              "    </tr>\n",
              "    <tr>\n",
              "      <th>244465</th>\n",
              "      <td>2019-08-11</td>\n",
              "      <td>2019-08-11 23:55:00</td>\n",
              "      <td>11550.565971</td>\n",
              "      <td>11963.412109</td>\n",
              "    </tr>\n",
              "    <tr>\n",
              "      <th>244466</th>\n",
              "      <td>2019-08-11</td>\n",
              "      <td>2019-08-11 23:56:00</td>\n",
              "      <td>11552.336234</td>\n",
              "      <td>11944.670898</td>\n",
              "    </tr>\n",
              "    <tr>\n",
              "      <th>244467</th>\n",
              "      <td>2019-08-11</td>\n",
              "      <td>2019-08-11 23:57:00</td>\n",
              "      <td>11555.520505</td>\n",
              "      <td>11903.083984</td>\n",
              "    </tr>\n",
              "    <tr>\n",
              "      <th>244468</th>\n",
              "      <td>2019-08-11</td>\n",
              "      <td>2019-08-11 23:58:00</td>\n",
              "      <td>11559.252199</td>\n",
              "      <td>11857.011719</td>\n",
              "    </tr>\n",
              "    <tr>\n",
              "      <th>244469</th>\n",
              "      <td>2019-08-11</td>\n",
              "      <td>2019-08-11 23:59:00</td>\n",
              "      <td>11575.638889</td>\n",
              "      <td>11822.894531</td>\n",
              "    </tr>\n",
              "  </tbody>\n",
              "</table>\n",
              "<p>244470 rows × 4 columns</p>\n",
              "</div>"
            ],
            "text/plain": [
              "              date  ... Prediction_Weighted_Price\n",
              "0       2019-02-19  ...               3442.442139\n",
              "1       2019-02-19  ...               3447.895752\n",
              "2       2019-02-19  ...               3455.857666\n",
              "3       2019-02-19  ...               3457.452148\n",
              "4       2019-02-19  ...               3477.653076\n",
              "...            ...  ...                       ...\n",
              "244465  2019-08-11  ...              11963.412109\n",
              "244466  2019-08-11  ...              11944.670898\n",
              "244467  2019-08-11  ...              11903.083984\n",
              "244468  2019-08-11  ...              11857.011719\n",
              "244469  2019-08-11  ...              11822.894531\n",
              "\n",
              "[244470 rows x 4 columns]"
            ]
          },
          "metadata": {
            "tags": []
          },
          "execution_count": 142
        }
      ]
    },
    {
      "cell_type": "code",
      "metadata": {
        "id": "IlBHNrLAcUZ7",
        "colab_type": "code",
        "colab": {}
      },
      "source": [
        "# Save Dataframe with prediction as csv file\n",
        "prediction_file = '/content/drive/My Drive/Capstone/FinalModels/Step4-DayTrade_DailySummaryInputs/Seed 10/'+'predictions_' +  model_file.split('.')[0] + '.csv'\n",
        "prediction_filePath = '/content/' + prediction_file\n",
        "predictionsData.to_csv(prediction_file)"
      ],
      "execution_count": 0,
      "outputs": []
    },
    {
      "cell_type": "code",
      "metadata": {
        "id": "zntWdZ5QNDmb",
        "colab_type": "code",
        "colab": {}
      },
      "source": [
        "from sklearn.metrics import mean_squared_error, mean_absolute_error\n",
        "\n",
        "mse_Weighted_Price = mean_squared_error(predictionsData.iloc[:,2],predictionsData.iloc[:,3])\n",
        "mae_Weighted_Price = mean_absolute_error(predictionsData.iloc[:,2],predictionsData.iloc[:,3])"
      ],
      "execution_count": 0,
      "outputs": []
    },
    {
      "cell_type": "code",
      "metadata": {
        "id": "h2yk1deqWScj",
        "colab_type": "code",
        "colab": {
          "base_uri": "https://localhost:8080/",
          "height": 33
        },
        "outputId": "c12c1703-fda6-41fc-fdef-f10d66a0e9e9"
      },
      "source": [
        "print(mse_Weighted_Price,mae_Weighted_Price)"
      ],
      "execution_count": 145,
      "outputs": [
        {
          "output_type": "stream",
          "text": [
            "97924.4278082401 242.01179045603834\n"
          ],
          "name": "stdout"
        }
      ]
    },
    {
      "cell_type": "code",
      "metadata": {
        "id": "eshRDEItACAA",
        "colab_type": "code",
        "colab": {}
      },
      "source": [
        ""
      ],
      "execution_count": 0,
      "outputs": []
    }
  ]
}