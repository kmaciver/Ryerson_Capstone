{
  "nbformat": 4,
  "nbformat_minor": 0,
  "metadata": {
    "kernelspec": {
      "display_name": "Python 3",
      "language": "python",
      "name": "python3"
    },
    "language_info": {
      "codemirror_mode": {
        "name": "ipython",
        "version": 3
      },
      "file_extension": ".py",
      "mimetype": "text/x-python",
      "name": "python",
      "nbconvert_exporter": "python",
      "pygments_lexer": "ipython3",
      "version": "3.6.8"
    },
    "colab": {
      "name": "DailySummaryPrediction.ipynb",
      "provenance": [],
      "include_colab_link": true
    }
  },
  "cells": [
    {
      "cell_type": "markdown",
      "metadata": {
        "id": "view-in-github",
        "colab_type": "text"
      },
      "source": [
        "<a href=\"https://colab.research.google.com/github/kmaciver/Ryerson_Capstone/blob/master/Ryerson_Capstone/Approach/Step3-DFSD/DailySummaryPrediction.ipynb\" target=\"_parent\"><img src=\"https://colab.research.google.com/assets/colab-badge.svg\" alt=\"Open In Colab\"/></a>"
      ]
    },
    {
      "cell_type": "code",
      "metadata": {
        "id": "whpMCjGYGwlP",
        "colab_type": "code",
        "outputId": "0d370cf7-1533-4f79-e488-3a65c607eb43",
        "colab": {
          "base_uri": "https://localhost:8080/",
          "height": 124
        }
      },
      "source": [
        "from google.colab import drive\n",
        "drive.mount('/content/drive')"
      ],
      "execution_count": 1,
      "outputs": [
        {
          "output_type": "stream",
          "text": [
            "Go to this URL in a browser: https://accounts.google.com/o/oauth2/auth?client_id=947318989803-6bn6qk8qdgf4n4g3pfee6491hc0brc4i.apps.googleusercontent.com&redirect_uri=urn%3aietf%3awg%3aoauth%3a2.0%3aoob&response_type=code&scope=email%20https%3a%2f%2fwww.googleapis.com%2fauth%2fdocs.test%20https%3a%2f%2fwww.googleapis.com%2fauth%2fdrive%20https%3a%2f%2fwww.googleapis.com%2fauth%2fdrive.photos.readonly%20https%3a%2f%2fwww.googleapis.com%2fauth%2fpeopleapi.readonly\n",
            "\n",
            "Enter your authorization code:\n",
            "··········\n",
            "Mounted at /content/drive\n"
          ],
          "name": "stdout"
        }
      ]
    },
    {
      "cell_type": "code",
      "metadata": {
        "id": "4k_TOa4YGrjz",
        "colab_type": "code",
        "outputId": "58ca0330-e043-4e76-8bd1-2d7b350b2ba2",
        "colab": {
          "base_uri": "https://localhost:8080/",
          "height": 81
        }
      },
      "source": [
        "%matplotlib inline\n",
        "import matplotlib.pyplot as plt\n",
        "import tensorflow as tf\n",
        "import numpy as np\n",
        "import pandas as pd\n",
        "import os\n",
        "from sklearn.preprocessing import MinMaxScaler, StandardScaler"
      ],
      "execution_count": 2,
      "outputs": [
        {
          "output_type": "display_data",
          "data": {
            "text/html": [
              "<p style=\"color: red;\">\n",
              "The default version of TensorFlow in Colab will soon switch to TensorFlow 2.x.<br>\n",
              "We recommend you <a href=\"https://www.tensorflow.org/guide/migrate\" target=\"_blank\">upgrade</a> now \n",
              "or ensure your notebook will continue to use TensorFlow 1.x via the <code>%tensorflow_version 1.x</code> magic:\n",
              "<a href=\"https://colab.research.google.com/notebooks/tensorflow_version.ipynb\" target=\"_blank\">more info</a>.</p>\n"
            ],
            "text/plain": [
              "<IPython.core.display.HTML object>"
            ]
          },
          "metadata": {
            "tags": []
          }
        }
      ]
    },
    {
      "cell_type": "code",
      "metadata": {
        "id": "mdZTX6eHGrj4",
        "colab_type": "code",
        "outputId": "bdc271f3-c55c-43ac-acef-bf296d5a1ccb",
        "colab": {
          "base_uri": "https://localhost:8080/",
          "height": 35
        }
      },
      "source": [
        "from tensorflow.python.keras.models import Sequential\n",
        "from tensorflow.python.keras.layers import Input, Dense, GRU, Embedding, LSTM, TimeDistributed, Lambda\n",
        "from tensorflow.python.keras.optimizers import RMSprop, Adam\n",
        "from tensorflow.python.keras.callbacks import EarlyStopping, ModelCheckpoint, TensorBoard, ReduceLROnPlateau\n",
        "from keras import losses"
      ],
      "execution_count": 3,
      "outputs": [
        {
          "output_type": "stream",
          "text": [
            "Using TensorFlow backend.\n"
          ],
          "name": "stderr"
        }
      ]
    },
    {
      "cell_type": "code",
      "metadata": {
        "id": "ONcAVRTrGrj_",
        "colab_type": "code",
        "outputId": "33932450-34ba-4977-834d-67e02b9aa7e0",
        "colab": {
          "base_uri": "https://localhost:8080/",
          "height": 339
        }
      },
      "source": [
        "file_path = \"/content/drive/My Drive/Capstone/Data Exploration/DSFD.csv\"\n",
        "DaySummary = pd.read_csv(file_path, index_col='date')\n",
        "DaySummary = DaySummary.drop([DaySummary.columns[0]] ,  axis='columns')\n",
        "DaySummary.head()"
      ],
      "execution_count": 4,
      "outputs": [
        {
          "output_type": "execute_result",
          "data": {
            "text/html": [
              "<div>\n",
              "<style scoped>\n",
              "    .dataframe tbody tr th:only-of-type {\n",
              "        vertical-align: middle;\n",
              "    }\n",
              "\n",
              "    .dataframe tbody tr th {\n",
              "        vertical-align: top;\n",
              "    }\n",
              "\n",
              "    .dataframe thead th {\n",
              "        text-align: right;\n",
              "    }\n",
              "</style>\n",
              "<table border=\"1\" class=\"dataframe\">\n",
              "  <thead>\n",
              "    <tr style=\"text-align: right;\">\n",
              "      <th></th>\n",
              "      <th>Open</th>\n",
              "      <th>High</th>\n",
              "      <th>Low</th>\n",
              "      <th>Close</th>\n",
              "      <th>Volume_BTC</th>\n",
              "      <th>Volume_Currency</th>\n",
              "      <th>Weighted_Price</th>\n",
              "      <th>RSI</th>\n",
              "      <th>MACD_sig</th>\n",
              "      <th>slow_stoch</th>\n",
              "      <th>Open_RoC</th>\n",
              "      <th>High_RoC</th>\n",
              "      <th>Low_RoC</th>\n",
              "      <th>Close_RoC</th>\n",
              "      <th>Weighted_Price_RoC</th>\n",
              "    </tr>\n",
              "    <tr>\n",
              "      <th>date</th>\n",
              "      <th></th>\n",
              "      <th></th>\n",
              "      <th></th>\n",
              "      <th></th>\n",
              "      <th></th>\n",
              "      <th></th>\n",
              "      <th></th>\n",
              "      <th></th>\n",
              "      <th></th>\n",
              "      <th></th>\n",
              "      <th></th>\n",
              "      <th></th>\n",
              "      <th></th>\n",
              "      <th></th>\n",
              "      <th></th>\n",
              "    </tr>\n",
              "  </thead>\n",
              "  <tbody>\n",
              "    <tr>\n",
              "      <th>2013-04-03</th>\n",
              "      <td>116.0</td>\n",
              "      <td>158.41</td>\n",
              "      <td>110.0</td>\n",
              "      <td>133.78</td>\n",
              "      <td>16468.610754</td>\n",
              "      <td>2.126462e+06</td>\n",
              "      <td>130.08716</td>\n",
              "      <td>43.384086</td>\n",
              "      <td>0.733919</td>\n",
              "      <td>0.271676</td>\n",
              "      <td>0.0</td>\n",
              "      <td>0.0</td>\n",
              "      <td>0.0</td>\n",
              "      <td>0.0</td>\n",
              "      <td>0.0</td>\n",
              "    </tr>\n",
              "    <tr>\n",
              "      <th>2013-04-04</th>\n",
              "      <td>116.0</td>\n",
              "      <td>158.41</td>\n",
              "      <td>110.0</td>\n",
              "      <td>133.78</td>\n",
              "      <td>16468.610754</td>\n",
              "      <td>2.126462e+06</td>\n",
              "      <td>130.08716</td>\n",
              "      <td>43.384086</td>\n",
              "      <td>0.733919</td>\n",
              "      <td>0.271676</td>\n",
              "      <td>0.0</td>\n",
              "      <td>0.0</td>\n",
              "      <td>0.0</td>\n",
              "      <td>0.0</td>\n",
              "      <td>0.0</td>\n",
              "    </tr>\n",
              "    <tr>\n",
              "      <th>2013-04-05</th>\n",
              "      <td>116.0</td>\n",
              "      <td>158.41</td>\n",
              "      <td>110.0</td>\n",
              "      <td>133.78</td>\n",
              "      <td>16468.610754</td>\n",
              "      <td>2.126462e+06</td>\n",
              "      <td>130.08716</td>\n",
              "      <td>43.384086</td>\n",
              "      <td>0.733919</td>\n",
              "      <td>0.271676</td>\n",
              "      <td>0.0</td>\n",
              "      <td>0.0</td>\n",
              "      <td>0.0</td>\n",
              "      <td>0.0</td>\n",
              "      <td>0.0</td>\n",
              "    </tr>\n",
              "    <tr>\n",
              "      <th>2013-04-06</th>\n",
              "      <td>116.0</td>\n",
              "      <td>158.41</td>\n",
              "      <td>110.0</td>\n",
              "      <td>133.78</td>\n",
              "      <td>16468.610754</td>\n",
              "      <td>2.126462e+06</td>\n",
              "      <td>130.08716</td>\n",
              "      <td>43.384086</td>\n",
              "      <td>0.733919</td>\n",
              "      <td>0.271676</td>\n",
              "      <td>0.0</td>\n",
              "      <td>0.0</td>\n",
              "      <td>0.0</td>\n",
              "      <td>0.0</td>\n",
              "      <td>0.0</td>\n",
              "    </tr>\n",
              "    <tr>\n",
              "      <th>2013-04-07</th>\n",
              "      <td>116.0</td>\n",
              "      <td>158.41</td>\n",
              "      <td>110.0</td>\n",
              "      <td>133.78</td>\n",
              "      <td>16468.610754</td>\n",
              "      <td>2.126462e+06</td>\n",
              "      <td>130.08716</td>\n",
              "      <td>43.384086</td>\n",
              "      <td>0.733919</td>\n",
              "      <td>0.271676</td>\n",
              "      <td>0.0</td>\n",
              "      <td>0.0</td>\n",
              "      <td>0.0</td>\n",
              "      <td>0.0</td>\n",
              "      <td>0.0</td>\n",
              "    </tr>\n",
              "  </tbody>\n",
              "</table>\n",
              "</div>"
            ],
            "text/plain": [
              "             Open    High    Low  ...  Low_RoC  Close_RoC  Weighted_Price_RoC\n",
              "date                              ...                                        \n",
              "2013-04-03  116.0  158.41  110.0  ...      0.0        0.0                 0.0\n",
              "2013-04-04  116.0  158.41  110.0  ...      0.0        0.0                 0.0\n",
              "2013-04-05  116.0  158.41  110.0  ...      0.0        0.0                 0.0\n",
              "2013-04-06  116.0  158.41  110.0  ...      0.0        0.0                 0.0\n",
              "2013-04-07  116.0  158.41  110.0  ...      0.0        0.0                 0.0\n",
              "\n",
              "[5 rows x 15 columns]"
            ]
          },
          "metadata": {
            "tags": []
          },
          "execution_count": 4
        }
      ]
    },
    {
      "cell_type": "markdown",
      "metadata": {
        "id": "L9NE5M0EGrkE",
        "colab_type": "text"
      },
      "source": [
        "Dropping Volume Currency and Close_RoC as discussed in the Feature Selection phase"
      ]
    },
    {
      "cell_type": "code",
      "metadata": {
        "id": "tCLXWQPUGrkF",
        "colab_type": "code",
        "colab": {}
      },
      "source": [
        "DaySummary = DaySummary.drop(columns=['Volume_Currency','Close_RoC'])"
      ],
      "execution_count": 0,
      "outputs": []
    },
    {
      "cell_type": "code",
      "metadata": {
        "id": "iPCaUTrqGrkJ",
        "colab_type": "code",
        "outputId": "a1bd49e0-8014-46a6-edf2-bb62648e548d",
        "colab": {
          "base_uri": "https://localhost:8080/",
          "height": 233
        }
      },
      "source": [
        "#We need create a target data, which is basically a copy of the data that will be later shifted\n",
        "target_data = DaySummary.copy()\n",
        "target_data = target_data.loc[:,['High','Low']]\n",
        "target_data.tail()"
      ],
      "execution_count": 6,
      "outputs": [
        {
          "output_type": "execute_result",
          "data": {
            "text/html": [
              "<div>\n",
              "<style scoped>\n",
              "    .dataframe tbody tr th:only-of-type {\n",
              "        vertical-align: middle;\n",
              "    }\n",
              "\n",
              "    .dataframe tbody tr th {\n",
              "        vertical-align: top;\n",
              "    }\n",
              "\n",
              "    .dataframe thead th {\n",
              "        text-align: right;\n",
              "    }\n",
              "</style>\n",
              "<table border=\"1\" class=\"dataframe\">\n",
              "  <thead>\n",
              "    <tr style=\"text-align: right;\">\n",
              "      <th></th>\n",
              "      <th>High</th>\n",
              "      <th>Low</th>\n",
              "    </tr>\n",
              "    <tr>\n",
              "      <th>date</th>\n",
              "      <th></th>\n",
              "      <th></th>\n",
              "    </tr>\n",
              "  </thead>\n",
              "  <tbody>\n",
              "    <tr>\n",
              "      <th>2019-08-07</th>\n",
              "      <td>12145.42</td>\n",
              "      <td>11388.01</td>\n",
              "    </tr>\n",
              "    <tr>\n",
              "      <th>2019-08-08</th>\n",
              "      <td>12061.10</td>\n",
              "      <td>11450.93</td>\n",
              "    </tr>\n",
              "    <tr>\n",
              "      <th>2019-08-09</th>\n",
              "      <td>12040.00</td>\n",
              "      <td>11650.00</td>\n",
              "    </tr>\n",
              "    <tr>\n",
              "      <th>2019-08-10</th>\n",
              "      <td>11976.68</td>\n",
              "      <td>11200.00</td>\n",
              "    </tr>\n",
              "    <tr>\n",
              "      <th>2019-08-11</th>\n",
              "      <td>11589.73</td>\n",
              "      <td>11080.37</td>\n",
              "    </tr>\n",
              "  </tbody>\n",
              "</table>\n",
              "</div>"
            ],
            "text/plain": [
              "                High       Low\n",
              "date                          \n",
              "2019-08-07  12145.42  11388.01\n",
              "2019-08-08  12061.10  11450.93\n",
              "2019-08-09  12040.00  11650.00\n",
              "2019-08-10  11976.68  11200.00\n",
              "2019-08-11  11589.73  11080.37"
            ]
          },
          "metadata": {
            "tags": []
          },
          "execution_count": 6
        }
      ]
    },
    {
      "cell_type": "markdown",
      "metadata": {
        "id": "UqhMK-RiGrkN",
        "colab_type": "text"
      },
      "source": [
        "There are 2322 days between the initial day 2013-04-03 of the data up to the last day 2019-08-11"
      ]
    },
    {
      "cell_type": "code",
      "metadata": {
        "id": "noNqCIG4GrkO",
        "colab_type": "code",
        "outputId": "cfa4b4b8-8f33-4680-95e8-61e39ac57906",
        "colab": {
          "base_uri": "https://localhost:8080/",
          "height": 35
        }
      },
      "source": [
        "DaySummary.shape"
      ],
      "execution_count": 7,
      "outputs": [
        {
          "output_type": "execute_result",
          "data": {
            "text/plain": [
              "(2322, 13)"
            ]
          },
          "metadata": {
            "tags": []
          },
          "execution_count": 7
        }
      ]
    },
    {
      "cell_type": "markdown",
      "metadata": {
        "id": "MXm9QXobGrkU",
        "colab_type": "text"
      },
      "source": [
        "The objective of the model is to predict the High and Low values of the following day"
      ]
    },
    {
      "cell_type": "code",
      "metadata": {
        "id": "pBDjRUeJGrkV",
        "colab_type": "code",
        "colab": {}
      },
      "source": [
        "# Predict 1 day in the future\n",
        "shift_steps = 1\n",
        "\n",
        "# Now that the target_data was created we need to shift the data so that the target values of 1 day later aling with our\n",
        "# input data\n",
        "\n",
        "target_data = target_data.shift(-shift_steps)\n"
      ],
      "execution_count": 0,
      "outputs": []
    },
    {
      "cell_type": "markdown",
      "metadata": {
        "id": "0Rpz6pkEGrkY",
        "colab_type": "text"
      },
      "source": [
        "Here we double check that because we shifted the target values now we have NaN values at the end"
      ]
    },
    {
      "cell_type": "code",
      "metadata": {
        "id": "KcySrJ9HGrkZ",
        "colab_type": "code",
        "outputId": "dd3648e6-3159-4c2a-ae47-2eb53e711ca3",
        "colab": {
          "base_uri": "https://localhost:8080/",
          "height": 233
        }
      },
      "source": [
        "target_data.tail()"
      ],
      "execution_count": 9,
      "outputs": [
        {
          "output_type": "execute_result",
          "data": {
            "text/html": [
              "<div>\n",
              "<style scoped>\n",
              "    .dataframe tbody tr th:only-of-type {\n",
              "        vertical-align: middle;\n",
              "    }\n",
              "\n",
              "    .dataframe tbody tr th {\n",
              "        vertical-align: top;\n",
              "    }\n",
              "\n",
              "    .dataframe thead th {\n",
              "        text-align: right;\n",
              "    }\n",
              "</style>\n",
              "<table border=\"1\" class=\"dataframe\">\n",
              "  <thead>\n",
              "    <tr style=\"text-align: right;\">\n",
              "      <th></th>\n",
              "      <th>High</th>\n",
              "      <th>Low</th>\n",
              "    </tr>\n",
              "    <tr>\n",
              "      <th>date</th>\n",
              "      <th></th>\n",
              "      <th></th>\n",
              "    </tr>\n",
              "  </thead>\n",
              "  <tbody>\n",
              "    <tr>\n",
              "      <th>2019-08-07</th>\n",
              "      <td>12061.10</td>\n",
              "      <td>11450.93</td>\n",
              "    </tr>\n",
              "    <tr>\n",
              "      <th>2019-08-08</th>\n",
              "      <td>12040.00</td>\n",
              "      <td>11650.00</td>\n",
              "    </tr>\n",
              "    <tr>\n",
              "      <th>2019-08-09</th>\n",
              "      <td>11976.68</td>\n",
              "      <td>11200.00</td>\n",
              "    </tr>\n",
              "    <tr>\n",
              "      <th>2019-08-10</th>\n",
              "      <td>11589.73</td>\n",
              "      <td>11080.37</td>\n",
              "    </tr>\n",
              "    <tr>\n",
              "      <th>2019-08-11</th>\n",
              "      <td>NaN</td>\n",
              "      <td>NaN</td>\n",
              "    </tr>\n",
              "  </tbody>\n",
              "</table>\n",
              "</div>"
            ],
            "text/plain": [
              "                High       Low\n",
              "date                          \n",
              "2019-08-07  12061.10  11450.93\n",
              "2019-08-08  12040.00  11650.00\n",
              "2019-08-09  11976.68  11200.00\n",
              "2019-08-10  11589.73  11080.37\n",
              "2019-08-11       NaN       NaN"
            ]
          },
          "metadata": {
            "tags": []
          },
          "execution_count": 9
        }
      ]
    },
    {
      "cell_type": "code",
      "metadata": {
        "id": "L-2C2lJuGrkg",
        "colab_type": "code",
        "colab": {}
      },
      "source": [
        "# Now we need to remove the rows with NaN values for the target data thus needing to exclude also \n",
        "# 1 line of the DaySummary data\n",
        "\n",
        "DaySummary_clean = DaySummary.iloc[:-1,:]\n",
        "target_data_clean = target_data.iloc[:-1,:]"
      ],
      "execution_count": 0,
      "outputs": []
    },
    {
      "cell_type": "code",
      "metadata": {
        "id": "CZXC3DThGrkl",
        "colab_type": "code",
        "outputId": "807a41fa-a3f9-4f28-a693-a1860a131829",
        "colab": {
          "base_uri": "https://localhost:8080/",
          "height": 35
        }
      },
      "source": [
        "DaySummary_clean.shape, target_data_clean.shape"
      ],
      "execution_count": 11,
      "outputs": [
        {
          "output_type": "execute_result",
          "data": {
            "text/plain": [
              "((2321, 13), (2321, 2))"
            ]
          },
          "metadata": {
            "tags": []
          },
          "execution_count": 11
        }
      ]
    },
    {
      "cell_type": "markdown",
      "metadata": {
        "id": "5j8PSX8VGrkp",
        "colab_type": "text"
      },
      "source": [
        "Separating the days between test and training"
      ]
    },
    {
      "cell_type": "code",
      "metadata": {
        "id": "x5GthVebGrkq",
        "colab_type": "code",
        "colab": {}
      },
      "source": [
        "# For the use of Neural Networks we need to convert the data to a numpy array\n",
        "\n",
        "X_data = np.array(DaySummary_clean)\n",
        "Y_data = np.array(target_data_clean)"
      ],
      "execution_count": 0,
      "outputs": []
    },
    {
      "cell_type": "code",
      "metadata": {
        "id": "kH8isLd7Grkt",
        "colab_type": "code",
        "outputId": "48e5f0e4-7773-48d7-b03d-d4baa9f1e4d1",
        "colab": {
          "base_uri": "https://localhost:8080/",
          "height": 35
        }
      },
      "source": [
        "# Using a 90% split of the data for validation\n",
        "\n",
        "train_split = 0.9\n",
        "\n",
        "n_train_rows = int(X_data.shape[0]*train_split)\n",
        "\n",
        "\n",
        "# For validation since we are performing a sliding window it got to be an even number\n",
        "\n",
        "X_train = X_data[0:n_train_rows]\n",
        "X_test = X_data[n_train_rows:]\n",
        "Y_train = Y_data[0:n_train_rows]\n",
        "Y_test = Y_data[n_train_rows:]\n",
        "\n",
        "print(X_train.shape, Y_train.shape, X_test.shape, Y_test.shape)"
      ],
      "execution_count": 13,
      "outputs": [
        {
          "output_type": "stream",
          "text": [
            "(2088, 13) (2088, 2) (233, 13) (233, 2)\n"
          ],
          "name": "stdout"
        }
      ]
    },
    {
      "cell_type": "markdown",
      "metadata": {
        "id": "m_9Jd9mLGrky",
        "colab_type": "text"
      },
      "source": [
        "Now we need to Scale the data to feed it to the Neural Network"
      ]
    },
    {
      "cell_type": "code",
      "metadata": {
        "id": "GcF3lVQfGrk0",
        "colab_type": "code",
        "outputId": "7f3e201a-c9e7-4575-bf17-0802b726e3c7",
        "colab": {
          "base_uri": "https://localhost:8080/",
          "height": 35
        }
      },
      "source": [
        "x_scaler = MinMaxScaler()\n",
        "\n",
        "X_train_scale = x_scaler.fit_transform(X_train)\n",
        "X_test_scale =  x_scaler.transform(X_test)\n",
        "\n",
        "y_scaler = MinMaxScaler()\n",
        "\n",
        "Y_train_scale = y_scaler.fit_transform(Y_train)\n",
        "Y_test_scale =  y_scaler.transform(Y_test)\n",
        "\n",
        "# For keras we data input has to have a (x,y,z) shape\n",
        "\n",
        "X_train_scale = X_train_scale.reshape(1,X_train_scale.shape[0],X_train_scale.shape[1])\n",
        "Y_train_scale = Y_train_scale.reshape(1,Y_train_scale.shape[0],Y_train_scale.shape[1])\n",
        "X_test_scale  = X_test_scale.reshape(1,X_test_scale.shape[0],X_test_scale.shape[1])\n",
        "Y_test_scale  = Y_test_scale.reshape(1,Y_test_scale.shape[0],Y_test_scale.shape[1])\n",
        "\n",
        "print(X_train_scale.shape, Y_train_scale.shape, X_test_scale.shape, Y_test_scale.shape)"
      ],
      "execution_count": 14,
      "outputs": [
        {
          "output_type": "stream",
          "text": [
            "(1, 2088, 13) (1, 2088, 2) (1, 233, 13) (1, 233, 2)\n"
          ],
          "name": "stdout"
        }
      ]
    },
    {
      "cell_type": "code",
      "metadata": {
        "id": "WHsd-qk6Grk4",
        "colab_type": "code",
        "colab": {}
      },
      "source": [
        "def batch_reshape(sequence_length, X_train_scale, Y_train_scale, num_x_signal, num_y_signal):\n",
        "    \"\"\"\n",
        "    Generator function for creating random batches of training-data.\n",
        "    \"\"\"\n",
        "    batch_size = X_train_scale.shape[1] // sequence_length\n",
        "   \n",
        "    # Allocate a new array for the batch of input-signals.\n",
        "    x_shape = (batch_size, sequence_length, num_x_signal)\n",
        "    x_batch = np.zeros(shape=x_shape, dtype=np.float16)\n",
        "\n",
        "    # Allocate a new array for the batch of output-signals.\n",
        "    y_shape = (batch_size, num_y_signal)\n",
        "    y_batch = np.zeros(shape=y_shape, dtype=np.float16)\n",
        "\n",
        "    #print(x_batch.shape, y_batch.shape, X_train_scale.shape, Y_train_scale.shape) #debugging\n",
        "    \n",
        "    # Create Sequence for sliding window\n",
        "    seq = []\n",
        "    for i in range(batch_size):\n",
        "        seq.append(i*sequence_length)\n",
        "\n",
        "    # Fill the batch with sequences of data.\n",
        "    for i in range(0,len(seq)-1):\n",
        "\n",
        "        # Copy the sequences of data starting at this index.\n",
        "        x_batch[i] = X_train_scale[0][seq[i]:seq[i]+sequence_length][:]\n",
        "        y_batch[i] = Y_train_scale[0][seq[i]+sequence_length-1][:]\n",
        "        #print(\"iteration: \",i,\"-OK\") #debugging\n",
        "    \n",
        "    #print(x_batch.shape,y_batch.shape) #debbuging\n",
        "    return (x_batch, y_batch)"
      ],
      "execution_count": 0,
      "outputs": []
    },
    {
      "cell_type": "code",
      "metadata": {
        "id": "NXy9oDIIGrk9",
        "colab_type": "code",
        "colab": {}
      },
      "source": [
        "import random as rand\n",
        "from random import randint\n",
        "from random import seed\n",
        "\n",
        "def batch_generator(batch_size, sequence_length, num_x_signal, num_y_signal,  X_train_scale, Y_train_scale):\n",
        "    \n",
        "    X_reshaped , Y_reshaped =  batch_reshape(sequence_length, X_train_scale, Y_train_scale, num_x_signal, num_y_signal)\n",
        "    \n",
        "    # Infinite loop.\n",
        "    while True:\n",
        "        # Allocate a new array for the batch of input-signals.\n",
        "        x_shape = (batch_size, sequence_length, num_x_signal)\n",
        "        x_batch = np.zeros(shape=x_shape, dtype=np.float16)\n",
        "\n",
        "        # Allocate a new array for the batch of output-signals.\n",
        "        y_shape = (batch_size, num_y_signal)\n",
        "        y_batch = np.zeros(shape=y_shape, dtype=np.float16)\n",
        "\n",
        "        # Fill the batch with random continuous sequences of data.\n",
        "\n",
        "        # Get a random start-index.\n",
        "        # This points somewhere into the training-data.\n",
        "        idx = np.random.randint(X_reshaped.shape[0] - batch_size)\n",
        "\n",
        "        # Copy the sequences of data starting at this index.\n",
        "        x_batch = X_reshaped[idx:idx+batch_size]\n",
        "        y_batch = Y_reshaped[idx:idx+batch_size]\n",
        "\n",
        "        \n",
        "        yield (x_batch, y_batch)\n",
        "        "
      ],
      "execution_count": 0,
      "outputs": []
    },
    {
      "cell_type": "code",
      "metadata": {
        "id": "Gnz3xCE7GrlA",
        "colab_type": "code",
        "colab": {}
      },
      "source": [
        "num_x_signal = 13 # number of input features\n",
        "num_y_signal = 2 # number of label classes\n",
        "\n",
        "batch_size = 60 # tunning parameter\n",
        "sequence_length = 25 #Amount of time-steps to look back for the 10 minute prediction"
      ],
      "execution_count": 0,
      "outputs": []
    },
    {
      "cell_type": "code",
      "metadata": {
        "id": "lA36zFWiGrlC",
        "colab_type": "code",
        "colab": {}
      },
      "source": [
        "generator = batch_generator(batch_size,sequence_length, num_x_signal, num_y_signal, X_train_scale, Y_train_scale)"
      ],
      "execution_count": 0,
      "outputs": []
    },
    {
      "cell_type": "code",
      "metadata": {
        "id": "COv6FxyqGrlF",
        "colab_type": "code",
        "outputId": "a063b818-7c97-4a02-b649-f9e5841d8035",
        "colab": {
          "base_uri": "https://localhost:8080/",
          "height": 35
        }
      },
      "source": [
        "x_batch, y_batch = next(generator)\n",
        "\n",
        "print(x_batch.shape, y_batch.shape)"
      ],
      "execution_count": 19,
      "outputs": [
        {
          "output_type": "stream",
          "text": [
            "(60, 25, 13) (60, 2)\n"
          ],
          "name": "stdout"
        }
      ]
    },
    {
      "cell_type": "code",
      "metadata": {
        "id": "ydYAC0cqGrlI",
        "colab_type": "code",
        "colab": {}
      },
      "source": [
        "def batch_validation(sequence_length, num_x_signal, num_y_signal, X_test_scale, Y_test_scale):\n",
        "    \"\"\"\n",
        "    Generator function for creating random batches of validation data.\n",
        "    \"\"\"\n",
        "    # Allocate a new array for the batch of input-signals.\n",
        "    batch_size_val = X_test_scale.shape[1] - sequence_length \n",
        "\n",
        "    x_shape = (batch_size_val, sequence_length, num_x_signal)\n",
        "    x_batch = np.zeros(shape=x_shape, dtype=np.float16)\n",
        "\n",
        "    # Allocate a new array for the batch of output-signals.\n",
        "    y_shape = (batch_size_val, num_y_signal)\n",
        "    y_batch = np.zeros(shape=y_shape, dtype=np.float16)\n",
        "\n",
        "    # Fill the batch with random sequences of data.\n",
        "    for i in range(batch_size_val):\n",
        "\n",
        "        # Copy the sequences of data starting at this index.\n",
        "        x_batch[i] = X_test_scale[0][i:i+sequence_length][:]\n",
        "        y_batch[i] = Y_test_scale[0][i+sequence_length-1][:]\n",
        "\n",
        "\n",
        "    return (x_batch, y_batch)"
      ],
      "execution_count": 0,
      "outputs": []
    },
    {
      "cell_type": "code",
      "metadata": {
        "id": "_LmBMOraGrlM",
        "colab_type": "code",
        "outputId": "7e78d421-38e9-47a9-f1e1-5a9823e6935c",
        "colab": {
          "base_uri": "https://localhost:8080/",
          "height": 35
        }
      },
      "source": [
        "X_val, Y_val = batch_validation(sequence_length,num_x_signal, num_y_signal, X_test_scale, Y_test_scale)\n",
        "print(X_val.shape, Y_val.shape)"
      ],
      "execution_count": 21,
      "outputs": [
        {
          "output_type": "stream",
          "text": [
            "(208, 25, 13) (208, 2)\n"
          ],
          "name": "stdout"
        }
      ]
    },
    {
      "cell_type": "code",
      "metadata": {
        "id": "x39IvOs-GrlQ",
        "colab_type": "code",
        "colab": {}
      },
      "source": [
        "validation_data = (X_val, Y_val)"
      ],
      "execution_count": 0,
      "outputs": []
    },
    {
      "cell_type": "markdown",
      "metadata": {
        "id": "UgsnKwYUGrlS",
        "colab_type": "text"
      },
      "source": [
        "## Create Recurrent Neural Network"
      ]
    },
    {
      "cell_type": "code",
      "metadata": {
        "id": "JqbFT1W9GrlT",
        "colab_type": "code",
        "outputId": "fc6b00fe-6269-4c12-c42c-5308db88dc62",
        "colab": {
          "base_uri": "https://localhost:8080/",
          "height": 332
        }
      },
      "source": [
        "from tensorflow.keras.layers import BatchNormalization\n",
        "#from keras.constraints import max_norm\n",
        "\n",
        "model = Sequential()\n",
        "model.add(LSTM(units=200,\n",
        "              return_sequences=True,\n",
        "              input_shape=(None,num_x_signal,)))\n",
        "#model.add(BatchNormalization())\n",
        "model.add(LSTM(units=150, return_sequences=False))\n",
        "model.add(Dense(num_y_signal,activation='relu'))\n",
        "model.summary()"
      ],
      "execution_count": 23,
      "outputs": [
        {
          "output_type": "stream",
          "text": [
            "WARNING:tensorflow:From /usr/local/lib/python3.6/dist-packages/tensorflow_core/python/ops/resource_variable_ops.py:1630: calling BaseResourceVariable.__init__ (from tensorflow.python.ops.resource_variable_ops) with constraint is deprecated and will be removed in a future version.\n",
            "Instructions for updating:\n",
            "If using Keras pass *_constraint arguments to layers.\n",
            "Model: \"sequential\"\n",
            "_________________________________________________________________\n",
            "Layer (type)                 Output Shape              Param #   \n",
            "=================================================================\n",
            "lstm (LSTM)                  (None, None, 200)         171200    \n",
            "_________________________________________________________________\n",
            "lstm_1 (LSTM)                (None, 150)               210600    \n",
            "_________________________________________________________________\n",
            "dense (Dense)                (None, 2)                 302       \n",
            "=================================================================\n",
            "Total params: 382,102\n",
            "Trainable params: 382,102\n",
            "Non-trainable params: 0\n",
            "_________________________________________________________________\n"
          ],
          "name": "stdout"
        }
      ]
    },
    {
      "cell_type": "code",
      "metadata": {
        "id": "BipzhXW4GrlW",
        "colab_type": "code",
        "colab": {}
      },
      "source": [
        "optimizer = Adam(lr=1e-3)\n",
        "\n",
        "model.compile(loss=losses.mean_squared_error, optimizer=optimizer)"
      ],
      "execution_count": 0,
      "outputs": []
    },
    {
      "cell_type": "code",
      "metadata": {
        "id": "1SEdgxu7Grla",
        "colab_type": "code",
        "colab": {}
      },
      "source": [
        "es = EarlyStopping(monitor='val_loss', patience=5, verbose=1)\n",
        "\n",
        "model_file = \"DailySummary_LSTM 2 layers_Relu_MinMax_Modified_2000epochs.h5\"\n",
        "\n",
        "mc = ModelCheckpoint(model_file, monitor=\"val_loss\", mode=\"min\", save_best_only=True)\n",
        "\n",
        "reduce_lr = ReduceLROnPlateau(monitor='val_loss', factor=0.2,\n",
        "                              patience=4, min_lr=1e-4)"
      ],
      "execution_count": 0,
      "outputs": []
    },
    {
      "cell_type": "code",
      "metadata": {
        "id": "zcKjlC6CGrlc",
        "colab_type": "code",
        "outputId": "c4a45997-6251-47ae-bbda-3cc62dbde0f3",
        "colab": {
          "base_uri": "https://localhost:8080/",
          "height": 1000
        }
      },
      "source": [
        "%%time\n",
        "\n",
        "history = model.fit_generator(generator=generator,\n",
        "                    epochs=2000,\n",
        "                    steps_per_epoch=50,\n",
        "                    validation_data=validation_data,\n",
        "                    callbacks=[ mc, reduce_lr])\n",
        "                    #callbacks=[es, reduce_lr])"
      ],
      "execution_count": 0,
      "outputs": [
        {
          "output_type": "stream",
          "text": [
            "Epoch 1/2000\n",
            "WARNING:tensorflow:From /usr/local/lib/python3.6/dist-packages/tensorflow_core/python/ops/math_grad.py:1424: where (from tensorflow.python.ops.array_ops) is deprecated and will be removed in a future version.\n",
            "Instructions for updating:\n",
            "Use tf.where in 2.0, which has the same broadcast rule as np.where\n",
            "49/50 [============================>.] - ETA: 0s - loss: 0.0126Epoch 1/2000\n",
            "208/50 [============================================================================================================================] - 0s 2ms/sample - loss: 0.0018\n",
            "50/50 [==============================] - 16s 321ms/step - loss: 0.0124 - val_loss: 0.0016\n",
            "Epoch 2/2000\n",
            "49/50 [============================>.] - ETA: 0s - loss: 4.5791e-04Epoch 1/2000\n",
            "208/50 [============================================================================================================================] - 0s 763us/sample - loss: 0.0029\n",
            "50/50 [==============================] - 13s 251ms/step - loss: 4.4967e-04 - val_loss: 0.0020\n",
            "Epoch 3/2000\n",
            "49/50 [============================>.] - ETA: 0s - loss: 2.7423e-04Epoch 1/2000\n",
            "208/50 [============================================================================================================================] - 0s 778us/sample - loss: 0.0036\n",
            "50/50 [==============================] - 12s 249ms/step - loss: 2.7667e-04 - val_loss: 0.0023\n",
            "Epoch 4/2000\n",
            "49/50 [============================>.] - ETA: 0s - loss: 2.3649e-04Epoch 1/2000\n",
            "208/50 [============================================================================================================================] - 0s 695us/sample - loss: 0.0035\n",
            "50/50 [==============================] - 13s 250ms/step - loss: 2.3801e-04 - val_loss: 0.0021\n",
            "Epoch 5/2000\n",
            "49/50 [============================>.] - ETA: 0s - loss: 1.9295e-04Epoch 1/2000\n",
            "208/50 [============================================================================================================================] - 0s 692us/sample - loss: 0.0034\n",
            "50/50 [==============================] - 13s 251ms/step - loss: 1.9485e-04 - val_loss: 0.0020\n",
            "Epoch 6/2000\n",
            "49/50 [============================>.] - ETA: 0s - loss: 1.8548e-04Epoch 1/2000\n",
            "208/50 [============================================================================================================================] - 0s 694us/sample - loss: 0.0034\n",
            "50/50 [==============================] - 12s 249ms/step - loss: 1.8739e-04 - val_loss: 0.0020\n",
            "Epoch 7/2000\n",
            "49/50 [============================>.] - ETA: 0s - loss: 1.7807e-04Epoch 1/2000\n",
            "208/50 [============================================================================================================================] - 0s 684us/sample - loss: 0.0033\n",
            "50/50 [==============================] - 12s 248ms/step - loss: 1.7744e-04 - val_loss: 0.0019\n",
            "Epoch 8/2000\n",
            "49/50 [============================>.] - ETA: 0s - loss: 2.0944e-04Epoch 1/2000\n",
            "208/50 [============================================================================================================================] - 0s 703us/sample - loss: 0.0033\n",
            "50/50 [==============================] - 12s 247ms/step - loss: 2.0676e-04 - val_loss: 0.0019\n",
            "Epoch 9/2000\n",
            "49/50 [============================>.] - ETA: 0s - loss: 1.7701e-04Epoch 1/2000\n",
            "208/50 [============================================================================================================================] - 0s 668us/sample - loss: 0.0032\n",
            "50/50 [==============================] - 12s 250ms/step - loss: 1.7432e-04 - val_loss: 0.0019\n",
            "Epoch 10/2000\n",
            "49/50 [============================>.] - ETA: 0s - loss: 1.6311e-04Epoch 1/2000\n",
            "208/50 [============================================================================================================================] - 0s 675us/sample - loss: 0.0033\n",
            "50/50 [==============================] - 12s 248ms/step - loss: 1.6015e-04 - val_loss: 0.0019\n",
            "Epoch 11/2000\n",
            "49/50 [============================>.] - ETA: 0s - loss: 1.8144e-04Epoch 1/2000\n",
            "208/50 [============================================================================================================================] - 0s 677us/sample - loss: 0.0032\n",
            "50/50 [==============================] - 12s 249ms/step - loss: 1.8311e-04 - val_loss: 0.0019\n",
            "Epoch 12/2000\n",
            "49/50 [============================>.] - ETA: 0s - loss: 1.8194e-04Epoch 1/2000\n",
            "208/50 [============================================================================================================================] - 0s 679us/sample - loss: 0.0031\n",
            "50/50 [==============================] - 12s 249ms/step - loss: 1.8331e-04 - val_loss: 0.0018\n",
            "Epoch 13/2000\n",
            "49/50 [============================>.] - ETA: 0s - loss: 1.9737e-04Epoch 1/2000\n",
            "208/50 [============================================================================================================================] - 0s 708us/sample - loss: 0.0032\n",
            "50/50 [==============================] - 12s 249ms/step - loss: 1.9612e-04 - val_loss: 0.0019\n",
            "Epoch 14/2000\n",
            "49/50 [============================>.] - ETA: 0s - loss: 1.7628e-04Epoch 1/2000\n",
            "208/50 [============================================================================================================================] - 0s 722us/sample - loss: 0.0031\n",
            "50/50 [==============================] - 12s 250ms/step - loss: 1.7304e-04 - val_loss: 0.0018\n",
            "Epoch 15/2000\n",
            "49/50 [============================>.] - ETA: 0s - loss: 1.4041e-04Epoch 1/2000\n",
            "208/50 [============================================================================================================================] - 0s 701us/sample - loss: 0.0033\n",
            "50/50 [==============================] - 12s 250ms/step - loss: 1.4304e-04 - val_loss: 0.0019\n",
            "Epoch 16/2000\n",
            "49/50 [============================>.] - ETA: 0s - loss: 1.4991e-04Epoch 1/2000\n",
            "208/50 [============================================================================================================================] - 0s 694us/sample - loss: 0.0031\n",
            "50/50 [==============================] - 12s 250ms/step - loss: 1.5186e-04 - val_loss: 0.0018\n",
            "Epoch 17/2000\n",
            "49/50 [============================>.] - ETA: 0s - loss: 1.4833e-04Epoch 1/2000\n",
            "208/50 [============================================================================================================================] - 0s 679us/sample - loss: 0.0032\n",
            "50/50 [==============================] - 13s 251ms/step - loss: 1.4956e-04 - val_loss: 0.0019\n",
            "Epoch 18/2000\n",
            "49/50 [============================>.] - ETA: 0s - loss: 1.6828e-04Epoch 1/2000\n",
            "208/50 [============================================================================================================================] - 0s 698us/sample - loss: 0.0030\n",
            "50/50 [==============================] - 13s 250ms/step - loss: 1.6548e-04 - val_loss: 0.0017\n",
            "Epoch 19/2000\n",
            "49/50 [============================>.] - ETA: 0s - loss: 1.1925e-04Epoch 1/2000\n",
            "208/50 [============================================================================================================================] - 0s 692us/sample - loss: 0.0031\n",
            "50/50 [==============================] - 13s 252ms/step - loss: 1.1990e-04 - val_loss: 0.0018\n",
            "Epoch 20/2000\n",
            "49/50 [============================>.] - ETA: 0s - loss: 1.4434e-04Epoch 1/2000\n",
            "208/50 [============================================================================================================================] - 0s 697us/sample - loss: 0.0030\n",
            "50/50 [==============================] - 13s 253ms/step - loss: 1.4546e-04 - val_loss: 0.0017\n",
            "Epoch 21/2000\n",
            "49/50 [============================>.] - ETA: 0s - loss: 1.2887e-04Epoch 1/2000\n",
            "208/50 [============================================================================================================================] - 0s 689us/sample - loss: 0.0028\n",
            "50/50 [==============================] - 13s 250ms/step - loss: 1.2847e-04 - val_loss: 0.0016\n",
            "Epoch 22/2000\n",
            "49/50 [============================>.] - ETA: 0s - loss: 1.4754e-04Epoch 1/2000\n",
            "208/50 [============================================================================================================================] - 0s 682us/sample - loss: 0.0029\n",
            "50/50 [==============================] - 12s 249ms/step - loss: 1.4921e-04 - val_loss: 0.0017\n",
            "Epoch 23/2000\n",
            "49/50 [============================>.] - ETA: 0s - loss: 1.1143e-04Epoch 1/2000\n",
            "208/50 [============================================================================================================================] - 0s 660us/sample - loss: 0.0028\n",
            "50/50 [==============================] - 12s 250ms/step - loss: 1.1126e-04 - val_loss: 0.0016\n",
            "Epoch 24/2000\n",
            "49/50 [============================>.] - ETA: 0s - loss: 1.3830e-04Epoch 1/2000\n",
            "208/50 [============================================================================================================================] - 0s 697us/sample - loss: 0.0027\n",
            "50/50 [==============================] - 12s 250ms/step - loss: 1.3857e-04 - val_loss: 0.0016\n",
            "Epoch 25/2000\n",
            "49/50 [============================>.] - ETA: 0s - loss: 1.2135e-04Epoch 1/2000\n",
            "208/50 [============================================================================================================================] - 0s 702us/sample - loss: 0.0027\n",
            "50/50 [==============================] - 12s 250ms/step - loss: 1.2179e-04 - val_loss: 0.0016\n",
            "Epoch 26/2000\n",
            "49/50 [============================>.] - ETA: 0s - loss: 9.7028e-05Epoch 1/2000\n",
            "208/50 [============================================================================================================================] - 0s 694us/sample - loss: 0.0030\n",
            "50/50 [==============================] - 12s 250ms/step - loss: 9.5684e-05 - val_loss: 0.0017\n",
            "Epoch 27/2000\n",
            "49/50 [============================>.] - ETA: 0s - loss: 1.0896e-04Epoch 1/2000\n",
            "208/50 [============================================================================================================================] - 0s 686us/sample - loss: 0.0026\n",
            "50/50 [==============================] - 12s 250ms/step - loss: 1.0718e-04 - val_loss: 0.0015\n",
            "Epoch 28/2000\n",
            "49/50 [============================>.] - ETA: 0s - loss: 1.0877e-04Epoch 1/2000\n",
            "208/50 [============================================================================================================================] - 0s 720us/sample - loss: 0.0024\n",
            "50/50 [==============================] - 13s 251ms/step - loss: 1.0720e-04 - val_loss: 0.0014\n",
            "Epoch 29/2000\n",
            "49/50 [============================>.] - ETA: 0s - loss: 9.3041e-05Epoch 1/2000\n",
            "208/50 [============================================================================================================================] - 0s 693us/sample - loss: 0.0021\n",
            "50/50 [==============================] - 12s 249ms/step - loss: 9.3912e-05 - val_loss: 0.0012\n",
            "Epoch 30/2000\n",
            "49/50 [============================>.] - ETA: 0s - loss: 8.2727e-05Epoch 1/2000\n",
            "208/50 [============================================================================================================================] - 0s 747us/sample - loss: 0.0016\n",
            "50/50 [==============================] - 13s 251ms/step - loss: 8.2184e-05 - val_loss: 0.0010\n",
            "Epoch 31/2000\n",
            "49/50 [============================>.] - ETA: 0s - loss: 7.5110e-05Epoch 1/2000\n",
            "208/50 [============================================================================================================================] - 0s 686us/sample - loss: 0.0014\n",
            "50/50 [==============================] - 12s 249ms/step - loss: 7.4021e-05 - val_loss: 9.3565e-04\n",
            "Epoch 32/2000\n",
            "49/50 [============================>.] - ETA: 0s - loss: 8.1061e-05Epoch 1/2000\n",
            "208/50 [============================================================================================================================] - 0s 711us/sample - loss: 0.0018\n",
            "50/50 [==============================] - 13s 251ms/step - loss: 8.2426e-05 - val_loss: 0.0012\n",
            "Epoch 33/2000\n",
            "49/50 [============================>.] - ETA: 0s - loss: 8.3883e-05Epoch 1/2000\n",
            "208/50 [============================================================================================================================] - 0s 683us/sample - loss: 0.0017\n",
            "50/50 [==============================] - 13s 251ms/step - loss: 8.4268e-05 - val_loss: 0.0011\n",
            "Epoch 34/2000\n",
            "49/50 [============================>.] - ETA: 0s - loss: 5.5481e-05Epoch 1/2000\n",
            "208/50 [============================================================================================================================] - 0s 719us/sample - loss: 0.0013\n",
            "50/50 [==============================] - 13s 251ms/step - loss: 5.4560e-05 - val_loss: 8.8712e-04\n",
            "Epoch 35/2000\n",
            "49/50 [============================>.] - ETA: 0s - loss: 3.7968e-05Epoch 1/2000\n",
            "208/50 [============================================================================================================================] - 0s 680us/sample - loss: 0.0011\n",
            "50/50 [==============================] - 13s 253ms/step - loss: 3.8332e-05 - val_loss: 7.8686e-04\n",
            "Epoch 36/2000\n",
            "49/50 [============================>.] - ETA: 0s - loss: 4.4073e-05Epoch 1/2000\n",
            "208/50 [============================================================================================================================] - 0s 745us/sample - loss: 9.8738e-04\n",
            "50/50 [==============================] - 13s 250ms/step - loss: 4.3337e-05 - val_loss: 7.4908e-04\n",
            "Epoch 37/2000\n",
            "49/50 [============================>.] - ETA: 0s - loss: 4.9296e-05Epoch 1/2000\n",
            "208/50 [============================================================================================================================] - 0s 690us/sample - loss: 9.8291e-04\n",
            "50/50 [==============================] - 12s 248ms/step - loss: 4.8852e-05 - val_loss: 7.6552e-04\n",
            "Epoch 38/2000\n",
            "49/50 [============================>.] - ETA: 0s - loss: 3.8527e-05Epoch 1/2000\n",
            "208/50 [============================================================================================================================] - 0s 675us/sample - loss: 9.3699e-04\n",
            "50/50 [==============================] - 13s 250ms/step - loss: 3.7960e-05 - val_loss: 7.4229e-04\n",
            "Epoch 39/2000\n",
            "49/50 [============================>.] - ETA: 0s - loss: 4.2297e-05Epoch 1/2000\n",
            "208/50 [============================================================================================================================] - 0s 697us/sample - loss: 9.8017e-04\n",
            "50/50 [==============================] - 12s 248ms/step - loss: 4.2107e-05 - val_loss: 8.0216e-04\n",
            "Epoch 40/2000\n",
            "49/50 [============================>.] - ETA: 0s - loss: 4.3201e-05Epoch 1/2000\n",
            "208/50 [============================================================================================================================] - 0s 694us/sample - loss: 8.7692e-04\n",
            "50/50 [==============================] - 12s 249ms/step - loss: 4.2942e-05 - val_loss: 7.5041e-04\n",
            "Epoch 41/2000\n",
            "49/50 [============================>.] - ETA: 0s - loss: 3.4082e-05Epoch 1/2000\n",
            "208/50 [============================================================================================================================] - 0s 698us/sample - loss: 8.9991e-04\n",
            "50/50 [==============================] - 12s 249ms/step - loss: 3.3883e-05 - val_loss: 7.6134e-04\n",
            "Epoch 42/2000\n",
            "49/50 [============================>.] - ETA: 0s - loss: 3.2040e-05Epoch 1/2000\n",
            "208/50 [============================================================================================================================] - 0s 692us/sample - loss: 8.3939e-04\n",
            "50/50 [==============================] - 12s 249ms/step - loss: 3.2308e-05 - val_loss: 7.2973e-04\n",
            "Epoch 43/2000\n",
            "49/50 [============================>.] - ETA: 0s - loss: 3.3620e-05Epoch 1/2000\n",
            "208/50 [============================================================================================================================] - 0s 683us/sample - loss: 8.3636e-04\n",
            "50/50 [==============================] - 12s 249ms/step - loss: 3.3165e-05 - val_loss: 7.4232e-04\n",
            "Epoch 44/2000\n",
            "49/50 [============================>.] - ETA: 0s - loss: 3.5520e-05Epoch 1/2000\n",
            "208/50 [============================================================================================================================] - 0s 707us/sample - loss: 8.0725e-04\n",
            "50/50 [==============================] - 12s 249ms/step - loss: 3.5045e-05 - val_loss: 7.4407e-04\n",
            "Epoch 45/2000\n",
            "49/50 [============================>.] - ETA: 0s - loss: 3.0892e-05Epoch 1/2000\n",
            "208/50 [============================================================================================================================] - 0s 680us/sample - loss: 8.1120e-04\n",
            "50/50 [==============================] - 12s 250ms/step - loss: 3.1211e-05 - val_loss: 7.3375e-04\n",
            "Epoch 46/2000\n",
            "49/50 [============================>.] - ETA: 0s - loss: 3.0450e-05Epoch 1/2000\n",
            "208/50 [============================================================================================================================] - 0s 697us/sample - loss: 8.1030e-04\n",
            "50/50 [==============================] - 12s 247ms/step - loss: 3.0060e-05 - val_loss: 7.3291e-04\n",
            "Epoch 47/2000\n",
            "49/50 [============================>.] - ETA: 0s - loss: 2.8171e-05Epoch 1/2000\n",
            "208/50 [============================================================================================================================] - 0s 677us/sample - loss: 8.2269e-04\n",
            "50/50 [==============================] - 12s 250ms/step - loss: 2.8151e-05 - val_loss: 7.3721e-04\n",
            "Epoch 48/2000\n",
            "49/50 [============================>.] - ETA: 0s - loss: 2.8428e-05Epoch 1/2000\n",
            "208/50 [============================================================================================================================] - 0s 681us/sample - loss: 8.3945e-04\n",
            "50/50 [==============================] - 12s 249ms/step - loss: 2.8328e-05 - val_loss: 7.4547e-04\n",
            "Epoch 49/2000\n",
            "49/50 [============================>.] - ETA: 0s - loss: 2.7475e-05Epoch 1/2000\n",
            "208/50 [============================================================================================================================] - 0s 683us/sample - loss: 8.0110e-04\n",
            "50/50 [==============================] - 12s 250ms/step - loss: 2.7670e-05 - val_loss: 7.2478e-04\n",
            "Epoch 50/2000\n",
            "49/50 [============================>.] - ETA: 0s - loss: 2.7203e-05Epoch 1/2000\n",
            "208/50 [============================================================================================================================] - 0s 694us/sample - loss: 8.1798e-04\n",
            "50/50 [==============================] - 12s 248ms/step - loss: 2.7796e-05 - val_loss: 7.3788e-04\n",
            "Epoch 51/2000\n",
            "49/50 [============================>.] - ETA: 0s - loss: 2.9236e-05Epoch 1/2000\n",
            "208/50 [============================================================================================================================] - 0s 679us/sample - loss: 8.2512e-04\n",
            "50/50 [==============================] - 12s 248ms/step - loss: 2.9488e-05 - val_loss: 7.4232e-04\n",
            "Epoch 52/2000\n",
            "49/50 [============================>.] - ETA: 0s - loss: 2.4053e-05Epoch 1/2000\n",
            "208/50 [============================================================================================================================] - 0s 678us/sample - loss: 7.9530e-04\n",
            "50/50 [==============================] - 12s 249ms/step - loss: 2.4454e-05 - val_loss: 7.2375e-04\n",
            "Epoch 53/2000\n",
            "49/50 [============================>.] - ETA: 0s - loss: 2.5597e-05Epoch 1/2000\n",
            "208/50 [============================================================================================================================] - 0s 688us/sample - loss: 7.9121e-04\n",
            "50/50 [==============================] - 12s 250ms/step - loss: 2.5596e-05 - val_loss: 7.1999e-04\n",
            "Epoch 54/2000\n",
            "49/50 [============================>.] - ETA: 0s - loss: 3.4137e-05Epoch 1/2000\n",
            "208/50 [============================================================================================================================] - 0s 706us/sample - loss: 7.7471e-04\n",
            "50/50 [==============================] - 12s 249ms/step - loss: 3.4091e-05 - val_loss: 7.6303e-04\n",
            "Epoch 55/2000\n",
            "49/50 [============================>.] - ETA: 0s - loss: 2.6529e-05Epoch 1/2000\n",
            "208/50 [============================================================================================================================] - 0s 689us/sample - loss: 7.6929e-04\n",
            "50/50 [==============================] - 12s 248ms/step - loss: 2.6494e-05 - val_loss: 7.0826e-04\n",
            "Epoch 56/2000\n",
            "49/50 [============================>.] - ETA: 0s - loss: 2.5587e-05Epoch 1/2000\n",
            "208/50 [============================================================================================================================] - 0s 718us/sample - loss: 7.8463e-04\n",
            "50/50 [==============================] - 12s 248ms/step - loss: 2.5241e-05 - val_loss: 7.2412e-04\n",
            "Epoch 57/2000\n",
            "49/50 [============================>.] - ETA: 0s - loss: 2.5565e-05Epoch 1/2000\n",
            "208/50 [============================================================================================================================] - 0s 721us/sample - loss: 7.6745e-04\n",
            "50/50 [==============================] - 12s 248ms/step - loss: 2.5497e-05 - val_loss: 7.1354e-04\n",
            "Epoch 58/2000\n",
            "49/50 [============================>.] - ETA: 0s - loss: 2.1971e-05Epoch 1/2000\n",
            "208/50 [============================================================================================================================] - 0s 681us/sample - loss: 7.9335e-04\n",
            "50/50 [==============================] - 12s 248ms/step - loss: 2.1714e-05 - val_loss: 7.2358e-04\n",
            "Epoch 59/2000\n",
            "49/50 [============================>.] - ETA: 0s - loss: 2.5543e-05Epoch 1/2000\n",
            "208/50 [============================================================================================================================] - 0s 677us/sample - loss: 8.0761e-04\n",
            "50/50 [==============================] - 12s 247ms/step - loss: 2.5176e-05 - val_loss: 7.5732e-04\n",
            "Epoch 60/2000\n",
            "49/50 [============================>.] - ETA: 0s - loss: 3.7035e-05Epoch 1/2000\n",
            "208/50 [============================================================================================================================] - 0s 680us/sample - loss: 0.0011\n",
            "50/50 [==============================] - 12s 247ms/step - loss: 3.7198e-05 - val_loss: 9.2337e-04\n",
            "Epoch 61/2000\n",
            "49/50 [============================>.] - ETA: 0s - loss: 2.5889e-05Epoch 1/2000\n",
            "208/50 [============================================================================================================================] - 0s 694us/sample - loss: 7.4447e-04\n",
            "50/50 [==============================] - 12s 247ms/step - loss: 2.5556e-05 - val_loss: 7.0740e-04\n",
            "Epoch 62/2000\n",
            "49/50 [============================>.] - ETA: 0s - loss: 2.2927e-05Epoch 1/2000\n",
            "208/50 [============================================================================================================================] - 0s 770us/sample - loss: 7.3372e-04\n",
            "50/50 [==============================] - 13s 251ms/step - loss: 2.2668e-05 - val_loss: 6.9566e-04\n",
            "Epoch 63/2000\n",
            "49/50 [============================>.] - ETA: 0s - loss: 2.3568e-05Epoch 1/2000\n",
            "208/50 [============================================================================================================================] - 0s 687us/sample - loss: 7.2978e-04\n",
            "50/50 [==============================] - 12s 247ms/step - loss: 2.3298e-05 - val_loss: 6.9925e-04\n",
            "Epoch 64/2000\n",
            "49/50 [============================>.] - ETA: 0s - loss: 2.3077e-05Epoch 1/2000\n",
            "208/50 [============================================================================================================================] - 0s 690us/sample - loss: 7.1678e-04\n",
            "50/50 [==============================] - 12s 249ms/step - loss: 2.3088e-05 - val_loss: 6.9307e-04\n",
            "Epoch 65/2000\n",
            "49/50 [============================>.] - ETA: 0s - loss: 2.1002e-05Epoch 1/2000\n",
            "208/50 [============================================================================================================================] - 0s 676us/sample - loss: 7.4087e-04\n",
            "50/50 [==============================] - 12s 248ms/step - loss: 2.1004e-05 - val_loss: 6.8813e-04\n",
            "Epoch 66/2000\n",
            "49/50 [============================>.] - ETA: 0s - loss: 2.1498e-05Epoch 1/2000\n",
            "208/50 [============================================================================================================================] - 0s 676us/sample - loss: 7.0583e-04\n",
            "50/50 [==============================] - 12s 246ms/step - loss: 2.1465e-05 - val_loss: 6.7208e-04\n",
            "Epoch 67/2000\n",
            "49/50 [============================>.] - ETA: 0s - loss: 2.0337e-05Epoch 1/2000\n",
            "208/50 [============================================================================================================================] - 0s 689us/sample - loss: 7.0054e-04\n",
            "50/50 [==============================] - 12s 249ms/step - loss: 2.0290e-05 - val_loss: 6.6894e-04\n",
            "Epoch 68/2000\n",
            "49/50 [============================>.] - ETA: 0s - loss: 1.9547e-05Epoch 1/2000\n",
            "208/50 [============================================================================================================================] - 0s 686us/sample - loss: 7.0544e-04\n",
            "50/50 [==============================] - 12s 247ms/step - loss: 1.9745e-05 - val_loss: 6.7776e-04\n",
            "Epoch 69/2000\n",
            "49/50 [============================>.] - ETA: 0s - loss: 2.1681e-05Epoch 1/2000\n",
            "208/50 [============================================================================================================================] - 0s 682us/sample - loss: 7.1334e-04\n",
            "50/50 [==============================] - 12s 248ms/step - loss: 2.1637e-05 - val_loss: 6.8223e-04\n",
            "Epoch 70/2000\n",
            "49/50 [============================>.] - ETA: 0s - loss: 2.1740e-05Epoch 1/2000\n",
            "208/50 [============================================================================================================================] - 0s 682us/sample - loss: 6.9487e-04\n",
            "50/50 [==============================] - 12s 248ms/step - loss: 2.1728e-05 - val_loss: 6.6951e-04\n",
            "Epoch 71/2000\n",
            "49/50 [============================>.] - ETA: 0s - loss: 1.9530e-05Epoch 1/2000\n",
            "208/50 [============================================================================================================================] - 0s 689us/sample - loss: 6.7738e-04\n",
            "50/50 [==============================] - 12s 246ms/step - loss: 1.9476e-05 - val_loss: 6.5226e-04\n",
            "Epoch 72/2000\n",
            "49/50 [============================>.] - ETA: 0s - loss: 2.0778e-05Epoch 1/2000\n",
            "208/50 [============================================================================================================================] - 0s 679us/sample - loss: 6.7402e-04\n",
            "50/50 [==============================] - 12s 249ms/step - loss: 2.0576e-05 - val_loss: 6.4980e-04\n",
            "Epoch 73/2000\n",
            "49/50 [============================>.] - ETA: 0s - loss: 2.1337e-05Epoch 1/2000\n",
            "208/50 [============================================================================================================================] - 0s 701us/sample - loss: 6.6479e-04\n",
            "50/50 [==============================] - 12s 246ms/step - loss: 2.1455e-05 - val_loss: 6.5802e-04\n",
            "Epoch 74/2000\n",
            "49/50 [============================>.] - ETA: 0s - loss: 1.7245e-05Epoch 1/2000\n",
            "208/50 [============================================================================================================================] - 0s 668us/sample - loss: 6.6440e-04\n",
            "50/50 [==============================] - 12s 247ms/step - loss: 1.7063e-05 - val_loss: 6.4443e-04\n",
            "Epoch 75/2000\n",
            "49/50 [============================>.] - ETA: 0s - loss: 1.8516e-05Epoch 1/2000\n",
            "208/50 [============================================================================================================================] - 0s 682us/sample - loss: 6.6760e-04\n",
            "50/50 [==============================] - 12s 245ms/step - loss: 1.8344e-05 - val_loss: 6.4651e-04\n",
            "Epoch 76/2000\n",
            "49/50 [============================>.] - ETA: 0s - loss: 3.3864e-05Epoch 1/2000\n",
            "208/50 [============================================================================================================================] - 0s 668us/sample - loss: 0.0010\n",
            "50/50 [==============================] - 12s 248ms/step - loss: 3.4301e-05 - val_loss: 8.7071e-04\n",
            "Epoch 77/2000\n",
            "49/50 [============================>.] - ETA: 0s - loss: 2.0089e-05Epoch 1/2000\n",
            "208/50 [============================================================================================================================] - 0s 681us/sample - loss: 7.5695e-04\n",
            "50/50 [==============================] - 12s 247ms/step - loss: 1.9934e-05 - val_loss: 7.0169e-04\n",
            "Epoch 78/2000\n",
            "49/50 [============================>.] - ETA: 0s - loss: 1.7052e-05Epoch 1/2000\n",
            "208/50 [============================================================================================================================] - 0s 690us/sample - loss: 7.9710e-04\n",
            "50/50 [==============================] - 12s 247ms/step - loss: 1.7088e-05 - val_loss: 7.1859e-04\n",
            "Epoch 79/2000\n",
            "49/50 [============================>.] - ETA: 0s - loss: 1.9198e-05Epoch 1/2000\n",
            "208/50 [============================================================================================================================] - 0s 683us/sample - loss: 6.8978e-04\n",
            "50/50 [==============================] - 12s 246ms/step - loss: 1.9059e-05 - val_loss: 6.6116e-04\n",
            "Epoch 80/2000\n",
            "49/50 [============================>.] - ETA: 0s - loss: 1.6881e-05Epoch 1/2000\n",
            "208/50 [============================================================================================================================] - 0s 664us/sample - loss: 7.3880e-04\n",
            "50/50 [==============================] - 12s 246ms/step - loss: 1.6843e-05 - val_loss: 6.8952e-04\n",
            "Epoch 81/2000\n",
            "49/50 [============================>.] - ETA: 0s - loss: 1.6644e-05Epoch 1/2000\n",
            "208/50 [============================================================================================================================] - 0s 677us/sample - loss: 8.0761e-04\n",
            "50/50 [==============================] - 12s 247ms/step - loss: 1.6436e-05 - val_loss: 7.2399e-04\n",
            "Epoch 82/2000\n",
            "49/50 [============================>.] - ETA: 0s - loss: 1.5798e-05Epoch 1/2000\n",
            "208/50 [============================================================================================================================] - 0s 680us/sample - loss: 7.4805e-04\n",
            "50/50 [==============================] - 12s 249ms/step - loss: 1.5763e-05 - val_loss: 6.8679e-04\n",
            "Epoch 83/2000\n",
            "49/50 [============================>.] - ETA: 0s - loss: 1.5826e-05Epoch 1/2000\n",
            "208/50 [============================================================================================================================] - 0s 693us/sample - loss: 7.2746e-04\n",
            "50/50 [==============================] - 12s 248ms/step - loss: 1.5783e-05 - val_loss: 6.8032e-04\n",
            "Epoch 84/2000\n",
            "49/50 [============================>.] - ETA: 0s - loss: 1.6753e-05Epoch 1/2000\n",
            "208/50 [============================================================================================================================] - 0s 688us/sample - loss: 6.5941e-04\n",
            "50/50 [==============================] - 12s 248ms/step - loss: 1.6737e-05 - val_loss: 6.4380e-04\n",
            "Epoch 85/2000\n",
            "33/50 [==================>...........] - ETA: 4s - loss: 1.4797e-05"
          ],
          "name": "stdout"
        }
      ]
    },
    {
      "cell_type": "code",
      "metadata": {
        "id": "z0DLvjZsGrlg",
        "colab_type": "code",
        "colab": {}
      },
      "source": [
        "hist_df = pd.DataFrame(history.history) \n",
        "hist_csv_file = model_file.split('.')[0]+'.csv'\n",
        "with open(hist_csv_file, mode='w') as f:\n",
        "    hist_df.to_csv(f)"
      ],
      "execution_count": 0,
      "outputs": []
    },
    {
      "cell_type": "code",
      "metadata": {
        "id": "ggN4PiECHYFg",
        "colab_type": "code",
        "colab": {}
      },
      "source": [
        "# Save history and H5 file to drive\n",
        "saveDrivePath = '/content/drive/My Drive/Capstone/Approach/Step3DailySummary'\n",
        "h5FilePath = '/content/'+ model_file\n",
        "historyFilePath = '/content/' + hist_csv_file\n",
        "\n",
        "os.system(\"mv \"+'\"'+h5FilePath+'\"' + \" \" + '\"'+saveDrivePath+'\"' )\n",
        "os.system(\"mv \"+'\"'+historyFilePath+'\"' + \" \" + '\"'+saveDrivePath+'\"' )"
      ],
      "execution_count": 0,
      "outputs": []
    },
    {
      "cell_type": "code",
      "metadata": {
        "id": "o-YFo1m8Grlj",
        "colab_type": "code",
        "colab": {}
      },
      "source": [
        "plt.plot(history.history['val_loss'])\n",
        "plt.title('model_Val_loss')\n",
        "plt.ylabel('Val loss')\n",
        "plt.xlabel('epoch')\n",
        "plt.legend(['test'], loc='upper left')\n",
        "plt.show()"
      ],
      "execution_count": 0,
      "outputs": []
    },
    {
      "cell_type": "code",
      "metadata": {
        "id": "VfRcee_sGrlm",
        "colab_type": "code",
        "colab": {}
      },
      "source": [
        "plt.plot(history.history['loss'])\n",
        "plt.title('model_loss')\n",
        "plt.ylabel('loss')\n",
        "plt.xlabel('epoch')\n",
        "plt.legend(['train'], loc='upper left')\n",
        "plt.show()"
      ],
      "execution_count": 0,
      "outputs": []
    },
    {
      "cell_type": "code",
      "metadata": {
        "id": "0XCXzmN8Grlp",
        "colab_type": "code",
        "colab": {}
      },
      "source": [
        "# The algorithm uses data of the previous 25 time-steps to forecast the following day into the future. \n",
        "\n",
        "#Create a Dataframe to hold the true predicted values for each day.\n",
        "DailySummaryPredictionData = DaySummary.copy()\n",
        "DailySummaryPredictionData = DailySummaryPredictionData.loc[:,['High','Low']]\n",
        "DailySummaryPredictionData = DailySummaryPredictionData[:-1]\n",
        "DailySummaryPredictionData = DailySummaryPredictionData[n_train_rows:]# Filter only the testing days\n",
        "DailySummaryPredictionData = DailySummaryPredictionData[25:]\n",
        "DailySummaryPredictionData.shape"
      ],
      "execution_count": 0,
      "outputs": []
    },
    {
      "cell_type": "code",
      "metadata": {
        "id": "zXqQZLLeGrlt",
        "colab_type": "code",
        "colab": {}
      },
      "source": [
        "def predict(modelFilename, predictionsData):\n",
        "\n",
        "    column_name = modelFilename.split('.')[0]\n",
        "    #Step 1 - Create the columns to hold predictions\n",
        "\n",
        "    predictionsData[column_name + \"_High\"] = np.nan\n",
        "    predictionsData[column_name + \"_Low\"] = np.nan\n",
        "    \n",
        "    #Step 2 - load model for prediction   \n",
        "    loaded_model = model\n",
        "    \n",
        "    #Step39 - Generate the prediction   \n",
        "    ypred = loaded_model.predict(X_val)\n",
        "    ypred_rescaled = y_scaler.inverse_transform(ypred)\n",
        "\n",
        "    #Step 10 - Copy the prediction values to the correspondent day in the predictionData\n",
        "    predictionsData[column_name + \"_High\"] = ypred_rescaled[:,0]\n",
        "    predictionsData[column_name + \"_Low\"] = ypred_rescaled[:,1]\n",
        "    \n",
        "    return(predictionsData)"
      ],
      "execution_count": 0,
      "outputs": []
    },
    {
      "cell_type": "code",
      "metadata": {
        "id": "2fU5aP2blsO5",
        "colab_type": "code",
        "colab": {}
      },
      "source": [
        "modelfilePath = saveDrivePath + '/' + model_file"
      ],
      "execution_count": 0,
      "outputs": []
    },
    {
      "cell_type": "code",
      "metadata": {
        "id": "buQxqlFRGrly",
        "colab_type": "code",
        "colab": {}
      },
      "source": [
        "predict(modelfilePath, DailySummaryPredictionData)"
      ],
      "execution_count": 0,
      "outputs": []
    },
    {
      "cell_type": "code",
      "metadata": {
        "id": "s49G2-L4wTOK",
        "colab_type": "code",
        "colab": {}
      },
      "source": [
        "prediction_file = 'predictions_' +  model_file.split('.')[0] + '.csv'\n",
        "prediction_filePath = '/content/' + prediction_file\n",
        "DailySummaryPredictionData.to_csv(prediction_file)"
      ],
      "execution_count": 0,
      "outputs": []
    },
    {
      "cell_type": "code",
      "metadata": {
        "id": "VgoSnGyswuJV",
        "colab_type": "code",
        "colab": {}
      },
      "source": [
        "destinantionDir = '/content/drive/My Drive/Capstone/Approach/Step3DailySummary/Predictions_csv'\n",
        "oscmd = \"mv \"+'\"'+prediction_filePath+'\"' + \" \" + '\"'+destinantionDir+'\"' \n",
        "oscmd"
      ],
      "execution_count": 0,
      "outputs": []
    },
    {
      "cell_type": "code",
      "metadata": {
        "id": "XSHWElxsIWJV",
        "colab_type": "code",
        "colab": {}
      },
      "source": [
        "os.system(oscmd)"
      ],
      "execution_count": 0,
      "outputs": []
    },
    {
      "cell_type": "code",
      "metadata": {
        "id": "ud9T-Pf5Ia0E",
        "colab_type": "code",
        "colab": {}
      },
      "source": [
        ""
      ],
      "execution_count": 0,
      "outputs": []
    }
  ]
}