{
  "nbformat": 4,
  "nbformat_minor": 0,
  "metadata": {
    "colab": {
      "name": "Benchmark_model.ipynb",
      "provenance": [],
      "collapsed_sections": [],
      "machine_shape": "hm",
      "authorship_tag": "ABX9TyNfbBDKFIuDQNfvNhgNf9Xk",
      "include_colab_link": true
    },
    "kernelspec": {
      "name": "python3",
      "display_name": "Python 3"
    },
    "accelerator": "TPU"
  },
  "cells": [
    {
      "cell_type": "markdown",
      "metadata": {
        "id": "view-in-github",
        "colab_type": "text"
      },
      "source": [
        "<a href=\"https://colab.research.google.com/github/kmaciver/Ryerson_Capstone/blob/master/Approach/Step1-Benchmark/Benchmark_model.ipynb\" target=\"_parent\"><img src=\"https://colab.research.google.com/assets/colab-badge.svg\" alt=\"Open In Colab\"/></a>"
      ]
    },
    {
      "cell_type": "code",
      "metadata": {
        "id": "RuAdXJo28V0V",
        "colab_type": "code",
        "colab": {}
      },
      "source": [
        "%matplotlib inline\n",
        "import matplotlib.pyplot as plt\n",
        "import numpy as np\n",
        "import pandas as pd\n",
        "import os"
      ],
      "execution_count": 0,
      "outputs": []
    },
    {
      "cell_type": "code",
      "metadata": {
        "id": "ILQYhC3MjFUg",
        "colab_type": "code",
        "colab": {}
      },
      "source": [
        "from google.colab import files\n",
        "\n",
        "uploaded = files.upload()"
      ],
      "execution_count": 0,
      "outputs": []
    },
    {
      "cell_type": "markdown",
      "metadata": {
        "id": "NsZYf1YWjZl5",
        "colab_type": "text"
      },
      "source": [
        "# Benchmark Model for Day Trade Prediction\n",
        "\n",
        "Reading the Day Trade Data\n"
      ]
    },
    {
      "cell_type": "code",
      "metadata": {
        "id": "J2uKGaHnjHeR",
        "colab_type": "code",
        "colab": {}
      },
      "source": [
        "DayTrade = pd.read_csv('Day_trade_data.csv', index_col='Time')\n",
        "DayTrade = DayTrade.drop([DayTrade.columns[0]] ,  axis='columns')\n",
        "DayTrade.head()"
      ],
      "execution_count": 0,
      "outputs": []
    },
    {
      "cell_type": "markdown",
      "metadata": {
        "id": "l55kC0STjhz3",
        "colab_type": "text"
      },
      "source": [
        "Dropping Volume Currency as discussed in the Feature Selection phase."
      ]
    },
    {
      "cell_type": "code",
      "metadata": {
        "id": "icvVNO8PjWLL",
        "colab_type": "code",
        "colab": {}
      },
      "source": [
        "DayTrade = DayTrade.drop(columns='Volume_.Currency.')"
      ],
      "execution_count": 0,
      "outputs": []
    },
    {
      "cell_type": "markdown",
      "metadata": {
        "id": "969SNnHKjpyQ",
        "colab_type": "text"
      },
      "source": [
        "## Modifying Day Trade data into a supervised problem \n",
        "\n",
        "The objective of the model is to predict 10 minutes ahead of the current timestep. \n",
        "The Day Trade data contains the minute to minute data for a total of 1735 days. The analysis must be limited within each day."
      ]
    },
    {
      "cell_type": "code",
      "metadata": {
        "id": "7r-lAgeOjmV-",
        "colab_type": "code",
        "colab": {}
      },
      "source": [
        "\n",
        "days_in_data = list(dict.fromkeys(DayTrade[\"date\"].values))\n",
        "days_in_data = list(days_in_data)\n",
        "len(days_in_data)"
      ],
      "execution_count": 0,
      "outputs": []
    },
    {
      "cell_type": "markdown",
      "metadata": {
        "id": "9j-P_Y6QkEuC",
        "colab_type": "text"
      },
      "source": [
        "In order to compare results with other models a 90% split is going to be made "
      ]
    },
    {
      "cell_type": "code",
      "metadata": {
        "id": "zt-OeFtHj7oZ",
        "colab_type": "code",
        "colab": {}
      },
      "source": [
        "split = 0.9\n",
        "training_days = days_in_data[:int(split*len(days_in_data))]\n",
        "testing_days = days_in_data[int(split*len(days_in_data)):]\n",
        "print(len(training_days),len(testing_days))"
      ],
      "execution_count": 0,
      "outputs": []
    },
    {
      "cell_type": "markdown",
      "metadata": {
        "id": "4dyBwj5jkKZh",
        "colab_type": "text"
      },
      "source": [
        "For each prediction the Algorithm will use the last 25 timesteps of the current day"
      ]
    },
    {
      "cell_type": "code",
      "metadata": {
        "id": "oZyavnfgkHVN",
        "colab_type": "code",
        "colab": {}
      },
      "source": [
        "# Transforming data into a supervised problem\n",
        "\n",
        "def transform_data(data, days):\n",
        "    '''Objective: Transform the data in order for each row to have the current time-step and previous 25 time-step data\n",
        "       Input: data-> Dataframe to be transformed\n",
        "              days-> list of days in data to be transformed\n",
        "       Output X_train, Y_train if days are training_days or X_test, Y_test if days are testing days'''\n",
        "    \n",
        "    # Create a dummy Dataframes\n",
        "\n",
        "    # Step Generate dummy Dataframes columns_names\n",
        "    training_columns = list(data.drop(columns='date').columns)\n",
        "    for column in data.drop(columns='date').columns:\n",
        "        for i in range(25,0,-1):\n",
        "            training_columns.append(str(column +' t-'+str(i)))\n",
        "\n",
        "    X_data = pd.DataFrame(columns=training_columns)\n",
        "    Y_data = pd.DataFrame(columns=['Weighted_Price t+10'])\n",
        "\n",
        "    # Forecast Period\n",
        "    shift_step = 10 #minutes\n",
        "    \n",
        "    for day in days:\n",
        "        # Filtering data for each day\n",
        "        df = data[data['date'].values==day]\n",
        "        df = df.drop(columns='date')\n",
        "        # Performing stationarization\n",
        "        differenced =df.diff(1)\n",
        "        differenced = differenced.iloc[1:]\n",
        "\n",
        "        train_day_data = differenced.copy()\n",
        "\n",
        "        #Shifting previous time step information to same row\n",
        "        for column in training_columns:\n",
        "            for i in range(25,0,-1):\n",
        "                train_day_data[column +' t-'+str(i)] = train_day_data[column].shift(i)\n",
        "\n",
        "        label_day_data = pd.DataFrame(data = train_day_data['Weighted_Price'].shift(-shift_step).values, columns = ['Weighted_Price t+10'], index=train_day_data.index)\n",
        "\n",
        "\n",
        "        # Now there are NaN values in the 25 first rows of the train_day_data and on the 10 last rows of the label_day_data\n",
        "\n",
        "        train_day_data_clean = train_day_data.iloc[25:-10,]\n",
        "        label_day_data_clean = label_day_data.iloc[25:-10,]\n",
        "\n",
        "        #test = pd.concat([train_day_data_clean,train_day_data_clean], axis=0)\n",
        "\n",
        "        X_data = pd.concat([X_data,train_day_data_clean], axis=0, sort=False)\n",
        "        Y_data = pd.concat([Y_data,label_day_data_clean], axis=0, sort=False)\n",
        "    \n",
        "    return(X_data, Y_data)"
      ],
      "execution_count": 0,
      "outputs": []
    },
    {
      "cell_type": "code",
      "metadata": {
        "id": "j0DskB-hkNa7",
        "colab_type": "code",
        "colab": {}
      },
      "source": [
        "X_train, Y_train = transform_data(DayTrade, training_days)\n",
        "\n",
        "X_train.shape, Y_train.shape"
      ],
      "execution_count": 0,
      "outputs": []
    },
    {
      "cell_type": "code",
      "metadata": {
        "id": "wKp6tukkwCni",
        "colab_type": "code",
        "colab": {}
      },
      "source": [
        "X_test, Y_test = transform_data(DayTrade, testing_days)\n",
        "\n",
        "X_test.shape, Y_test.shape"
      ],
      "execution_count": 0,
      "outputs": []
    },
    {
      "cell_type": "code",
      "metadata": {
        "id": "Hh8hS8YZlNA3",
        "colab_type": "code",
        "colab": {}
      },
      "source": [
        "X_test.to_csv(\"X_test\")\n",
        "Y_test.to_csv(\"Y_test\")"
      ],
      "execution_count": 0,
      "outputs": []
    },
    {
      "cell_type": "markdown",
      "metadata": {
        "id": "U_KgskwTmNXD",
        "colab_type": "text"
      },
      "source": [
        "## Applying Regressor to Train data\n",
        "\n",
        "Now that the data has been transformed into a supervised algorithm problem. A regressor model can be trained and evaluated."
      ]
    },
    {
      "cell_type": "code",
      "metadata": {
        "id": "ycHKPDDKKUt1",
        "colab_type": "code",
        "colab": {}
      },
      "source": [
        "from sklearn import linear_model\n",
        "\n",
        "model_linear = linear_model.Lasso(alpha=0.1)\n",
        "model_linear.fit(X_train.values, Y_train.values)"
      ],
      "execution_count": 0,
      "outputs": []
    },
    {
      "cell_type": "code",
      "metadata": {
        "id": "eg2xSmHEvaBd",
        "colab_type": "code",
        "colab": {}
      },
      "source": [
        "from sklearn.svm import SVR\n",
        "\n",
        "model_svr = SVR(C=1.0, epsilon=0.2)\n",
        "model_svr.fit(X_train.values, Y_train.values)"
      ],
      "execution_count": 0,
      "outputs": []
    },
    {
      "cell_type": "code",
      "metadata": {
        "id": "pO4elEUbmH3l",
        "colab_type": "code",
        "colab": {}
      },
      "source": [
        "from sklearn.ensemble import GradientBoostingRegressor\n",
        "\n",
        "# fit random forest model\n",
        "model = GradientBoostingRegressor(n_estimators=100, random_state=1)\n",
        "model.fit(X_train.values, Y_train.values)"
      ],
      "execution_count": 0,
      "outputs": []
    },
    {
      "cell_type": "code",
      "metadata": {
        "id": "aKFq4yHamXHa",
        "colab_type": "code",
        "colab": {}
      },
      "source": [
        "import pickle\n",
        "filename = \"GBR_model.sav\"\n",
        "model = pickle.load(open(filename, 'rb'))"
      ],
      "execution_count": 0,
      "outputs": []
    },
    {
      "cell_type": "code",
      "metadata": {
        "id": "FO8CalIDLXnR",
        "colab_type": "code",
        "colab": {}
      },
      "source": [
        "from sklearn.metrics import mean_squared_error \n",
        "\n",
        "Y_pred =  model_linear.predict(X_test)\n",
        "mse_benchmark = mean_squared_error(Y_pred,Y_test) \n",
        "mse_benchmark"
      ],
      "execution_count": 0,
      "outputs": []
    },
    {
      "cell_type": "markdown",
      "metadata": {
        "id": "3nvI7lIKVFFY",
        "colab_type": "text"
      },
      "source": [
        "Saving trained model's weights."
      ]
    },
    {
      "cell_type": "code",
      "metadata": {
        "id": "LWyFwKbFRzco",
        "colab_type": "code",
        "colab": {}
      },
      "source": [
        "import pickle\n",
        "\n",
        "filename = \"Lasso_model.sav\"\n",
        "pickle.dump(model_linear, open(filename, \"wb\"))"
      ],
      "execution_count": 0,
      "outputs": []
    },
    {
      "cell_type": "code",
      "metadata": {
        "id": "l98sN9aSZcub",
        "colab_type": "code",
        "colab": {}
      },
      "source": [
        "#loaded_model = pickle.load(open(filename, 'rb'))\n",
        "#Y_pred2 = loaded_model.predict(X_test)\n",
        "#mse_benchmark2 = mean_squared_error(Y_pred2,Y_test) \n",
        "#mse_benchmark2"
      ],
      "execution_count": 0,
      "outputs": []
    },
    {
      "cell_type": "markdown",
      "metadata": {
        "id": "mmeUML71WPCf",
        "colab_type": "text"
      },
      "source": [
        "## Restoring prediction values to original form "
      ]
    },
    {
      "cell_type": "markdown",
      "metadata": {
        "id": "bs6WwT33Dj-k",
        "colab_type": "text"
      },
      "source": [
        "Creating a Dataframe with all the timesteps for the testing days"
      ]
    },
    {
      "cell_type": "code",
      "metadata": {
        "id": "QuHJuGvHW_S7",
        "colab_type": "code",
        "colab": {}
      },
      "source": [
        "Validation_data = DayTrade[DayTrade['date'].isin(testing_days)]\n",
        "Validation_data_label = Validation_data.iloc[:,5:7]\n",
        "Validation_data_label"
      ],
      "execution_count": 0,
      "outputs": []
    },
    {
      "cell_type": "code",
      "metadata": {
        "id": "VOzV2XdxyEqe",
        "colab_type": "code",
        "colab": {}
      },
      "source": [
        "Validation_data_label.to_csv(\"Validation_data_label.csv\")"
      ],
      "execution_count": 0,
      "outputs": []
    },
    {
      "cell_type": "markdown",
      "metadata": {
        "id": "tw9zTrztcHTV",
        "colab_type": "text"
      },
      "source": [
        "The algorithm trained uses the last 25 time-steps of the stationarized data from each day, to predict 10 minutes in the future. Therefore, from the 1440 minutes of each day the algorithm predicts the last 1404 minutes. "
      ]
    },
    {
      "cell_type": "markdown",
      "metadata": {
        "id": "dNVhKlhgDufM",
        "colab_type": "text"
      },
      "source": [
        "During transformations the indexes where altered. So an array with the correct indexes is created"
      ]
    },
    {
      "cell_type": "code",
      "metadata": {
        "id": "J4586FQkoT7N",
        "colab_type": "code",
        "colab": {}
      },
      "source": [
        "from datetime import datetime\n",
        "from datetime import timedelta \n",
        "\n",
        "prediction_indexes = []\n",
        "for days in testing_days:\n",
        "  for i in range(1404):\n",
        "    datetime_str= str(days+\" 00:36:00\")\n",
        "    datetime_object = datetime.strptime(datetime_str, '%Y-%m-%d %H:%M:%S')\n",
        "    prediction_indexes.append(str(datetime_object + timedelta(minutes=i)))\n",
        "\n",
        "len(prediction_indexes)"
      ],
      "execution_count": 0,
      "outputs": []
    },
    {
      "cell_type": "markdown",
      "metadata": {
        "id": "Ko1XvT1qD532",
        "colab_type": "text"
      },
      "source": [
        "Transforming the predictions into a Dataframe with the correct timestep as index"
      ]
    },
    {
      "cell_type": "code",
      "metadata": {
        "id": "r7iJQ2ASbO2G",
        "colab_type": "code",
        "colab": {}
      },
      "source": [
        "predicted_dataframe = Y_test.copy()\n",
        "predicted_dataframe['Prediction'] = Y_pred\n",
        "predicted_dataframe.index = prediction_indexes\n",
        "predicted_dataframe"
      ],
      "execution_count": 0,
      "outputs": []
    },
    {
      "cell_type": "code",
      "metadata": {
        "id": "jSs1Wc7Rg00m",
        "colab_type": "code",
        "colab": {}
      },
      "source": [
        "predicted_dataframe.to_csv(\"predicted_dataframe.csv\")"
      ],
      "execution_count": 0,
      "outputs": []
    },
    {
      "cell_type": "markdown",
      "metadata": {
        "id": "_PIlIWLnECmw",
        "colab_type": "text"
      },
      "source": [
        "Creating a new Dataframe that will restore the prediction values performing the inverse of the diff function applied for stationarizing the data"
      ]
    },
    {
      "cell_type": "code",
      "metadata": {
        "id": "R9D9pkfh5VdW",
        "colab_type": "code",
        "colab": {}
      },
      "source": [
        "restored = Validation_data_label.merge(predicted_dataframe, left_index=True, right_index=True, how='left')"
      ],
      "execution_count": 0,
      "outputs": []
    },
    {
      "cell_type": "code",
      "metadata": {
        "id": "ggi43M2oVMpX",
        "colab_type": "code",
        "colab": {}
      },
      "source": [
        "restored['Prediction_restored'] = restored['Prediction']\n",
        "restored['Prediction_restored'].iloc[:] = np.nan\n",
        "for i in range(0,len(testing_days)):\n",
        "  idx_start = (1440 * i) + 35\n",
        "  pos = idx_start + 1\n",
        "  restored['Prediction_restored'].iloc[pos] = restored['Weighted_Price'].iloc[idx_start] + restored['Prediction'].iloc[pos]\n",
        "  k_old = 0\n",
        "  for k in range(1,1404): #since there are 1404 minutes predicted each day but the first one was already restored\n",
        "    restored['Prediction_restored'].iloc[pos+k] = restored['Prediction_restored'].iloc[pos+k_old] + restored['Prediction'].iloc[pos+k]\n",
        "    k_old = k"
      ],
      "execution_count": 0,
      "outputs": []
    },
    {
      "cell_type": "code",
      "metadata": {
        "id": "61yNzXRL6Yag",
        "colab_type": "code",
        "colab": {}
      },
      "source": [
        "restored.to_csv(\"restored_prediciton_lasso.csv\")"
      ],
      "execution_count": 0,
      "outputs": []
    },
    {
      "cell_type": "code",
      "metadata": {
        "id": "BnX7F6zCFA4K",
        "colab_type": "code",
        "colab": {}
      },
      "source": [
        "mse_restored = mean_squared_error(restored.dropna()['Prediction_restored'].values,restored.dropna()['Weighted_Price'].values)\n",
        "mse_restored"
      ],
      "execution_count": 0,
      "outputs": []
    },
    {
      "cell_type": "code",
      "metadata": {
        "id": "z_cf8B5qpqr4",
        "colab_type": "code",
        "colab": {}
      },
      "source": [
        ""
      ],
      "execution_count": 0,
      "outputs": []
    }
  ]
}