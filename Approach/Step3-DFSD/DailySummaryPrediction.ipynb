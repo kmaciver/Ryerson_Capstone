{
  "nbformat": 4,
  "nbformat_minor": 0,
  "metadata": {
    "kernelspec": {
      "display_name": "Python 3",
      "language": "python",
      "name": "python3"
    },
    "language_info": {
      "codemirror_mode": {
        "name": "ipython",
        "version": 3
      },
      "file_extension": ".py",
      "mimetype": "text/x-python",
      "name": "python",
      "nbconvert_exporter": "python",
      "pygments_lexer": "ipython3",
      "version": "3.6.8"
    },
    "colab": {
      "name": "DailySummaryPrediction.ipynb",
      "provenance": [],
      "collapsed_sections": [],
      "include_colab_link": true
    }
  },
  "cells": [
    {
      "cell_type": "markdown",
      "metadata": {
        "id": "view-in-github",
        "colab_type": "text"
      },
      "source": [
        "<a href=\"https://colab.research.google.com/github/kmaciver/Ryerson_Capstone/blob/master/Approach/Step3-DFSD/DailySummaryPrediction.ipynb\" target=\"_parent\"><img src=\"https://colab.research.google.com/assets/colab-badge.svg\" alt=\"Open In Colab\"/></a>"
      ]
    },
    {
      "cell_type": "code",
      "metadata": {
        "id": "whpMCjGYGwlP",
        "colab_type": "code",
        "colab": {}
      },
      "source": [
        "from google.colab import drive\n",
        "drive.mount('/content/drive')"
      ],
      "execution_count": 0,
      "outputs": []
    },
    {
      "cell_type": "code",
      "metadata": {
        "id": "4k_TOa4YGrjz",
        "colab_type": "code",
        "colab": {}
      },
      "source": [
        "%matplotlib inline\n",
        "import matplotlib.pyplot as plt\n",
        "import tensorflow as tf\n",
        "import numpy as np\n",
        "import pandas as pd\n",
        "import os\n",
        "from sklearn.preprocessing import MinMaxScaler, StandardScaler"
      ],
      "execution_count": 0,
      "outputs": []
    },
    {
      "cell_type": "code",
      "metadata": {
        "id": "mdZTX6eHGrj4",
        "colab_type": "code",
        "colab": {}
      },
      "source": [
        "from tensorflow.python.keras.models import Sequential\n",
        "from tensorflow.python.keras.layers import Input, Dense, GRU, Embedding, LSTM, TimeDistributed, Lambda, Dropout\n",
        "from tensorflow.python.keras.optimizers import RMSprop, Adam\n",
        "from tensorflow.python.keras.callbacks import EarlyStopping, ModelCheckpoint, TensorBoard, ReduceLROnPlateau\n",
        "from tensorflow.python.keras import backend as K\n",
        "from tensorflow.python.keras import losses\n",
        "import warnings\n",
        "warnings.filterwarnings('ignore')\n",
        "import random as rand\n",
        "from random import randint\n",
        "from numpy.random import seed\n",
        "seed(1)\n",
        "from tensorflow import set_random_seed\n",
        "set_random_seed(2)"
      ],
      "execution_count": 0,
      "outputs": []
    },
    {
      "cell_type": "code",
      "metadata": {
        "id": "ONcAVRTrGrj_",
        "colab_type": "code",
        "outputId": "9907d577-c39f-4ab8-a952-e4f82868cbed",
        "colab": {
          "base_uri": "https://localhost:8080/",
          "height": 339
        }
      },
      "source": [
        "file_path = \"/content/drive/My Drive/Capstone/Data Exploration/DSFD.csv\"\n",
        "DaySummary = pd.read_csv(file_path, index_col='date')\n",
        "DaySummary = DaySummary.drop([DaySummary.columns[0]] ,  axis='columns')\n",
        "DaySummary.head()"
      ],
      "execution_count": 4,
      "outputs": [
        {
          "output_type": "execute_result",
          "data": {
            "text/html": [
              "<div>\n",
              "<style scoped>\n",
              "    .dataframe tbody tr th:only-of-type {\n",
              "        vertical-align: middle;\n",
              "    }\n",
              "\n",
              "    .dataframe tbody tr th {\n",
              "        vertical-align: top;\n",
              "    }\n",
              "\n",
              "    .dataframe thead th {\n",
              "        text-align: right;\n",
              "    }\n",
              "</style>\n",
              "<table border=\"1\" class=\"dataframe\">\n",
              "  <thead>\n",
              "    <tr style=\"text-align: right;\">\n",
              "      <th></th>\n",
              "      <th>Open</th>\n",
              "      <th>High</th>\n",
              "      <th>Low</th>\n",
              "      <th>Close</th>\n",
              "      <th>Volume_BTC</th>\n",
              "      <th>Volume_Currency</th>\n",
              "      <th>Weighted_Price</th>\n",
              "      <th>RSI</th>\n",
              "      <th>MACD_sig</th>\n",
              "      <th>slow_stoch</th>\n",
              "      <th>Open_RoC</th>\n",
              "      <th>High_RoC</th>\n",
              "      <th>Low_RoC</th>\n",
              "      <th>Close_RoC</th>\n",
              "      <th>Weighted_Price_RoC</th>\n",
              "    </tr>\n",
              "    <tr>\n",
              "      <th>date</th>\n",
              "      <th></th>\n",
              "      <th></th>\n",
              "      <th></th>\n",
              "      <th></th>\n",
              "      <th></th>\n",
              "      <th></th>\n",
              "      <th></th>\n",
              "      <th></th>\n",
              "      <th></th>\n",
              "      <th></th>\n",
              "      <th></th>\n",
              "      <th></th>\n",
              "      <th></th>\n",
              "      <th></th>\n",
              "      <th></th>\n",
              "    </tr>\n",
              "  </thead>\n",
              "  <tbody>\n",
              "    <tr>\n",
              "      <th>2013-04-03</th>\n",
              "      <td>116.0</td>\n",
              "      <td>158.41</td>\n",
              "      <td>110.0</td>\n",
              "      <td>133.78</td>\n",
              "      <td>16468.610754</td>\n",
              "      <td>2.126462e+06</td>\n",
              "      <td>130.08716</td>\n",
              "      <td>43.384086</td>\n",
              "      <td>0.733919</td>\n",
              "      <td>0.271676</td>\n",
              "      <td>0.0</td>\n",
              "      <td>0.0</td>\n",
              "      <td>0.0</td>\n",
              "      <td>0.0</td>\n",
              "      <td>0.0</td>\n",
              "    </tr>\n",
              "    <tr>\n",
              "      <th>2013-04-04</th>\n",
              "      <td>116.0</td>\n",
              "      <td>158.41</td>\n",
              "      <td>110.0</td>\n",
              "      <td>133.78</td>\n",
              "      <td>16468.610754</td>\n",
              "      <td>2.126462e+06</td>\n",
              "      <td>130.08716</td>\n",
              "      <td>43.384086</td>\n",
              "      <td>0.733919</td>\n",
              "      <td>0.271676</td>\n",
              "      <td>0.0</td>\n",
              "      <td>0.0</td>\n",
              "      <td>0.0</td>\n",
              "      <td>0.0</td>\n",
              "      <td>0.0</td>\n",
              "    </tr>\n",
              "    <tr>\n",
              "      <th>2013-04-05</th>\n",
              "      <td>116.0</td>\n",
              "      <td>158.41</td>\n",
              "      <td>110.0</td>\n",
              "      <td>133.78</td>\n",
              "      <td>16468.610754</td>\n",
              "      <td>2.126462e+06</td>\n",
              "      <td>130.08716</td>\n",
              "      <td>43.384086</td>\n",
              "      <td>0.733919</td>\n",
              "      <td>0.271676</td>\n",
              "      <td>0.0</td>\n",
              "      <td>0.0</td>\n",
              "      <td>0.0</td>\n",
              "      <td>0.0</td>\n",
              "      <td>0.0</td>\n",
              "    </tr>\n",
              "    <tr>\n",
              "      <th>2013-04-06</th>\n",
              "      <td>116.0</td>\n",
              "      <td>158.41</td>\n",
              "      <td>110.0</td>\n",
              "      <td>133.78</td>\n",
              "      <td>16468.610754</td>\n",
              "      <td>2.126462e+06</td>\n",
              "      <td>130.08716</td>\n",
              "      <td>43.384086</td>\n",
              "      <td>0.733919</td>\n",
              "      <td>0.271676</td>\n",
              "      <td>0.0</td>\n",
              "      <td>0.0</td>\n",
              "      <td>0.0</td>\n",
              "      <td>0.0</td>\n",
              "      <td>0.0</td>\n",
              "    </tr>\n",
              "    <tr>\n",
              "      <th>2013-04-07</th>\n",
              "      <td>116.0</td>\n",
              "      <td>158.41</td>\n",
              "      <td>110.0</td>\n",
              "      <td>133.78</td>\n",
              "      <td>16468.610754</td>\n",
              "      <td>2.126462e+06</td>\n",
              "      <td>130.08716</td>\n",
              "      <td>43.384086</td>\n",
              "      <td>0.733919</td>\n",
              "      <td>0.271676</td>\n",
              "      <td>0.0</td>\n",
              "      <td>0.0</td>\n",
              "      <td>0.0</td>\n",
              "      <td>0.0</td>\n",
              "      <td>0.0</td>\n",
              "    </tr>\n",
              "  </tbody>\n",
              "</table>\n",
              "</div>"
            ],
            "text/plain": [
              "             Open    High    Low  ...  Low_RoC  Close_RoC  Weighted_Price_RoC\n",
              "date                              ...                                        \n",
              "2013-04-03  116.0  158.41  110.0  ...      0.0        0.0                 0.0\n",
              "2013-04-04  116.0  158.41  110.0  ...      0.0        0.0                 0.0\n",
              "2013-04-05  116.0  158.41  110.0  ...      0.0        0.0                 0.0\n",
              "2013-04-06  116.0  158.41  110.0  ...      0.0        0.0                 0.0\n",
              "2013-04-07  116.0  158.41  110.0  ...      0.0        0.0                 0.0\n",
              "\n",
              "[5 rows x 15 columns]"
            ]
          },
          "metadata": {
            "tags": []
          },
          "execution_count": 4
        }
      ]
    },
    {
      "cell_type": "markdown",
      "metadata": {
        "id": "L9NE5M0EGrkE",
        "colab_type": "text"
      },
      "source": [
        "Dropping Volume Currency and Close_RoC as discussed in the Feature Selection phase"
      ]
    },
    {
      "cell_type": "code",
      "metadata": {
        "id": "tCLXWQPUGrkF",
        "colab_type": "code",
        "colab": {}
      },
      "source": [
        "DaySummary = DaySummary.drop(columns=['Volume_Currency','Close_RoC'])"
      ],
      "execution_count": 0,
      "outputs": []
    },
    {
      "cell_type": "code",
      "metadata": {
        "id": "iPCaUTrqGrkJ",
        "colab_type": "code",
        "outputId": "e5aefa9d-f736-4909-ff55-591f21d4ef82",
        "colab": {
          "base_uri": "https://localhost:8080/",
          "height": 233
        }
      },
      "source": [
        "#We need create a target data, which is basically a copy of the data that will be later shifted\n",
        "target_data = DaySummary.copy()\n",
        "target_data = target_data.loc[:,['High','Low']]\n",
        "target_data.tail()"
      ],
      "execution_count": 6,
      "outputs": [
        {
          "output_type": "execute_result",
          "data": {
            "text/html": [
              "<div>\n",
              "<style scoped>\n",
              "    .dataframe tbody tr th:only-of-type {\n",
              "        vertical-align: middle;\n",
              "    }\n",
              "\n",
              "    .dataframe tbody tr th {\n",
              "        vertical-align: top;\n",
              "    }\n",
              "\n",
              "    .dataframe thead th {\n",
              "        text-align: right;\n",
              "    }\n",
              "</style>\n",
              "<table border=\"1\" class=\"dataframe\">\n",
              "  <thead>\n",
              "    <tr style=\"text-align: right;\">\n",
              "      <th></th>\n",
              "      <th>High</th>\n",
              "      <th>Low</th>\n",
              "    </tr>\n",
              "    <tr>\n",
              "      <th>date</th>\n",
              "      <th></th>\n",
              "      <th></th>\n",
              "    </tr>\n",
              "  </thead>\n",
              "  <tbody>\n",
              "    <tr>\n",
              "      <th>2019-08-07</th>\n",
              "      <td>12145.42</td>\n",
              "      <td>11388.01</td>\n",
              "    </tr>\n",
              "    <tr>\n",
              "      <th>2019-08-08</th>\n",
              "      <td>12061.10</td>\n",
              "      <td>11450.93</td>\n",
              "    </tr>\n",
              "    <tr>\n",
              "      <th>2019-08-09</th>\n",
              "      <td>12040.00</td>\n",
              "      <td>11650.00</td>\n",
              "    </tr>\n",
              "    <tr>\n",
              "      <th>2019-08-10</th>\n",
              "      <td>11976.68</td>\n",
              "      <td>11200.00</td>\n",
              "    </tr>\n",
              "    <tr>\n",
              "      <th>2019-08-11</th>\n",
              "      <td>11589.73</td>\n",
              "      <td>11080.37</td>\n",
              "    </tr>\n",
              "  </tbody>\n",
              "</table>\n",
              "</div>"
            ],
            "text/plain": [
              "                High       Low\n",
              "date                          \n",
              "2019-08-07  12145.42  11388.01\n",
              "2019-08-08  12061.10  11450.93\n",
              "2019-08-09  12040.00  11650.00\n",
              "2019-08-10  11976.68  11200.00\n",
              "2019-08-11  11589.73  11080.37"
            ]
          },
          "metadata": {
            "tags": []
          },
          "execution_count": 6
        }
      ]
    },
    {
      "cell_type": "markdown",
      "metadata": {
        "id": "UqhMK-RiGrkN",
        "colab_type": "text"
      },
      "source": [
        "There are 2322 days between the initial day 2013-04-03 of the data up to the last day 2019-08-11"
      ]
    },
    {
      "cell_type": "code",
      "metadata": {
        "id": "noNqCIG4GrkO",
        "colab_type": "code",
        "outputId": "b4efda61-10ef-4b7e-c0ad-232a252e5a11",
        "colab": {
          "base_uri": "https://localhost:8080/",
          "height": 35
        }
      },
      "source": [
        "DaySummary.shape"
      ],
      "execution_count": 7,
      "outputs": [
        {
          "output_type": "execute_result",
          "data": {
            "text/plain": [
              "(2322, 13)"
            ]
          },
          "metadata": {
            "tags": []
          },
          "execution_count": 7
        }
      ]
    },
    {
      "cell_type": "markdown",
      "metadata": {
        "id": "MXm9QXobGrkU",
        "colab_type": "text"
      },
      "source": [
        "The objective of the model is to predict the High and Low values of the following day"
      ]
    },
    {
      "cell_type": "code",
      "metadata": {
        "id": "pBDjRUeJGrkV",
        "colab_type": "code",
        "colab": {}
      },
      "source": [
        "# Predict 1 day in the future\n",
        "shift_steps = 1\n",
        "\n",
        "# Now that the target_data was created we need to shift the data so that the target values of 1 day later aling with our\n",
        "# input data\n",
        "\n",
        "target_data = target_data.shift(-shift_steps)\n"
      ],
      "execution_count": 0,
      "outputs": []
    },
    {
      "cell_type": "markdown",
      "metadata": {
        "id": "0Rpz6pkEGrkY",
        "colab_type": "text"
      },
      "source": [
        "Here we double check that because we shifted the target values now we have NaN values at the end"
      ]
    },
    {
      "cell_type": "code",
      "metadata": {
        "id": "KcySrJ9HGrkZ",
        "colab_type": "code",
        "outputId": "30f2ef70-9b21-40f9-8a26-bdb56614f8f9",
        "colab": {
          "base_uri": "https://localhost:8080/",
          "height": 233
        }
      },
      "source": [
        "target_data.tail()"
      ],
      "execution_count": 9,
      "outputs": [
        {
          "output_type": "execute_result",
          "data": {
            "text/html": [
              "<div>\n",
              "<style scoped>\n",
              "    .dataframe tbody tr th:only-of-type {\n",
              "        vertical-align: middle;\n",
              "    }\n",
              "\n",
              "    .dataframe tbody tr th {\n",
              "        vertical-align: top;\n",
              "    }\n",
              "\n",
              "    .dataframe thead th {\n",
              "        text-align: right;\n",
              "    }\n",
              "</style>\n",
              "<table border=\"1\" class=\"dataframe\">\n",
              "  <thead>\n",
              "    <tr style=\"text-align: right;\">\n",
              "      <th></th>\n",
              "      <th>High</th>\n",
              "      <th>Low</th>\n",
              "    </tr>\n",
              "    <tr>\n",
              "      <th>date</th>\n",
              "      <th></th>\n",
              "      <th></th>\n",
              "    </tr>\n",
              "  </thead>\n",
              "  <tbody>\n",
              "    <tr>\n",
              "      <th>2019-08-07</th>\n",
              "      <td>12061.10</td>\n",
              "      <td>11450.93</td>\n",
              "    </tr>\n",
              "    <tr>\n",
              "      <th>2019-08-08</th>\n",
              "      <td>12040.00</td>\n",
              "      <td>11650.00</td>\n",
              "    </tr>\n",
              "    <tr>\n",
              "      <th>2019-08-09</th>\n",
              "      <td>11976.68</td>\n",
              "      <td>11200.00</td>\n",
              "    </tr>\n",
              "    <tr>\n",
              "      <th>2019-08-10</th>\n",
              "      <td>11589.73</td>\n",
              "      <td>11080.37</td>\n",
              "    </tr>\n",
              "    <tr>\n",
              "      <th>2019-08-11</th>\n",
              "      <td>NaN</td>\n",
              "      <td>NaN</td>\n",
              "    </tr>\n",
              "  </tbody>\n",
              "</table>\n",
              "</div>"
            ],
            "text/plain": [
              "                High       Low\n",
              "date                          \n",
              "2019-08-07  12061.10  11450.93\n",
              "2019-08-08  12040.00  11650.00\n",
              "2019-08-09  11976.68  11200.00\n",
              "2019-08-10  11589.73  11080.37\n",
              "2019-08-11       NaN       NaN"
            ]
          },
          "metadata": {
            "tags": []
          },
          "execution_count": 9
        }
      ]
    },
    {
      "cell_type": "code",
      "metadata": {
        "id": "L-2C2lJuGrkg",
        "colab_type": "code",
        "colab": {}
      },
      "source": [
        "# Now we need to remove the rows with NaN values for the target data thus needing to exclude also \n",
        "# 1 line of the DaySummary data\n",
        "\n",
        "DaySummary_clean = DaySummary.iloc[:-1,:]\n",
        "target_data_clean = target_data.iloc[:-1,:]"
      ],
      "execution_count": 0,
      "outputs": []
    },
    {
      "cell_type": "code",
      "metadata": {
        "id": "CZXC3DThGrkl",
        "colab_type": "code",
        "outputId": "57001b81-9285-4dea-b7b1-d690d0911582",
        "colab": {
          "base_uri": "https://localhost:8080/",
          "height": 35
        }
      },
      "source": [
        "DaySummary_clean.shape, target_data_clean.shape"
      ],
      "execution_count": 11,
      "outputs": [
        {
          "output_type": "execute_result",
          "data": {
            "text/plain": [
              "((2321, 13), (2321, 2))"
            ]
          },
          "metadata": {
            "tags": []
          },
          "execution_count": 11
        }
      ]
    },
    {
      "cell_type": "markdown",
      "metadata": {
        "id": "5j8PSX8VGrkp",
        "colab_type": "text"
      },
      "source": [
        "Separating the days between test and training"
      ]
    },
    {
      "cell_type": "code",
      "metadata": {
        "id": "x5GthVebGrkq",
        "colab_type": "code",
        "colab": {}
      },
      "source": [
        "# For the use of Neural Networks we need to convert the data to a numpy array\n",
        "\n",
        "X_data = np.array(DaySummary_clean)\n",
        "Y_data = np.array(target_data_clean)"
      ],
      "execution_count": 0,
      "outputs": []
    },
    {
      "cell_type": "code",
      "metadata": {
        "id": "kH8isLd7Grkt",
        "colab_type": "code",
        "outputId": "3baa3175-1038-4d78-9ed1-a3a1e410bd24",
        "colab": {
          "base_uri": "https://localhost:8080/",
          "height": 35
        }
      },
      "source": [
        "# Using a 90% split of the data for validation\n",
        "\n",
        "train_split = 0.9\n",
        "\n",
        "n_train_rows = int(X_data.shape[0]*train_split)\n",
        "\n",
        "\n",
        "# For validation since we are performing a sliding window it got to be an even number\n",
        "\n",
        "X_train = X_data[0:n_train_rows]\n",
        "X_test = X_data[n_train_rows:]\n",
        "Y_train = Y_data[0:n_train_rows]\n",
        "Y_test = Y_data[n_train_rows:]\n",
        "\n",
        "print(X_train.shape, Y_train.shape, X_test.shape, Y_test.shape)"
      ],
      "execution_count": 13,
      "outputs": [
        {
          "output_type": "stream",
          "text": [
            "(2088, 13) (2088, 2) (233, 13) (233, 2)\n"
          ],
          "name": "stdout"
        }
      ]
    },
    {
      "cell_type": "markdown",
      "metadata": {
        "id": "m_9Jd9mLGrky",
        "colab_type": "text"
      },
      "source": [
        "Now we need to Scale the data to feed it to the Neural Network"
      ]
    },
    {
      "cell_type": "code",
      "metadata": {
        "id": "GcF3lVQfGrk0",
        "colab_type": "code",
        "outputId": "802f956e-92d4-46bf-999e-15a2b4bb8bc6",
        "colab": {
          "base_uri": "https://localhost:8080/",
          "height": 35
        }
      },
      "source": [
        "x_scaler = MinMaxScaler()\n",
        "\n",
        "X_train_scale = x_scaler.fit_transform(X_train)\n",
        "X_test_scale =  x_scaler.transform(X_test)\n",
        "\n",
        "y_scaler = MinMaxScaler()\n",
        "\n",
        "Y_train_scale = y_scaler.fit_transform(Y_train)\n",
        "Y_test_scale =  y_scaler.transform(Y_test)\n",
        "\n",
        "# For keras we data input has to have a (x,y,z) shape\n",
        "\n",
        "X_train_scale = X_train_scale.reshape(1,X_train_scale.shape[0],X_train_scale.shape[1])\n",
        "Y_train_scale = Y_train_scale.reshape(1,Y_train_scale.shape[0],Y_train_scale.shape[1])\n",
        "X_test_scale  = X_test_scale.reshape(1,X_test_scale.shape[0],X_test_scale.shape[1])\n",
        "Y_test_scale  = Y_test_scale.reshape(1,Y_test_scale.shape[0],Y_test_scale.shape[1])\n",
        "\n",
        "print(X_train_scale.shape, Y_train_scale.shape, X_test_scale.shape, Y_test_scale.shape)"
      ],
      "execution_count": 14,
      "outputs": [
        {
          "output_type": "stream",
          "text": [
            "(1, 2088, 13) (1, 2088, 2) (1, 233, 13) (1, 233, 2)\n"
          ],
          "name": "stdout"
        }
      ]
    },
    {
      "cell_type": "code",
      "metadata": {
        "id": "WHsd-qk6Grk4",
        "colab_type": "code",
        "colab": {}
      },
      "source": [
        "def batch_reshape(sequence_length, X_train_scale, Y_train_scale, num_x_signal, num_y_signal):\n",
        "    \"\"\"\n",
        "    Generator function for creating random batches of training-data.\n",
        "    \"\"\"\n",
        "    batch_size = X_train_scale.shape[1] // sequence_length\n",
        "   \n",
        "    # Allocate a new array for the batch of input-signals.\n",
        "    x_shape = (batch_size, sequence_length, num_x_signal)\n",
        "    x_batch = np.zeros(shape=x_shape, dtype=np.float16)\n",
        "\n",
        "    # Allocate a new array for the batch of output-signals.\n",
        "    y_shape = (batch_size, num_y_signal)\n",
        "    y_batch = np.zeros(shape=y_shape, dtype=np.float16)\n",
        "\n",
        "    #print(x_batch.shape, y_batch.shape, X_train_scale.shape, Y_train_scale.shape) #debugging\n",
        "    \n",
        "    # Create Sequence for sliding window\n",
        "    seq = []\n",
        "    for i in range(batch_size):\n",
        "        seq.append(i*sequence_length)\n",
        "\n",
        "    # Fill the batch with sequences of data.\n",
        "    for i in range(0,len(seq)-1):\n",
        "\n",
        "        # Copy the sequences of data starting at this index.\n",
        "        x_batch[i] = X_train_scale[0][seq[i]:seq[i]+sequence_length][:]\n",
        "        y_batch[i] = Y_train_scale[0][seq[i]+sequence_length-1][:]\n",
        "        #print(\"iteration: \",i,\"-OK\") #debugging\n",
        "    \n",
        "    #print(x_batch.shape,y_batch.shape) #debbuging\n",
        "    return (x_batch, y_batch)"
      ],
      "execution_count": 0,
      "outputs": []
    },
    {
      "cell_type": "code",
      "metadata": {
        "id": "NXy9oDIIGrk9",
        "colab_type": "code",
        "colab": {}
      },
      "source": [
        "def batch_generator(batch_size, sequence_length, num_x_signal, num_y_signal,  X_train_scale, Y_train_scale):\n",
        "    \n",
        "    X_reshaped , Y_reshaped =  batch_reshape(sequence_length, X_train_scale, Y_train_scale, num_x_signal, num_y_signal)\n",
        "    \n",
        "    # Infinite loop.\n",
        "    while True:\n",
        "        # Allocate a new array for the batch of input-signals.\n",
        "        x_shape = (batch_size, sequence_length, num_x_signal)\n",
        "        x_batch = np.zeros(shape=x_shape, dtype=np.float16)\n",
        "\n",
        "        # Allocate a new array for the batch of output-signals.\n",
        "        y_shape = (batch_size, num_y_signal)\n",
        "        y_batch = np.zeros(shape=y_shape, dtype=np.float16)\n",
        "\n",
        "        # Fill the batch with random continuous sequences of data.\n",
        "\n",
        "        # Get a random start-index.\n",
        "        # This points somewhere into the training-data.\n",
        "        idx = np.random.randint(X_reshaped.shape[0] - batch_size)\n",
        "\n",
        "        # Copy the sequences of data starting at this index.\n",
        "        x_batch = X_reshaped[idx:idx+batch_size]\n",
        "        y_batch = Y_reshaped[idx:idx+batch_size]\n",
        "\n",
        "        \n",
        "        yield (x_batch, y_batch)\n",
        "        "
      ],
      "execution_count": 0,
      "outputs": []
    },
    {
      "cell_type": "code",
      "metadata": {
        "id": "Gnz3xCE7GrlA",
        "colab_type": "code",
        "colab": {}
      },
      "source": [
        "num_x_signal = 13 # number of input features\n",
        "num_y_signal = 2 # number of label classes\n",
        "\n",
        "batch_size = 60 # tunning parameter\n",
        "sequence_length = 25 #Amount of time-steps to look back for the 10 minute prediction"
      ],
      "execution_count": 0,
      "outputs": []
    },
    {
      "cell_type": "code",
      "metadata": {
        "id": "lA36zFWiGrlC",
        "colab_type": "code",
        "colab": {}
      },
      "source": [
        "generator = batch_generator(batch_size,sequence_length, num_x_signal, num_y_signal, X_train_scale, Y_train_scale)"
      ],
      "execution_count": 0,
      "outputs": []
    },
    {
      "cell_type": "code",
      "metadata": {
        "id": "COv6FxyqGrlF",
        "colab_type": "code",
        "outputId": "f85d5867-3874-48bb-f0ba-0609a7f54b94",
        "colab": {
          "base_uri": "https://localhost:8080/",
          "height": 35
        }
      },
      "source": [
        "x_batch, y_batch = next(generator)\n",
        "\n",
        "print(x_batch.shape, y_batch.shape)"
      ],
      "execution_count": 19,
      "outputs": [
        {
          "output_type": "stream",
          "text": [
            "(60, 25, 13) (60, 2)\n"
          ],
          "name": "stdout"
        }
      ]
    },
    {
      "cell_type": "code",
      "metadata": {
        "id": "ydYAC0cqGrlI",
        "colab_type": "code",
        "colab": {}
      },
      "source": [
        "def batch_validation(sequence_length, num_x_signal, num_y_signal, X_test_scale, Y_test_scale):\n",
        "    \"\"\"\n",
        "    Generator function for creating random batches of validation data.\n",
        "    \"\"\"\n",
        "    # Allocate a new array for the batch of input-signals.\n",
        "    batch_size_val = X_test_scale.shape[1] - sequence_length \n",
        "\n",
        "    x_shape = (batch_size_val, sequence_length, num_x_signal)\n",
        "    x_batch = np.zeros(shape=x_shape, dtype=np.float16)\n",
        "\n",
        "    # Allocate a new array for the batch of output-signals.\n",
        "    y_shape = (batch_size_val, num_y_signal)\n",
        "    y_batch = np.zeros(shape=y_shape, dtype=np.float16)\n",
        "\n",
        "    # Fill the batch with random sequences of data.\n",
        "    for i in range(batch_size_val):\n",
        "\n",
        "        # Copy the sequences of data starting at this index.\n",
        "        x_batch[i] = X_test_scale[0][i:i+sequence_length][:]\n",
        "        y_batch[i] = Y_test_scale[0][i+sequence_length-1][:]\n",
        "\n",
        "\n",
        "    return (x_batch, y_batch)"
      ],
      "execution_count": 0,
      "outputs": []
    },
    {
      "cell_type": "code",
      "metadata": {
        "id": "_LmBMOraGrlM",
        "colab_type": "code",
        "outputId": "1fa0af13-5e77-4297-9952-225f04990c2e",
        "colab": {
          "base_uri": "https://localhost:8080/",
          "height": 35
        }
      },
      "source": [
        "X_val, Y_val = batch_validation(sequence_length,num_x_signal, num_y_signal, X_test_scale, Y_test_scale)\n",
        "print(X_val.shape, Y_val.shape)"
      ],
      "execution_count": 21,
      "outputs": [
        {
          "output_type": "stream",
          "text": [
            "(208, 25, 13) (208, 2)\n"
          ],
          "name": "stdout"
        }
      ]
    },
    {
      "cell_type": "code",
      "metadata": {
        "id": "x39IvOs-GrlQ",
        "colab_type": "code",
        "colab": {}
      },
      "source": [
        "validation_data = (X_val, Y_val)"
      ],
      "execution_count": 0,
      "outputs": []
    },
    {
      "cell_type": "markdown",
      "metadata": {
        "id": "UgsnKwYUGrlS",
        "colab_type": "text"
      },
      "source": [
        "## Create Recurrent Neural Network"
      ]
    },
    {
      "cell_type": "code",
      "metadata": {
        "id": "JqbFT1W9GrlT",
        "colab_type": "code",
        "outputId": "5dd7d724-f3c5-402a-8da0-55f2dd97c2b5",
        "colab": {
          "base_uri": "https://localhost:8080/",
          "height": 329
        }
      },
      "source": [
        "from tensorflow.keras.layers import BatchNormalization\n",
        "#from keras.constraints import max_norm\n",
        "\n",
        "model = Sequential()\n",
        "model.add(LSTM(units=200,\n",
        "              return_sequences=True,\n",
        "              input_shape=(None,num_x_signal,)))\n",
        "model.add(LSTM(units=150, return_sequences=False))\n",
        "model.add(Dropout(0.4))\n",
        "model.add(BatchNormalization())\n",
        "model.add(Dense(num_y_signal,activation='linear'))\n",
        "model.summary()"
      ],
      "execution_count": 24,
      "outputs": [
        {
          "output_type": "stream",
          "text": [
            "Model: \"sequential_1\"\n",
            "_________________________________________________________________\n",
            "Layer (type)                 Output Shape              Param #   \n",
            "=================================================================\n",
            "lstm_2 (LSTM)                (None, None, 200)         171200    \n",
            "_________________________________________________________________\n",
            "lstm_3 (LSTM)                (None, 150)               210600    \n",
            "_________________________________________________________________\n",
            "dropout_1 (Dropout)          (None, 150)               0         \n",
            "_________________________________________________________________\n",
            "batch_normalization (BatchNo (None, 150)               600       \n",
            "_________________________________________________________________\n",
            "dense (Dense)                (None, 2)                 302       \n",
            "=================================================================\n",
            "Total params: 382,702\n",
            "Trainable params: 382,402\n",
            "Non-trainable params: 300\n",
            "_________________________________________________________________\n"
          ],
          "name": "stdout"
        }
      ]
    },
    {
      "cell_type": "code",
      "metadata": {
        "id": "BipzhXW4GrlW",
        "colab_type": "code",
        "colab": {}
      },
      "source": [
        "optimizer = Adam(lr=1e-3)\n",
        "\n",
        "model.compile(loss=losses.logcosh, optimizer=optimizer)\n",
        "\n",
        "model.save_weights('initial_weights.h5')"
      ],
      "execution_count": 0,
      "outputs": []
    },
    {
      "cell_type": "code",
      "metadata": {
        "id": "1SEdgxu7Grla",
        "colab_type": "code",
        "colab": {}
      },
      "source": [
        "#es = EarlyStopping(monitor='val_loss', patience=10, verbose=1, min_delta=1e-6)\n",
        "\n",
        "model_file = \"DailySummary_LSTM 2 layers_Relu_MinMax_Modified_LogCosh.h5\"\n",
        "\n",
        "mc = ModelCheckpoint(model_file, monitor=\"val_loss\", mode=\"min\", save_best_only=True)\n",
        "\n",
        "reduce_lr = ReduceLROnPlateau(monitor='val_loss', factor=0.2,\n",
        "                              patience=4, min_lr=1e-4)"
      ],
      "execution_count": 0,
      "outputs": []
    },
    {
      "cell_type": "code",
      "metadata": {
        "id": "zcKjlC6CGrlc",
        "colab_type": "code",
        "colab": {}
      },
      "source": [
        "%%time\n",
        "model.load_weights('initial_weights.h5')\n",
        "\n",
        "history = model.fit_generator(generator=generator,\n",
        "                    epochs=100,\n",
        "                    steps_per_epoch=50,\n",
        "                    validation_data=validation_data,\n",
        "                    callbacks=[ mc, reduce_lr])\n",
        "                    #callbacks=[es, reduce_lr])"
      ],
      "execution_count": 0,
      "outputs": []
    },
    {
      "cell_type": "code",
      "metadata": {
        "id": "z0DLvjZsGrlg",
        "colab_type": "code",
        "colab": {}
      },
      "source": [
        "hist_df = pd.DataFrame(history.history) \n",
        "hist_csv_file = model_file.split('.')[0]+'.csv'\n",
        "with open(hist_csv_file, mode='w') as f:\n",
        "    hist_df.to_csv(f)"
      ],
      "execution_count": 0,
      "outputs": []
    },
    {
      "cell_type": "code",
      "metadata": {
        "id": "ggN4PiECHYFg",
        "colab_type": "code",
        "colab": {}
      },
      "source": [
        "# Save history and H5 file to drive\n",
        "saveDrivePath = '/content/drive/My Drive/Capstone/Approach/Step3DailySummary/Best_model'\n",
        "h5FilePath = '/content/'+ model_file\n",
        "historyFilePath = '/content/' + hist_csv_file\n",
        "initialWeightsFilePath = '/content/initial_weights.h5'\n",
        "\n",
        "os.system(\"mv \"+'\"'+h5FilePath+'\"' + \" \" + '\"'+saveDrivePath+'\"' )\n",
        "os.system(\"mv \"+'\"'+historyFilePath+'\"' + \" \" + '\"'+saveDrivePath+'\"' )\n",
        "os.system(\"mv \"+'\"'+initialWeightsFilePath+'\"' + \" \" + '\"'+saveDrivePath+'\"' )"
      ],
      "execution_count": 0,
      "outputs": []
    },
    {
      "cell_type": "code",
      "metadata": {
        "id": "o-YFo1m8Grlj",
        "colab_type": "code",
        "outputId": "e6072a60-f19b-46af-a5b4-679189ea2345",
        "colab": {
          "base_uri": "https://localhost:8080/",
          "height": 295
        }
      },
      "source": [
        "plt.plot(history.history['val_loss'])\n",
        "plt.title('model_Val_loss')\n",
        "plt.ylabel('Val loss')\n",
        "plt.xlabel('epoch')\n",
        "plt.legend(['test'], loc='upper left')\n",
        "plt.show()"
      ],
      "execution_count": 30,
      "outputs": [
        {
          "output_type": "display_data",
          "data": {
            "image/png": "[encoded data removed]",
            "text/plain": [
              "<Figure size 432x288 with 1 Axes>"
            ]
          },
          "metadata": {
            "tags": []
          }
        }
      ]
    },
    {
      "cell_type": "code",
      "metadata": {
        "id": "VfRcee_sGrlm",
        "colab_type": "code",
        "outputId": "14ac17c4-61ac-4609-f418-6a6251e4a6bb",
        "colab": {
          "base_uri": "https://localhost:8080/",
          "height": 295
        }
      },
      "source": [
        "plt.plot(history.history['loss'])\n",
        "plt.title('model_loss')\n",
        "plt.ylabel('loss')\n",
        "plt.xlabel('epoch')\n",
        "plt.legend(['train'], loc='upper left')\n",
        "plt.show()"
      ],
      "execution_count": 31,
      "outputs": [
        {
          "output_type": "display_data",
          "data": {
            "image/png": "[encoded data removed]",
            "text/plain": [
              "<Figure size 432x288 with 1 Axes>"
            ]
          },
          "metadata": {
            "tags": []
          }
        }
      ]
    },
    {
      "cell_type": "code",
      "metadata": {
        "id": "0XCXzmN8Grlp",
        "colab_type": "code",
        "outputId": "cc0ace9a-b049-4c08-f2d3-1ebb332bc59c",
        "colab": {
          "base_uri": "https://localhost:8080/",
          "height": 35
        }
      },
      "source": [
        "# The algorithm uses data of the previous 25 time-steps to forecast the following day into the future. \n",
        "\n",
        "#Create a Dataframe to hold the true predicted values for each day.\n",
        "DailySummaryPredictionData = DaySummary.copy()\n",
        "DailySummaryPredictionData = DailySummaryPredictionData.loc[:,['High','Low']]\n",
        "DailySummaryPredictionData = DailySummaryPredictionData[:-1]\n",
        "DailySummaryPredictionData = DailySummaryPredictionData[n_train_rows:]# Filter only the testing days\n",
        "DailySummaryPredictionData = DailySummaryPredictionData[25:]\n",
        "DailySummaryPredictionData.shape"
      ],
      "execution_count": 32,
      "outputs": [
        {
          "output_type": "execute_result",
          "data": {
            "text/plain": [
              "(208, 2)"
            ]
          },
          "metadata": {
            "tags": []
          },
          "execution_count": 32
        }
      ]
    },
    {
      "cell_type": "code",
      "metadata": {
        "id": "zXqQZLLeGrlt",
        "colab_type": "code",
        "colab": {}
      },
      "source": [
        "def predict(modelFilename, predictionsData):\n",
        "\n",
        "    column_name = modelFilename.split('.')[0]\n",
        "    #Step 1 - Create the columns to hold predictions\n",
        "\n",
        "    predictionsData[column_name + \"_High\"] = np.nan\n",
        "    predictionsData[column_name + \"_Low\"] = np.nan\n",
        "    \n",
        "    #Step 2 - load model for prediction   \n",
        "    loaded_model = model\n",
        "    \n",
        "    #Step39 - Generate the prediction   \n",
        "    ypred = loaded_model.predict(X_val)\n",
        "    ypred_rescaled = y_scaler.inverse_transform(ypred)\n",
        "\n",
        "    #Step 10 - Copy the prediction values to the correspondent day in the predictionData\n",
        "    predictionsData[column_name + \"_High\"] = ypred_rescaled[:,0]\n",
        "    predictionsData[column_name + \"_Low\"] = ypred_rescaled[:,1]\n",
        "    \n",
        "    return(predictionsData)"
      ],
      "execution_count": 0,
      "outputs": []
    },
    {
      "cell_type": "code",
      "metadata": {
        "id": "2fU5aP2blsO5",
        "colab_type": "code",
        "colab": {}
      },
      "source": [
        "modelfilePath = saveDrivePath + '/' + model_file"
      ],
      "execution_count": 0,
      "outputs": []
    },
    {
      "cell_type": "code",
      "metadata": {
        "id": "buQxqlFRGrly",
        "colab_type": "code",
        "colab": {}
      },
      "source": [
        "predict(modelfilePath, DailySummaryPredictionData)"
      ],
      "execution_count": 0,
      "outputs": []
    },
    {
      "cell_type": "code",
      "metadata": {
        "id": "s49G2-L4wTOK",
        "colab_type": "code",
        "colab": {}
      },
      "source": [
        "prediction_file = 'predictions_' +  model_file.split('.')[0] + '.csv'\n",
        "prediction_filePath = '/content/' + prediction_file\n",
        "DailySummaryPredictionData.to_csv(prediction_file)"
      ],
      "execution_count": 0,
      "outputs": []
    },
    {
      "cell_type": "code",
      "metadata": {
        "id": "VgoSnGyswuJV",
        "colab_type": "code",
        "colab": {}
      },
      "source": [
        "destinantionDir = '/content/drive/My Drive/Capstone/Approach/Step3DailySummary/Predictions_csv/Best_model'\n",
        "oscmd = \"mv \"+'\"'+prediction_filePath+'\"' + \" \" + '\"'+destinantionDir+'\"' \n",
        "oscmd"
      ],
      "execution_count": 0,
      "outputs": []
    },
    {
      "cell_type": "code",
      "metadata": {
        "id": "XSHWElxsIWJV",
        "colab_type": "code",
        "colab": {}
      },
      "source": [
        "os.system(oscmd)"
      ],
      "execution_count": 0,
      "outputs": []
    },
    {
      "cell_type": "code",
      "metadata": {
        "id": "ud9T-Pf5Ia0E",
        "colab_type": "code",
        "colab": {}
      },
      "source": [
        "DailySummaryPredictionData.head()"
      ],
      "execution_count": 0,
      "outputs": []
    },
    {
      "cell_type": "code",
      "metadata": {
        "id": "lkNJiS0OlZKm",
        "colab_type": "code",
        "outputId": "666d2e6b-fd82-4bca-b828-d70600086922",
        "colab": {
          "base_uri": "https://localhost:8080/",
          "height": 35
        }
      },
      "source": [
        "from sklearn.metrics import mean_squared_error\n",
        "\n",
        "mse_High = mean_squared_error(DailySummaryPredictionData.iloc[:,0],DailySummaryPredictionData.iloc[:,2])\n",
        "mse_High"
      ],
      "execution_count": 40,
      "outputs": [
        {
          "output_type": "execute_result",
          "data": {
            "text/plain": [
              "243646.92714078602"
            ]
          },
          "metadata": {
            "tags": []
          },
          "execution_count": 40
        }
      ]
    },
    {
      "cell_type": "code",
      "metadata": {
        "id": "4PzzkcCpl2qD",
        "colab_type": "code",
        "outputId": "53f75812-9910-4736-d9da-75eb3c07182d",
        "colab": {
          "base_uri": "https://localhost:8080/",
          "height": 35
        }
      },
      "source": [
        "mse_Low = mean_squared_error(DailySummaryPredictionData.iloc[:,1],DailySummaryPredictionData.iloc[:,3])\n",
        "mse_Low"
      ],
      "execution_count": 41,
      "outputs": [
        {
          "output_type": "execute_result",
          "data": {
            "text/plain": [
              "314755.28389723063"
            ]
          },
          "metadata": {
            "tags": []
          },
          "execution_count": 41
        }
      ]
    },
    {
      "cell_type": "code",
      "metadata": {
        "id": "Q6BAyOVFl-4-",
        "colab_type": "code",
        "colab": {}
      },
      "source": [
        ""
      ],
      "execution_count": 0,
      "outputs": []
    }
  ]
}